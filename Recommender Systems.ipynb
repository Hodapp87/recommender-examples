{
 "cells": [
  {
   "cell_type": "markdown",
   "metadata": {},
   "source": [
    "# Recommender Systems, Part 1 (Collaborative Filtering)\n",
    "- Author: Chris Hodapp\n",
    "- Date: 2018-02-04"
   ]
  },
  {
   "cell_type": "markdown",
   "metadata": {},
   "source": [
    "## TODO\n",
    "\n",
    "- Update a lot of text (I am not using movielens 100k anymore)\n",
    "- Try FP32 or even FP16 in the SVD matrices to save some space. With the regularization constants, the limited range of FP16 shouldn't be problematic, though I don't know if the updates would regularly end up below epsilon.\n",
    "- Try https://numba.pydata.org/ perhaps (both Slope One & SVD)"
   ]
  },
  {
   "cell_type": "markdown",
   "metadata": {},
   "source": [
    "The aim of this notebook is to briefly explain *recommender systems*, show some specific examples of them, and to demonstrate simple implementations of them in Python/NumPy/Pandas.\n",
    "\n",
    "Recommender systems are quite a broad subject on their own.  This notebook focuses on movie recommendations from explicit ratings. That is, it's focusing on the scenario in which:\n",
    "\n",
    "- There are a large number of users and a large number of movies.\n",
    "- Users have supplied ratings on certain movies.\n",
    "- The movies are different for each user, and the vast majority of users have rated only a tiny fraction of the overall movies.\n",
    "\n",
    "The goal is to make predictions based on this data, such as:\n",
    "\n",
    "- How a given user will most likely rate specific movies they have not seen before\n",
    "- What \"new\" movies a system might recommended to them\n",
    "\n",
    "This uses the [MovieLens 20M](https://grouplens.org/datasets/movielens/20m/) dataset, which (as the name suggests) has 20,000,000 movie ratings. You can download it yourself, and probably should if you wish to run the code.\n",
    "\n",
    "I refer several times in this notebook to the free textbook [Mining of Massive Datasets](http://www.mmds.org/) (hereafter, just \"MMDS\"), mostly to chapter 9, *Recommendation Systems*.  It's worth reading if you want to know more.\n",
    "\n",
    "## Motivation\n",
    "\n",
    "I try to clearly implement everything I talk about here, and be specific about the method. Some other work I read in this area had me rather frustrated with its tendency to completely ignore implementation details that are both critical and very difficult for an outsider (i.e. me) to articulate questions on, and this is something I try to avoid. I'd like for you to be able to execute it yourself, to build intuition on how the math works, to understand why the code implements the math as it does, and to have good starting points for further research.\n",
    "\n",
    "In the Slope One explanation, this means I give perhaps a needless amount of detail behind the linear algebra implementation, but maybe some will find it valuable (besides just me when I try to read this code in 3 months).\n",
    "\n",
    "## Organization\n",
    "\n",
    "I start out by loading the movielens data (just the parts I need), exploring it briefly, and converting it to a form we need.\n",
    "\n",
    "Following that, I start with a simple (but surprisingly effective) collaborative filtering model, Slope One Predictors.  I explain it, implement it with some linear algebra shortcuts, and run it on the data.\n",
    "\n",
    "I go from here to a slightly more complicated method (the badly-named \"SVD\" algorithm) that is based on matrix completion using matrix decomposition. I explain this, implement it with gradient-descent, and run it on the data. I also use this as an opportunity to visualize a latent feature space that the model learns.\n",
    "\n",
    "Near the end, I show how to run the same basic algorithms in [scikit-surprise](http://surpriselib.com/) rather than implement them by hand."
   ]
  },
  {
   "cell_type": "markdown",
   "metadata": {},
   "source": [
    "# Dependencies & Setup\n",
    "\n",
    "Download [movielens 100k](https://grouplens.org/datasets/movielens/100k/) and uncompress it in the local directory. There should be a `ml-100k` folder.\n",
    "\n",
    "For Python dependencies, everything I need is imported below: pandas, numpy, matplotlib, and scikit-learn."
   ]
  },
  {
   "cell_type": "code",
   "execution_count": 1,
   "metadata": {
    "collapsed": true
   },
   "outputs": [],
   "source": [
    "import matplotlib.pyplot as plt\n",
    "import numpy as np\n",
    "import pandas as pd\n",
    "import scipy.sparse\n",
    "import sklearn.model_selection"
   ]
  },
  {
   "cell_type": "markdown",
   "metadata": {},
   "source": [
    "# Loading data\n",
    "\n",
    "I don't explain this in detail. This is just standard calls in [Pandas](https://pandas.pydata.org/) and little details that are boring but essential:"
   ]
  },
  {
   "cell_type": "code",
   "execution_count": 2,
   "metadata": {
    "collapsed": true
   },
   "outputs": [],
   "source": [
    "ml = pd.read_csv(\"ml-20m/ratings.csv\",\n",
    "                 header=0,\n",
    "                 dtype={\"user_id\": np.int32, \"movie_id\": np.int32, \"rating\": np.float32, \"time\": np.int64},\n",
    "                 names=(\"user_id\", \"movie_id\", \"rating\", \"time\"))\n",
    "# Convert Unix seconds to a Pandas timestamp:\n",
    "ml[\"time\"] = pd.to_datetime(ml[\"time\"], unit=\"s\")"
   ]
  },
  {
   "cell_type": "markdown",
   "metadata": {},
   "source": [
    "Below is just to inspect that data appears to be okay:"
   ]
  },
  {
   "cell_type": "code",
   "execution_count": 3,
   "metadata": {},
   "outputs": [
    {
     "name": "stdout",
     "output_type": "stream",
     "text": [
      "<class 'pandas.core.frame.DataFrame'>\n",
      "RangeIndex: 20000263 entries, 0 to 20000262\n",
      "Data columns (total 4 columns):\n",
      "user_id     int32\n",
      "movie_id    int32\n",
      "rating      float32\n",
      "time        datetime64[ns]\n",
      "dtypes: datetime64[ns](1), float32(1), int32(2)\n",
      "memory usage: 381.5 MB\n"
     ]
    }
   ],
   "source": [
    "ml.info()"
   ]
  },
  {
   "cell_type": "code",
   "execution_count": 4,
   "metadata": {},
   "outputs": [
    {
     "data": {
      "text/html": [
       "<div>\n",
       "<style>\n",
       "    .dataframe thead tr:only-child th {\n",
       "        text-align: right;\n",
       "    }\n",
       "\n",
       "    .dataframe thead th {\n",
       "        text-align: left;\n",
       "    }\n",
       "\n",
       "    .dataframe tbody tr th {\n",
       "        vertical-align: top;\n",
       "    }\n",
       "</style>\n",
       "<table border=\"1\" class=\"dataframe\">\n",
       "  <thead>\n",
       "    <tr style=\"text-align: right;\">\n",
       "      <th></th>\n",
       "      <th>user_id</th>\n",
       "      <th>movie_id</th>\n",
       "      <th>rating</th>\n",
       "    </tr>\n",
       "  </thead>\n",
       "  <tbody>\n",
       "    <tr>\n",
       "      <th>count</th>\n",
       "      <td>2.000026e+07</td>\n",
       "      <td>2.000026e+07</td>\n",
       "      <td>2.000026e+07</td>\n",
       "    </tr>\n",
       "    <tr>\n",
       "      <th>mean</th>\n",
       "      <td>6.904587e+04</td>\n",
       "      <td>9.041567e+03</td>\n",
       "      <td>3.494030e+00</td>\n",
       "    </tr>\n",
       "    <tr>\n",
       "      <th>std</th>\n",
       "      <td>4.003863e+04</td>\n",
       "      <td>1.978948e+04</td>\n",
       "      <td>9.998490e-01</td>\n",
       "    </tr>\n",
       "    <tr>\n",
       "      <th>min</th>\n",
       "      <td>1.000000e+00</td>\n",
       "      <td>1.000000e+00</td>\n",
       "      <td>5.000000e-01</td>\n",
       "    </tr>\n",
       "    <tr>\n",
       "      <th>25%</th>\n",
       "      <td>3.439500e+04</td>\n",
       "      <td>9.020000e+02</td>\n",
       "      <td>3.000000e+00</td>\n",
       "    </tr>\n",
       "    <tr>\n",
       "      <th>50%</th>\n",
       "      <td>6.914100e+04</td>\n",
       "      <td>2.167000e+03</td>\n",
       "      <td>3.500000e+00</td>\n",
       "    </tr>\n",
       "    <tr>\n",
       "      <th>75%</th>\n",
       "      <td>1.036370e+05</td>\n",
       "      <td>4.770000e+03</td>\n",
       "      <td>4.000000e+00</td>\n",
       "    </tr>\n",
       "    <tr>\n",
       "      <th>max</th>\n",
       "      <td>1.384930e+05</td>\n",
       "      <td>1.312620e+05</td>\n",
       "      <td>5.000000e+00</td>\n",
       "    </tr>\n",
       "  </tbody>\n",
       "</table>\n",
       "</div>"
      ],
      "text/plain": [
       "            user_id      movie_id        rating\n",
       "count  2.000026e+07  2.000026e+07  2.000026e+07\n",
       "mean   6.904587e+04  9.041567e+03  3.494030e+00\n",
       "std    4.003863e+04  1.978948e+04  9.998490e-01\n",
       "min    1.000000e+00  1.000000e+00  5.000000e-01\n",
       "25%    3.439500e+04  9.020000e+02  3.000000e+00\n",
       "50%    6.914100e+04  2.167000e+03  3.500000e+00\n",
       "75%    1.036370e+05  4.770000e+03  4.000000e+00\n",
       "max    1.384930e+05  1.312620e+05  5.000000e+00"
      ]
     },
     "execution_count": 4,
     "metadata": {},
     "output_type": "execute_result"
    }
   ],
   "source": [
    "ml.describe()"
   ]
  },
  {
   "cell_type": "code",
   "execution_count": 5,
   "metadata": {},
   "outputs": [
    {
     "data": {
      "text/html": [
       "<div>\n",
       "<style>\n",
       "    .dataframe thead tr:only-child th {\n",
       "        text-align: right;\n",
       "    }\n",
       "\n",
       "    .dataframe thead th {\n",
       "        text-align: left;\n",
       "    }\n",
       "\n",
       "    .dataframe tbody tr th {\n",
       "        vertical-align: top;\n",
       "    }\n",
       "</style>\n",
       "<table border=\"1\" class=\"dataframe\">\n",
       "  <thead>\n",
       "    <tr style=\"text-align: right;\">\n",
       "      <th></th>\n",
       "      <th>user_id</th>\n",
       "      <th>movie_id</th>\n",
       "      <th>rating</th>\n",
       "      <th>time</th>\n",
       "    </tr>\n",
       "  </thead>\n",
       "  <tbody>\n",
       "    <tr>\n",
       "      <th>0</th>\n",
       "      <td>1</td>\n",
       "      <td>2</td>\n",
       "      <td>3.5</td>\n",
       "      <td>2005-04-02 23:53:47</td>\n",
       "    </tr>\n",
       "    <tr>\n",
       "      <th>1</th>\n",
       "      <td>1</td>\n",
       "      <td>29</td>\n",
       "      <td>3.5</td>\n",
       "      <td>2005-04-02 23:31:16</td>\n",
       "    </tr>\n",
       "    <tr>\n",
       "      <th>2</th>\n",
       "      <td>1</td>\n",
       "      <td>32</td>\n",
       "      <td>3.5</td>\n",
       "      <td>2005-04-02 23:33:39</td>\n",
       "    </tr>\n",
       "    <tr>\n",
       "      <th>3</th>\n",
       "      <td>1</td>\n",
       "      <td>47</td>\n",
       "      <td>3.5</td>\n",
       "      <td>2005-04-02 23:32:07</td>\n",
       "    </tr>\n",
       "    <tr>\n",
       "      <th>4</th>\n",
       "      <td>1</td>\n",
       "      <td>50</td>\n",
       "      <td>3.5</td>\n",
       "      <td>2005-04-02 23:29:40</td>\n",
       "    </tr>\n",
       "    <tr>\n",
       "      <th>5</th>\n",
       "      <td>1</td>\n",
       "      <td>112</td>\n",
       "      <td>3.5</td>\n",
       "      <td>2004-09-10 03:09:00</td>\n",
       "    </tr>\n",
       "    <tr>\n",
       "      <th>6</th>\n",
       "      <td>1</td>\n",
       "      <td>151</td>\n",
       "      <td>4.0</td>\n",
       "      <td>2004-09-10 03:08:54</td>\n",
       "    </tr>\n",
       "    <tr>\n",
       "      <th>7</th>\n",
       "      <td>1</td>\n",
       "      <td>223</td>\n",
       "      <td>4.0</td>\n",
       "      <td>2005-04-02 23:46:13</td>\n",
       "    </tr>\n",
       "    <tr>\n",
       "      <th>8</th>\n",
       "      <td>1</td>\n",
       "      <td>253</td>\n",
       "      <td>4.0</td>\n",
       "      <td>2005-04-02 23:35:40</td>\n",
       "    </tr>\n",
       "    <tr>\n",
       "      <th>9</th>\n",
       "      <td>1</td>\n",
       "      <td>260</td>\n",
       "      <td>4.0</td>\n",
       "      <td>2005-04-02 23:33:46</td>\n",
       "    </tr>\n",
       "  </tbody>\n",
       "</table>\n",
       "</div>"
      ],
      "text/plain": [
       "   user_id  movie_id  rating                time\n",
       "0        1         2     3.5 2005-04-02 23:53:47\n",
       "1        1        29     3.5 2005-04-02 23:31:16\n",
       "2        1        32     3.5 2005-04-02 23:33:39\n",
       "3        1        47     3.5 2005-04-02 23:32:07\n",
       "4        1        50     3.5 2005-04-02 23:29:40\n",
       "5        1       112     3.5 2004-09-10 03:09:00\n",
       "6        1       151     4.0 2004-09-10 03:08:54\n",
       "7        1       223     4.0 2005-04-02 23:46:13\n",
       "8        1       253     4.0 2005-04-02 23:35:40\n",
       "9        1       260     4.0 2005-04-02 23:33:46"
      ]
     },
     "execution_count": 5,
     "metadata": {},
     "output_type": "execute_result"
    }
   ],
   "source": [
    "ml[:10]"
   ]
  },
  {
   "cell_type": "code",
   "execution_count": 6,
   "metadata": {
    "scrolled": true
   },
   "outputs": [
    {
     "data": {
      "text/plain": [
       "(138494, 131263, 18179137922)"
      ]
     },
     "execution_count": 6,
     "metadata": {},
     "output_type": "execute_result"
    }
   ],
   "source": [
    "max_user  = int(ml[\"user_id\"].max() + 1)\n",
    "max_movie = int(ml[\"movie_id\"].max() + 1)\n",
    "max_user, max_movie, max_user * max_movie"
   ]
  },
  {
   "cell_type": "markdown",
   "metadata": {},
   "source": [
    "Computing what percent we have of all 'possible' ratings (i.e. every single movie & every single user), this data is rather sparse:"
   ]
  },
  {
   "cell_type": "code",
   "execution_count": 7,
   "metadata": {},
   "outputs": [
    {
     "name": "stdout",
     "output_type": "stream",
     "text": [
      "0.11%\n"
     ]
    }
   ],
   "source": [
    "print(\"%.2f%%\" % (100 * ml.shape[0] / (max_user * max_movie)))"
   ]
  },
  {
   "cell_type": "markdown",
   "metadata": {},
   "source": [
    "## Aggregation\n",
    "\n",
    "This is partly just to explore the data a little, and partly because we need to aggregate some information to use in models later - like the number of ratings for each movie, and each movie's average rating.\n",
    "\n",
    "The dataset includes a lot of per-movie information too, but we only bother with the title so far:"
   ]
  },
  {
   "cell_type": "code",
   "execution_count": 8,
   "metadata": {
    "collapsed": true
   },
   "outputs": [],
   "source": [
    "names = pd.read_csv(\n",
    "    \"ml-20m/movies.csv\", header=0,\n",
    "    encoding = \"ISO-8859-1\", index_col=0,\n",
    "    names=(\"movie_id\", \"movie_title\"), usecols=[0,1])"
   ]
  },
  {
   "cell_type": "code",
   "execution_count": 9,
   "metadata": {
    "collapsed": true
   },
   "outputs": [],
   "source": [
    "movie_group = ml.groupby(\"movie_id\")\n",
    "movie_stats = names.\\\n",
    "    join(movie_group.size().rename(\"num_ratings\")).\\\n",
    "    join(movie_group.mean()[\"rating\"].rename(\"avg_rating\"))"
   ]
  },
  {
   "cell_type": "markdown",
   "metadata": {},
   "source": [
    "Sorting by number of ratings and taking the top 25, this looks pretty sensible:"
   ]
  },
  {
   "cell_type": "code",
   "execution_count": 10,
   "metadata": {},
   "outputs": [
    {
     "data": {
      "text/html": [
       "<div>\n",
       "<style>\n",
       "    .dataframe thead tr:only-child th {\n",
       "        text-align: right;\n",
       "    }\n",
       "\n",
       "    .dataframe thead th {\n",
       "        text-align: left;\n",
       "    }\n",
       "\n",
       "    .dataframe tbody tr th {\n",
       "        vertical-align: top;\n",
       "    }\n",
       "</style>\n",
       "<table border=\"1\" class=\"dataframe\">\n",
       "  <thead>\n",
       "    <tr style=\"text-align: right;\">\n",
       "      <th></th>\n",
       "      <th>movie_title</th>\n",
       "      <th>num_ratings</th>\n",
       "      <th>avg_rating</th>\n",
       "    </tr>\n",
       "    <tr>\n",
       "      <th>movie_id</th>\n",
       "      <th></th>\n",
       "      <th></th>\n",
       "      <th></th>\n",
       "    </tr>\n",
       "  </thead>\n",
       "  <tbody>\n",
       "    <tr>\n",
       "      <th>296</th>\n",
       "      <td>Pulp Fiction (1994)</td>\n",
       "      <td>67310.0</td>\n",
       "      <td>4.174231</td>\n",
       "    </tr>\n",
       "    <tr>\n",
       "      <th>356</th>\n",
       "      <td>Forrest Gump (1994)</td>\n",
       "      <td>66172.0</td>\n",
       "      <td>4.029000</td>\n",
       "    </tr>\n",
       "    <tr>\n",
       "      <th>318</th>\n",
       "      <td>Shawshank Redemption, The (1994)</td>\n",
       "      <td>63366.0</td>\n",
       "      <td>4.446990</td>\n",
       "    </tr>\n",
       "    <tr>\n",
       "      <th>593</th>\n",
       "      <td>Silence of the Lambs, The (1991)</td>\n",
       "      <td>63299.0</td>\n",
       "      <td>4.177056</td>\n",
       "    </tr>\n",
       "    <tr>\n",
       "      <th>480</th>\n",
       "      <td>Jurassic Park (1993)</td>\n",
       "      <td>59715.0</td>\n",
       "      <td>3.664741</td>\n",
       "    </tr>\n",
       "    <tr>\n",
       "      <th>260</th>\n",
       "      <td>Star Wars: Episode IV - A New Hope (1977)</td>\n",
       "      <td>54502.0</td>\n",
       "      <td>4.190672</td>\n",
       "    </tr>\n",
       "    <tr>\n",
       "      <th>110</th>\n",
       "      <td>Braveheart (1995)</td>\n",
       "      <td>53769.0</td>\n",
       "      <td>4.042534</td>\n",
       "    </tr>\n",
       "    <tr>\n",
       "      <th>589</th>\n",
       "      <td>Terminator 2: Judgment Day (1991)</td>\n",
       "      <td>52244.0</td>\n",
       "      <td>3.931954</td>\n",
       "    </tr>\n",
       "    <tr>\n",
       "      <th>2571</th>\n",
       "      <td>Matrix, The (1999)</td>\n",
       "      <td>51334.0</td>\n",
       "      <td>4.187186</td>\n",
       "    </tr>\n",
       "    <tr>\n",
       "      <th>527</th>\n",
       "      <td>Schindler's List (1993)</td>\n",
       "      <td>50054.0</td>\n",
       "      <td>4.310175</td>\n",
       "    </tr>\n",
       "    <tr>\n",
       "      <th>1</th>\n",
       "      <td>Toy Story (1995)</td>\n",
       "      <td>49695.0</td>\n",
       "      <td>3.921240</td>\n",
       "    </tr>\n",
       "    <tr>\n",
       "      <th>457</th>\n",
       "      <td>Fugitive, The (1993)</td>\n",
       "      <td>49581.0</td>\n",
       "      <td>3.985690</td>\n",
       "    </tr>\n",
       "    <tr>\n",
       "      <th>150</th>\n",
       "      <td>Apollo 13 (1995)</td>\n",
       "      <td>47777.0</td>\n",
       "      <td>3.868598</td>\n",
       "    </tr>\n",
       "    <tr>\n",
       "      <th>780</th>\n",
       "      <td>Independence Day (a.k.a. ID4) (1996)</td>\n",
       "      <td>47048.0</td>\n",
       "      <td>3.370962</td>\n",
       "    </tr>\n",
       "    <tr>\n",
       "      <th>50</th>\n",
       "      <td>Usual Suspects, The (1995)</td>\n",
       "      <td>47006.0</td>\n",
       "      <td>4.334372</td>\n",
       "    </tr>\n",
       "    <tr>\n",
       "      <th>1210</th>\n",
       "      <td>Star Wars: Episode VI - Return of the Jedi (1983)</td>\n",
       "      <td>46839.0</td>\n",
       "      <td>4.004622</td>\n",
       "    </tr>\n",
       "    <tr>\n",
       "      <th>592</th>\n",
       "      <td>Batman (1989)</td>\n",
       "      <td>46054.0</td>\n",
       "      <td>3.402365</td>\n",
       "    </tr>\n",
       "    <tr>\n",
       "      <th>1196</th>\n",
       "      <td>Star Wars: Episode V - The Empire Strikes Back...</td>\n",
       "      <td>45313.0</td>\n",
       "      <td>4.188202</td>\n",
       "    </tr>\n",
       "    <tr>\n",
       "      <th>2858</th>\n",
       "      <td>American Beauty (1999)</td>\n",
       "      <td>44987.0</td>\n",
       "      <td>4.155934</td>\n",
       "    </tr>\n",
       "    <tr>\n",
       "      <th>32</th>\n",
       "      <td>Twelve Monkeys (a.k.a. 12 Monkeys) (1995)</td>\n",
       "      <td>44980.0</td>\n",
       "      <td>3.898055</td>\n",
       "    </tr>\n",
       "    <tr>\n",
       "      <th>590</th>\n",
       "      <td>Dances with Wolves (1990)</td>\n",
       "      <td>44208.0</td>\n",
       "      <td>3.728465</td>\n",
       "    </tr>\n",
       "    <tr>\n",
       "      <th>1198</th>\n",
       "      <td>Raiders of the Lost Ark (Indiana Jones and the...</td>\n",
       "      <td>43295.0</td>\n",
       "      <td>4.219009</td>\n",
       "    </tr>\n",
       "    <tr>\n",
       "      <th>608</th>\n",
       "      <td>Fargo (1996)</td>\n",
       "      <td>43272.0</td>\n",
       "      <td>4.112359</td>\n",
       "    </tr>\n",
       "    <tr>\n",
       "      <th>47</th>\n",
       "      <td>Seven (a.k.a. Se7en) (1995)</td>\n",
       "      <td>43249.0</td>\n",
       "      <td>4.053493</td>\n",
       "    </tr>\n",
       "    <tr>\n",
       "      <th>380</th>\n",
       "      <td>True Lies (1994)</td>\n",
       "      <td>43159.0</td>\n",
       "      <td>3.491149</td>\n",
       "    </tr>\n",
       "  </tbody>\n",
       "</table>\n",
       "</div>"
      ],
      "text/plain": [
       "                                                movie_title  num_ratings  \\\n",
       "movie_id                                                                   \n",
       "296                                     Pulp Fiction (1994)      67310.0   \n",
       "356                                     Forrest Gump (1994)      66172.0   \n",
       "318                        Shawshank Redemption, The (1994)      63366.0   \n",
       "593                        Silence of the Lambs, The (1991)      63299.0   \n",
       "480                                    Jurassic Park (1993)      59715.0   \n",
       "260               Star Wars: Episode IV - A New Hope (1977)      54502.0   \n",
       "110                                       Braveheart (1995)      53769.0   \n",
       "589                       Terminator 2: Judgment Day (1991)      52244.0   \n",
       "2571                                     Matrix, The (1999)      51334.0   \n",
       "527                                 Schindler's List (1993)      50054.0   \n",
       "1                                          Toy Story (1995)      49695.0   \n",
       "457                                    Fugitive, The (1993)      49581.0   \n",
       "150                                        Apollo 13 (1995)      47777.0   \n",
       "780                    Independence Day (a.k.a. ID4) (1996)      47048.0   \n",
       "50                               Usual Suspects, The (1995)      47006.0   \n",
       "1210      Star Wars: Episode VI - Return of the Jedi (1983)      46839.0   \n",
       "592                                           Batman (1989)      46054.0   \n",
       "1196      Star Wars: Episode V - The Empire Strikes Back...      45313.0   \n",
       "2858                                 American Beauty (1999)      44987.0   \n",
       "32                Twelve Monkeys (a.k.a. 12 Monkeys) (1995)      44980.0   \n",
       "590                               Dances with Wolves (1990)      44208.0   \n",
       "1198      Raiders of the Lost Ark (Indiana Jones and the...      43295.0   \n",
       "608                                            Fargo (1996)      43272.0   \n",
       "47                              Seven (a.k.a. Se7en) (1995)      43249.0   \n",
       "380                                        True Lies (1994)      43159.0   \n",
       "\n",
       "          avg_rating  \n",
       "movie_id              \n",
       "296         4.174231  \n",
       "356         4.029000  \n",
       "318         4.446990  \n",
       "593         4.177056  \n",
       "480         3.664741  \n",
       "260         4.190672  \n",
       "110         4.042534  \n",
       "589         3.931954  \n",
       "2571        4.187186  \n",
       "527         4.310175  \n",
       "1           3.921240  \n",
       "457         3.985690  \n",
       "150         3.868598  \n",
       "780         3.370962  \n",
       "50          4.334372  \n",
       "1210        4.004622  \n",
       "592         3.402365  \n",
       "1196        4.188202  \n",
       "2858        4.155934  \n",
       "32          3.898055  \n",
       "590         3.728465  \n",
       "1198        4.219009  \n",
       "608         4.112359  \n",
       "47          4.053493  \n",
       "380         3.491149  "
      ]
     },
     "execution_count": 10,
     "metadata": {},
     "output_type": "execute_result"
    }
   ],
   "source": [
    "movie_stats.sort_values(\"num_ratings\", ascending=False)[:25]"
   ]
  },
  {
   "cell_type": "markdown",
   "metadata": {},
   "source": [
    "# Utility Matrix"
   ]
  },
  {
   "cell_type": "markdown",
   "metadata": {},
   "source": [
    "The notion of the *utility matrix* comes up in many methods as a way of\n",
    "expressing the ratings data. For one thing, this opens up the data to an\n",
    "array of linear algebra operations (such as matrix multiplication and\n",
    "[SVD](https://en.wikipedia.org/wiki/Singular-value_decomposition)) that\n",
    "are useful for transforming the data, meaningful for interpreting it,\n",
    "very readily-available and optimized, and provide a common language for\n",
    "discussing and analyzing what we are actually doing to the data.  (For some\n",
    "examples of this, check out section 11.3.2 in [MMDS](http://www.mmds.org/).)\n",
    "\n",
    "In a utility matrix, each row represents one user, each column represents\n",
    "one item (a movie, in our case), and each element represents a user's\n",
    "rating of an item.  If we have $n$ users and $m$ movies, then this a\n",
    "$n \\times m$ matrix $U$ for which $U_{k,i}$ is user $k$'s rating for\n",
    "movie $i$ - assuming we've numbered our users and our movies.\n",
    "\n",
    "Users have typically rated only a fraction of movies, and so most of\n",
    "the elements of this matrix are unknown. Algorithms represent this\n",
    "in different ways; the use of [sparse matrices](https://en.wikipedia.org/wiki/Sparse_matrix)\n",
    "where a value of 0 signifies unknown information is common.\n",
    "\n",
    "Some algorithms involve constructing the utility matrix explicitly and\n",
    "doing matrix operations directly on it (the approach to Slope One that\n",
    "we do later works this way). Other methods just use it as a method of\n",
    "analyzing something from a linear algebra standpoint, but dispense with\n",
    "the need for an explicit matrix within the algorithm (the \"SVD\" method\n",
    "later does this)."
   ]
  },
  {
   "cell_type": "code",
   "execution_count": 11,
   "metadata": {
    "collapsed": true
   },
   "outputs": [],
   "source": [
    "ml_train, ml_test = sklearn.model_selection.train_test_split(ml, test_size=0.25, random_state=12345678)"
   ]
  },
  {
   "cell_type": "markdown",
   "metadata": {},
   "source": [
    "We'll convert to a utility matrix, for which the naive way is creating a dense matrix:\n",
    "\n",
    "```python\n",
    "m = np.zeros((max_user, max_movie))\n",
    "m[df[\"user_id\"], df[\"movie_id\"]] = df[\"rating\"]\n",
    "```\n",
    "\n",
    "...but we'd be dealing with a 18,179,137,922-element matrix that's a little bit unusable here (at least it is for me since I only have 32 GB RAM), so we'll use [sparse matrices](https://docs.scipy.org/doc/scipy/reference/sparse.html)."
   ]
  },
  {
   "cell_type": "code",
   "execution_count": 12,
   "metadata": {
    "collapsed": true
   },
   "outputs": [],
   "source": [
    "def df2mat(df):\n",
    "    #m = np.zeros((max_user, max_movie))\n",
    "    #m[df[\"user_id\"], df[\"movie_id\"]] = df[\"rating\"]\n",
    "    #return m, m > 0\n",
    "    m = scipy.sparse.coo_matrix(\n",
    "        (df[\"rating\"], (df[\"user_id\"], df[\"movie_id\"])),\n",
    "        shape=(max_user, max_movie),\n",
    "        dtype=np.float32).tocsc()\n",
    "    return m, m > 0\n",
    "ml_mat_train, ml_mask_train = df2mat(ml_train)\n",
    "ml_mat_test,  ml_mask_test  = df2mat(ml_test)"
   ]
  },
  {
   "cell_type": "markdown",
   "metadata": {},
   "source": [
    "We need a mask for some later steps, hence the m > 0 step; ratings go only from 1 to 5, so values of 0 are automatically unknown/missing data."
   ]
  },
  {
   "cell_type": "code",
   "execution_count": 13,
   "metadata": {},
   "outputs": [
    {
     "data": {
      "text/plain": [
       "<138494x131263 sparse matrix of type '<class 'numpy.float32'>'\n",
       "\twith 15000197 stored elements in Compressed Sparse Column format>"
      ]
     },
     "execution_count": 13,
     "metadata": {},
     "output_type": "execute_result"
    }
   ],
   "source": [
    "ml_mat_train"
   ]
  },
  {
   "cell_type": "code",
   "execution_count": 14,
   "metadata": {},
   "outputs": [
    {
     "data": {
      "text/plain": [
       "[array([[ 0.,  0.,  0., ...,  0.,  0.,  0.]], dtype=float32),\n",
       " array([[ 0.,  0.,  0., ...,  0.,  0.,  0.]], dtype=float32),\n",
       " array([[ 0.,  0.,  0., ...,  0.,  0.,  0.]], dtype=float32),\n",
       " array([[ 0.,  4.,  0., ...,  0.,  0.,  0.]], dtype=float32),\n",
       " array([[ 0.,  0.,  0., ...,  0.,  0.,  0.]], dtype=float32),\n",
       " array([[ 0.,  0.,  3., ...,  0.,  0.,  0.]], dtype=float32),\n",
       " array([[ 0.,  5.,  0., ...,  0.,  0.,  0.]], dtype=float32),\n",
       " array([[ 0.,  0.,  0., ...,  0.,  0.,  0.]], dtype=float32),\n",
       " array([[ 0.,  4.,  0., ...,  0.,  0.,  0.]], dtype=float32),\n",
       " array([[ 0.,  0.,  0., ...,  0.,  0.,  0.]], dtype=float32)]"
      ]
     },
     "execution_count": 14,
     "metadata": {},
     "output_type": "execute_result"
    }
   ],
   "source": [
    "[ml_mat_train.getrow(i).toarray()[:20] for i in range(10)]"
   ]
  },
  {
   "cell_type": "code",
   "execution_count": 15,
   "metadata": {},
   "outputs": [
    {
     "data": {
      "text/html": [
       "<div>\n",
       "<style>\n",
       "    .dataframe thead tr:only-child th {\n",
       "        text-align: right;\n",
       "    }\n",
       "\n",
       "    .dataframe thead th {\n",
       "        text-align: left;\n",
       "    }\n",
       "\n",
       "    .dataframe tbody tr th {\n",
       "        vertical-align: top;\n",
       "    }\n",
       "</style>\n",
       "<table border=\"1\" class=\"dataframe\">\n",
       "  <thead>\n",
       "    <tr style=\"text-align: right;\">\n",
       "      <th></th>\n",
       "      <th>user_id</th>\n",
       "      <th>movie_id</th>\n",
       "      <th>rating</th>\n",
       "      <th>time</th>\n",
       "    </tr>\n",
       "  </thead>\n",
       "  <tbody>\n",
       "    <tr>\n",
       "      <th>13746918</th>\n",
       "      <td>94976</td>\n",
       "      <td>7371</td>\n",
       "      <td>4.5</td>\n",
       "      <td>2009-11-04 05:51:26</td>\n",
       "    </tr>\n",
       "    <tr>\n",
       "      <th>15855529</th>\n",
       "      <td>109701</td>\n",
       "      <td>1968</td>\n",
       "      <td>3.0</td>\n",
       "      <td>2002-04-08 06:04:50</td>\n",
       "    </tr>\n",
       "    <tr>\n",
       "      <th>1479530</th>\n",
       "      <td>10017</td>\n",
       "      <td>2248</td>\n",
       "      <td>3.0</td>\n",
       "      <td>2014-09-11 12:05:12</td>\n",
       "    </tr>\n",
       "    <tr>\n",
       "      <th>16438705</th>\n",
       "      <td>113806</td>\n",
       "      <td>1210</td>\n",
       "      <td>4.5</td>\n",
       "      <td>2005-04-24 19:15:31</td>\n",
       "    </tr>\n",
       "    <tr>\n",
       "      <th>17014834</th>\n",
       "      <td>117701</td>\n",
       "      <td>4223</td>\n",
       "      <td>4.0</td>\n",
       "      <td>2001-07-18 07:45:15</td>\n",
       "    </tr>\n",
       "    <tr>\n",
       "      <th>2626824</th>\n",
       "      <td>17818</td>\n",
       "      <td>7325</td>\n",
       "      <td>2.5</td>\n",
       "      <td>2008-10-29 14:49:13</td>\n",
       "    </tr>\n",
       "    <tr>\n",
       "      <th>10604986</th>\n",
       "      <td>73349</td>\n",
       "      <td>29</td>\n",
       "      <td>5.0</td>\n",
       "      <td>2000-10-25 20:55:56</td>\n",
       "    </tr>\n",
       "    <tr>\n",
       "      <th>15311014</th>\n",
       "      <td>105846</td>\n",
       "      <td>4226</td>\n",
       "      <td>4.5</td>\n",
       "      <td>2004-07-30 18:12:26</td>\n",
       "    </tr>\n",
       "    <tr>\n",
       "      <th>8514776</th>\n",
       "      <td>58812</td>\n",
       "      <td>1285</td>\n",
       "      <td>4.0</td>\n",
       "      <td>2000-04-24 20:39:46</td>\n",
       "    </tr>\n",
       "    <tr>\n",
       "      <th>3802643</th>\n",
       "      <td>25919</td>\n",
       "      <td>3275</td>\n",
       "      <td>2.5</td>\n",
       "      <td>2010-06-18 00:48:40</td>\n",
       "    </tr>\n",
       "  </tbody>\n",
       "</table>\n",
       "</div>"
      ],
      "text/plain": [
       "          user_id  movie_id  rating                time\n",
       "13746918    94976      7371     4.5 2009-11-04 05:51:26\n",
       "15855529   109701      1968     3.0 2002-04-08 06:04:50\n",
       "1479530     10017      2248     3.0 2014-09-11 12:05:12\n",
       "16438705   113806      1210     4.5 2005-04-24 19:15:31\n",
       "17014834   117701      4223     4.0 2001-07-18 07:45:15\n",
       "2626824     17818      7325     2.5 2008-10-29 14:49:13\n",
       "10604986    73349        29     5.0 2000-10-25 20:55:56\n",
       "15311014   105846      4226     4.5 2004-07-30 18:12:26\n",
       "8514776     58812      1285     4.0 2000-04-24 20:39:46\n",
       "3802643     25919      3275     2.5 2010-06-18 00:48:40"
      ]
     },
     "execution_count": 15,
     "metadata": {},
     "output_type": "execute_result"
    }
   ],
   "source": [
    "ml_train[:10]"
   ]
  },
  {
   "cell_type": "markdown",
   "metadata": {},
   "source": [
    "Just to show that the matrix does in fact have the same data:"
   ]
  },
  {
   "cell_type": "code",
   "execution_count": 16,
   "metadata": {},
   "outputs": [
    {
     "data": {
      "text/plain": [
       "[94976, 109701, 10017, 113806, 117701, 17818, 73349, 105846, 58812, 25919]"
      ]
     },
     "execution_count": 16,
     "metadata": {},
     "output_type": "execute_result"
    }
   ],
   "source": [
    "user_ids = list(ml_train.iloc[:10].user_id)\n",
    "user_ids"
   ]
  },
  {
   "cell_type": "code",
   "execution_count": 17,
   "metadata": {},
   "outputs": [
    {
     "data": {
      "text/plain": [
       "[7371, 1968, 2248, 1210, 4223, 7325, 29, 4226, 1285, 3275]"
      ]
     },
     "execution_count": 17,
     "metadata": {},
     "output_type": "execute_result"
    }
   ],
   "source": [
    "movie_ids = list(ml_train.iloc[:10].movie_id)\n",
    "movie_ids"
   ]
  },
  {
   "cell_type": "code",
   "execution_count": 18,
   "metadata": {},
   "outputs": [
    {
     "data": {
      "text/plain": [
       "[4.5, 3.0, 3.0, 4.5, 4.0, 2.5, 5.0, 4.5, 4.0, 2.5]"
      ]
     },
     "execution_count": 18,
     "metadata": {},
     "output_type": "execute_result"
    }
   ],
   "source": [
    "[ml_mat_train.getcol(i).getrow(u).toarray()[0,0] for u,i in zip(user_ids, movie_ids)]"
   ]
  },
  {
   "cell_type": "code",
   "execution_count": 19,
   "metadata": {},
   "outputs": [
    {
     "data": {
      "text/plain": [
       "[4.5, 3.0, 3.0, 4.5, 4.0, 2.5, 5.0, 4.5, 4.0, 2.5]"
      ]
     },
     "execution_count": 19,
     "metadata": {},
     "output_type": "execute_result"
    }
   ],
   "source": [
    "list(ml_train.iloc[:10].rating)"
   ]
  },
  {
   "cell_type": "markdown",
   "metadata": {},
   "source": [
    "Okay, enough of that; we can begin with some actual predictions."
   ]
  },
  {
   "cell_type": "markdown",
   "metadata": {},
   "source": [
    "# Slope One Predictors"
   ]
  },
  {
   "cell_type": "markdown",
   "metadata": {},
   "source": [
    "We'll begin with a method of predicting ratings that is wonderfully\n",
    "simple to understand, equally simple to implement, very fast,\n",
    "and surprisingly effective.  This method is described in the\n",
    "paper [Slope One Predictors for Online Rating-Based Collaborative Filtering](https://arxiv.org/pdf/cs/0702144v1.pdf). They can be computed given\n",
    "just some arithmetic over the dataset we just loaded.\n",
    "Neither linear algebra nor calculus nor numerical\n",
    "approximation is needed, while all three are needed for the\n",
    "[next method](#\"SVD\"-algorithm).\n",
    "\n",
    "I'll give a contrived example below to explain them.\n",
    "\n",
    "Consider a user Bob.  Bob is enthusiastic, but has rather simple\n",
    "tastes: he mostly just watches Clint Eastwood movies.  In fact, he's\n",
    "watched and rated nearly all of them, and basically nothing else.\n",
    "\n",
    "Now, suppose we want to predict how much Bob will like something\n",
    "completely different and unheard of (to him at least), like... I don't\n",
    "know... *Citizen Kane*.\n",
    "\n",
    "Here's Slope One in a nutshell:\n",
    "\n",
    "1. First, find the users who rated both *Citizen Kane* and any of\n",
    "   the Clint Eastwood movies that Bob rated.\n",
    "2. Now, for each movie that comes up above, compute a _deviation_\n",
    "   which tells us: On average, how differently (i.e. how much higher\n",
    "   or lower) did users rate Citizen Kane compared to this movie?  (For\n",
    "   instance, we'll have a number for how *Citizen Kane* was rated\n",
    "   compared to *Dirty Harry*, and perhaps it's +0.6 - meaning that on\n",
    "   average, users who rated both movies rated *Citizen Kane* about 0.6\n",
    "   stars above *Dirty Harry*.  We'd have another deviation for\n",
    "   *Citizen Kane* compared to *Gran Torino*, another for *Citizen\n",
    "   Kane* compared to *The Good, the Bad and the Ugly*, and so on - for\n",
    "   every movie that Bob rated, provided that other users who rated\n",
    "   *Citizen Kane* also rated the movie.)\n",
    "3. If that deviation between *Citizen Kane* and *Dirty Harry* was\n",
    "   +0.6, it's reasonable that adding 0.6 from Bob's rating on *Dirty\n",
    "   Harry* would give one prediction of how Bob might rate *Citizen\n",
    "   Kane*.  We can then generate more predictions based on the ratings\n",
    "   he gave the other movies - anything for which we could compute a\n",
    "   deviation.\n",
    "4. To turn this to a single prediction, we could just average all\n",
    "   those predictions together."
   ]
  },
  {
   "cell_type": "markdown",
   "metadata": {},
   "source": [
    "Now, I'm not sure that Bob is an actual user in this dataset, but I\n",
    "will go through these steps with some real data. I arbitrarily chose\n",
    "user 28812:"
   ]
  },
  {
   "cell_type": "code",
   "execution_count": 20,
   "metadata": {
    "collapsed": true
   },
   "outputs": [],
   "source": [
    "pd.set_option('display.max_rows', 10)"
   ]
  },
  {
   "cell_type": "code",
   "execution_count": 21,
   "metadata": {
    "scrolled": false
   },
   "outputs": [
    {
     "data": {
      "text/html": [
       "<div>\n",
       "<style>\n",
       "    .dataframe thead tr:only-child th {\n",
       "        text-align: right;\n",
       "    }\n",
       "\n",
       "    .dataframe thead th {\n",
       "        text-align: left;\n",
       "    }\n",
       "\n",
       "    .dataframe tbody tr th {\n",
       "        vertical-align: top;\n",
       "    }\n",
       "</style>\n",
       "<table border=\"1\" class=\"dataframe\">\n",
       "  <thead>\n",
       "    <tr style=\"text-align: right;\">\n",
       "      <th></th>\n",
       "      <th>movie_title</th>\n",
       "      <th>user_id</th>\n",
       "      <th>movie_id</th>\n",
       "      <th>rating</th>\n",
       "      <th>time</th>\n",
       "    </tr>\n",
       "  </thead>\n",
       "  <tbody>\n",
       "    <tr>\n",
       "      <th>4229884</th>\n",
       "      <td>Jumanji (1995)</td>\n",
       "      <td>28812</td>\n",
       "      <td>2</td>\n",
       "      <td>5.0</td>\n",
       "      <td>1996-09-23 02:08:39</td>\n",
       "    </tr>\n",
       "    <tr>\n",
       "      <th>4229885</th>\n",
       "      <td>Heat (1995)</td>\n",
       "      <td>28812</td>\n",
       "      <td>6</td>\n",
       "      <td>4.0</td>\n",
       "      <td>1996-09-23 02:11:00</td>\n",
       "    </tr>\n",
       "    <tr>\n",
       "      <th>4229886</th>\n",
       "      <td>GoldenEye (1995)</td>\n",
       "      <td>28812</td>\n",
       "      <td>10</td>\n",
       "      <td>5.0</td>\n",
       "      <td>1996-09-23 02:03:57</td>\n",
       "    </tr>\n",
       "    <tr>\n",
       "      <th>4229887</th>\n",
       "      <td>Ace Ventura: When Nature Calls (1995)</td>\n",
       "      <td>28812</td>\n",
       "      <td>19</td>\n",
       "      <td>4.0</td>\n",
       "      <td>1996-09-23 02:05:59</td>\n",
       "    </tr>\n",
       "    <tr>\n",
       "      <th>4229888</th>\n",
       "      <td>Get Shorty (1995)</td>\n",
       "      <td>28812</td>\n",
       "      <td>21</td>\n",
       "      <td>5.0</td>\n",
       "      <td>1996-09-23 02:05:59</td>\n",
       "    </tr>\n",
       "    <tr>\n",
       "      <th>...</th>\n",
       "      <td>...</td>\n",
       "      <td>...</td>\n",
       "      <td>...</td>\n",
       "      <td>...</td>\n",
       "      <td>...</td>\n",
       "    </tr>\n",
       "    <tr>\n",
       "      <th>4229953</th>\n",
       "      <td>Beauty and the Beast (1991)</td>\n",
       "      <td>28812</td>\n",
       "      <td>595</td>\n",
       "      <td>4.0</td>\n",
       "      <td>1996-09-23 02:03:07</td>\n",
       "    </tr>\n",
       "    <tr>\n",
       "      <th>4229954</th>\n",
       "      <td>Pretty Woman (1990)</td>\n",
       "      <td>28812</td>\n",
       "      <td>597</td>\n",
       "      <td>5.0</td>\n",
       "      <td>1996-09-23 02:06:22</td>\n",
       "    </tr>\n",
       "    <tr>\n",
       "      <th>4229957</th>\n",
       "      <td>Independence Day (a.k.a. ID4) (1996)</td>\n",
       "      <td>28812</td>\n",
       "      <td>780</td>\n",
       "      <td>5.0</td>\n",
       "      <td>1996-09-23 02:09:02</td>\n",
       "    </tr>\n",
       "    <tr>\n",
       "      <th>4229959</th>\n",
       "      <td>Phenomenon (1996)</td>\n",
       "      <td>28812</td>\n",
       "      <td>802</td>\n",
       "      <td>5.0</td>\n",
       "      <td>1996-09-23 02:09:02</td>\n",
       "    </tr>\n",
       "    <tr>\n",
       "      <th>4229960</th>\n",
       "      <td>Die Hard (1988)</td>\n",
       "      <td>28812</td>\n",
       "      <td>1036</td>\n",
       "      <td>5.0</td>\n",
       "      <td>1996-09-23 02:09:02</td>\n",
       "    </tr>\n",
       "  </tbody>\n",
       "</table>\n",
       "<p>67 rows × 5 columns</p>\n",
       "</div>"
      ],
      "text/plain": [
       "                                   movie_title  user_id  movie_id  rating  \\\n",
       "4229884                         Jumanji (1995)    28812         2     5.0   \n",
       "4229885                            Heat (1995)    28812         6     4.0   \n",
       "4229886                       GoldenEye (1995)    28812        10     5.0   \n",
       "4229887  Ace Ventura: When Nature Calls (1995)    28812        19     4.0   \n",
       "4229888                      Get Shorty (1995)    28812        21     5.0   \n",
       "...                                        ...      ...       ...     ...   \n",
       "4229953            Beauty and the Beast (1991)    28812       595     4.0   \n",
       "4229954                    Pretty Woman (1990)    28812       597     5.0   \n",
       "4229957   Independence Day (a.k.a. ID4) (1996)    28812       780     5.0   \n",
       "4229959                      Phenomenon (1996)    28812       802     5.0   \n",
       "4229960                        Die Hard (1988)    28812      1036     5.0   \n",
       "\n",
       "                       time  \n",
       "4229884 1996-09-23 02:08:39  \n",
       "4229885 1996-09-23 02:11:00  \n",
       "4229886 1996-09-23 02:03:57  \n",
       "4229887 1996-09-23 02:05:59  \n",
       "4229888 1996-09-23 02:05:59  \n",
       "...                     ...  \n",
       "4229953 1996-09-23 02:03:07  \n",
       "4229954 1996-09-23 02:06:22  \n",
       "4229957 1996-09-23 02:09:02  \n",
       "4229959 1996-09-23 02:09:02  \n",
       "4229960 1996-09-23 02:09:02  \n",
       "\n",
       "[67 rows x 5 columns]"
      ]
     },
     "execution_count": 21,
     "metadata": {},
     "output_type": "execute_result"
    }
   ],
   "source": [
    "target_user = 28812\n",
    "names.merge(ml_train[ml_train.user_id == target_user], right_on=\"movie_id\", left_index=True)"
   ]
  },
  {
   "cell_type": "code",
   "execution_count": 22,
   "metadata": {},
   "outputs": [
    {
     "data": {
      "text/html": [
       "<div>\n",
       "<style>\n",
       "    .dataframe thead tr:only-child th {\n",
       "        text-align: right;\n",
       "    }\n",
       "\n",
       "    .dataframe thead th {\n",
       "        text-align: left;\n",
       "    }\n",
       "\n",
       "    .dataframe tbody tr th {\n",
       "        vertical-align: top;\n",
       "    }\n",
       "</style>\n",
       "<table border=\"1\" class=\"dataframe\">\n",
       "  <thead>\n",
       "    <tr style=\"text-align: right;\">\n",
       "      <th></th>\n",
       "      <th>movie_title</th>\n",
       "      <th>user_id</th>\n",
       "      <th>movie_id</th>\n",
       "      <th>rating</th>\n",
       "      <th>time</th>\n",
       "    </tr>\n",
       "  </thead>\n",
       "  <tbody>\n",
       "    <tr>\n",
       "      <th>4229904</th>\n",
       "      <td>Disclosure (1994)</td>\n",
       "      <td>28812</td>\n",
       "      <td>225</td>\n",
       "      <td>5.0</td>\n",
       "      <td>1996-09-23 02:05:34</td>\n",
       "    </tr>\n",
       "    <tr>\n",
       "      <th>4229908</th>\n",
       "      <td>Legends of the Fall (1994)</td>\n",
       "      <td>28812</td>\n",
       "      <td>266</td>\n",
       "      <td>5.0</td>\n",
       "      <td>1996-09-23 02:07:14</td>\n",
       "    </tr>\n",
       "    <tr>\n",
       "      <th>4229921</th>\n",
       "      <td>Clear and Present Danger (1994)</td>\n",
       "      <td>28812</td>\n",
       "      <td>349</td>\n",
       "      <td>4.0</td>\n",
       "      <td>1996-09-23 02:02:38</td>\n",
       "    </tr>\n",
       "    <tr>\n",
       "      <th>4229926</th>\n",
       "      <td>Mask, The (1994)</td>\n",
       "      <td>28812</td>\n",
       "      <td>367</td>\n",
       "      <td>5.0</td>\n",
       "      <td>1996-09-23 02:04:47</td>\n",
       "    </tr>\n",
       "    <tr>\n",
       "      <th>4229934</th>\n",
       "      <td>Coneheads (1993)</td>\n",
       "      <td>28812</td>\n",
       "      <td>435</td>\n",
       "      <td>3.0</td>\n",
       "      <td>1996-09-23 02:07:14</td>\n",
       "    </tr>\n",
       "    <tr>\n",
       "      <th>4229942</th>\n",
       "      <td>Piano, The (1993)</td>\n",
       "      <td>28812</td>\n",
       "      <td>509</td>\n",
       "      <td>4.0</td>\n",
       "      <td>1996-09-23 02:07:38</td>\n",
       "    </tr>\n",
       "    <tr>\n",
       "      <th>4229946</th>\n",
       "      <td>Home Alone (1990)</td>\n",
       "      <td>28812</td>\n",
       "      <td>586</td>\n",
       "      <td>4.0</td>\n",
       "      <td>1996-09-23 02:05:59</td>\n",
       "    </tr>\n",
       "    <tr>\n",
       "      <th>4229955</th>\n",
       "      <td>Mission: Impossible (1996)</td>\n",
       "      <td>28812</td>\n",
       "      <td>648</td>\n",
       "      <td>5.0</td>\n",
       "      <td>1996-09-23 02:09:02</td>\n",
       "    </tr>\n",
       "    <tr>\n",
       "      <th>4229956</th>\n",
       "      <td>Rock, The (1996)</td>\n",
       "      <td>28812</td>\n",
       "      <td>733</td>\n",
       "      <td>5.0</td>\n",
       "      <td>1996-09-23 02:08:39</td>\n",
       "    </tr>\n",
       "    <tr>\n",
       "      <th>4229958</th>\n",
       "      <td>Eraser (1996)</td>\n",
       "      <td>28812</td>\n",
       "      <td>786</td>\n",
       "      <td>5.0</td>\n",
       "      <td>1996-09-23 02:09:02</td>\n",
       "    </tr>\n",
       "  </tbody>\n",
       "</table>\n",
       "</div>"
      ],
      "text/plain": [
       "                             movie_title  user_id  movie_id  rating  \\\n",
       "4229904                Disclosure (1994)    28812       225     5.0   \n",
       "4229908       Legends of the Fall (1994)    28812       266     5.0   \n",
       "4229921  Clear and Present Danger (1994)    28812       349     4.0   \n",
       "4229926                 Mask, The (1994)    28812       367     5.0   \n",
       "4229934                 Coneheads (1993)    28812       435     3.0   \n",
       "4229942                Piano, The (1993)    28812       509     4.0   \n",
       "4229946                Home Alone (1990)    28812       586     4.0   \n",
       "4229955       Mission: Impossible (1996)    28812       648     5.0   \n",
       "4229956                 Rock, The (1996)    28812       733     5.0   \n",
       "4229958                    Eraser (1996)    28812       786     5.0   \n",
       "\n",
       "                       time  \n",
       "4229904 1996-09-23 02:05:34  \n",
       "4229908 1996-09-23 02:07:14  \n",
       "4229921 1996-09-23 02:02:38  \n",
       "4229926 1996-09-23 02:04:47  \n",
       "4229934 1996-09-23 02:07:14  \n",
       "4229942 1996-09-23 02:07:38  \n",
       "4229946 1996-09-23 02:05:59  \n",
       "4229955 1996-09-23 02:09:02  \n",
       "4229956 1996-09-23 02:08:39  \n",
       "4229958 1996-09-23 02:09:02  "
      ]
     },
     "execution_count": 22,
     "metadata": {},
     "output_type": "execute_result"
    }
   ],
   "source": [
    "names.merge(ml_test[ml_test.user_id == target_user], right_on=\"movie_id\", left_index=True)"
   ]
  },
  {
   "cell_type": "markdown",
   "metadata": {},
   "source": [
    "Not completely arbitrarily (it's a movie that's in the test set for this user), I'll pick *Home Alone*, movie ID 586, as the one we want to predict user 28812's rating on:"
   ]
  },
  {
   "cell_type": "code",
   "execution_count": 23,
   "metadata": {
    "collapsed": true
   },
   "outputs": [],
   "source": [
    "target_movie = 586"
   ]
  },
  {
   "cell_type": "code",
   "execution_count": 24,
   "metadata": {},
   "outputs": [
    {
     "data": {
      "text/html": [
       "<div>\n",
       "<style>\n",
       "    .dataframe thead tr:only-child th {\n",
       "        text-align: right;\n",
       "    }\n",
       "\n",
       "    .dataframe thead th {\n",
       "        text-align: left;\n",
       "    }\n",
       "\n",
       "    .dataframe tbody tr th {\n",
       "        vertical-align: top;\n",
       "    }\n",
       "</style>\n",
       "<table border=\"1\" class=\"dataframe\">\n",
       "  <thead>\n",
       "    <tr style=\"text-align: right;\">\n",
       "      <th></th>\n",
       "      <th>movie_title</th>\n",
       "    </tr>\n",
       "    <tr>\n",
       "      <th>movie_id</th>\n",
       "      <th></th>\n",
       "    </tr>\n",
       "  </thead>\n",
       "  <tbody>\n",
       "    <tr>\n",
       "      <th>586</th>\n",
       "      <td>Home Alone (1990)</td>\n",
       "    </tr>\n",
       "  </tbody>\n",
       "</table>\n",
       "</div>"
      ],
      "text/plain": [
       "                movie_title\n",
       "movie_id                   \n",
       "586       Home Alone (1990)"
      ]
     },
     "execution_count": 24,
     "metadata": {},
     "output_type": "execute_result"
    }
   ],
   "source": [
    "names[names.index == target_movie]"
   ]
  },
  {
   "cell_type": "markdown",
   "metadata": {},
   "source": [
    "Now, from step #1 and about half of step #2: What users also rated one of the movies that 28812 rated, *and* rated *Home Alone*?  What were those ratings?"
   ]
  },
  {
   "cell_type": "code",
   "execution_count": 25,
   "metadata": {},
   "outputs": [
    {
     "data": {
      "text/html": [
       "<div>\n",
       "<style>\n",
       "    .dataframe thead tr:only-child th {\n",
       "        text-align: right;\n",
       "    }\n",
       "\n",
       "    .dataframe thead th {\n",
       "        text-align: left;\n",
       "    }\n",
       "\n",
       "    .dataframe tbody tr th {\n",
       "        vertical-align: top;\n",
       "    }\n",
       "</style>\n",
       "<table border=\"1\" class=\"dataframe\">\n",
       "  <thead>\n",
       "    <tr style=\"text-align: right;\">\n",
       "      <th></th>\n",
       "      <th>movie_id_x</th>\n",
       "      <th>user_id</th>\n",
       "      <th>rating_x</th>\n",
       "      <th>rating_y</th>\n",
       "    </tr>\n",
       "  </thead>\n",
       "  <tbody>\n",
       "    <tr>\n",
       "      <th>0</th>\n",
       "      <td>329</td>\n",
       "      <td>17593</td>\n",
       "      <td>3.0</td>\n",
       "      <td>4.0</td>\n",
       "    </tr>\n",
       "    <tr>\n",
       "      <th>1</th>\n",
       "      <td>480</td>\n",
       "      <td>17593</td>\n",
       "      <td>4.0</td>\n",
       "      <td>4.0</td>\n",
       "    </tr>\n",
       "    <tr>\n",
       "      <th>2</th>\n",
       "      <td>588</td>\n",
       "      <td>17593</td>\n",
       "      <td>4.0</td>\n",
       "      <td>4.0</td>\n",
       "    </tr>\n",
       "    <tr>\n",
       "      <th>3</th>\n",
       "      <td>454</td>\n",
       "      <td>17593</td>\n",
       "      <td>4.0</td>\n",
       "      <td>4.0</td>\n",
       "    </tr>\n",
       "    <tr>\n",
       "      <th>4</th>\n",
       "      <td>457</td>\n",
       "      <td>17593</td>\n",
       "      <td>5.0</td>\n",
       "      <td>4.0</td>\n",
       "    </tr>\n",
       "    <tr>\n",
       "      <th>...</th>\n",
       "      <td>...</td>\n",
       "      <td>...</td>\n",
       "      <td>...</td>\n",
       "      <td>...</td>\n",
       "    </tr>\n",
       "    <tr>\n",
       "      <th>522686</th>\n",
       "      <td>296</td>\n",
       "      <td>60765</td>\n",
       "      <td>5.0</td>\n",
       "      <td>5.0</td>\n",
       "    </tr>\n",
       "    <tr>\n",
       "      <th>522687</th>\n",
       "      <td>2</td>\n",
       "      <td>90366</td>\n",
       "      <td>3.0</td>\n",
       "      <td>3.0</td>\n",
       "    </tr>\n",
       "    <tr>\n",
       "      <th>522688</th>\n",
       "      <td>2</td>\n",
       "      <td>126271</td>\n",
       "      <td>3.0</td>\n",
       "      <td>4.0</td>\n",
       "    </tr>\n",
       "    <tr>\n",
       "      <th>522689</th>\n",
       "      <td>595</td>\n",
       "      <td>82760</td>\n",
       "      <td>2.0</td>\n",
       "      <td>4.0</td>\n",
       "    </tr>\n",
       "    <tr>\n",
       "      <th>522690</th>\n",
       "      <td>595</td>\n",
       "      <td>18306</td>\n",
       "      <td>4.5</td>\n",
       "      <td>5.0</td>\n",
       "    </tr>\n",
       "  </tbody>\n",
       "</table>\n",
       "<p>522691 rows × 4 columns</p>\n",
       "</div>"
      ],
      "text/plain": [
       "        movie_id_x  user_id  rating_x  rating_y\n",
       "0              329    17593       3.0       4.0\n",
       "1              480    17593       4.0       4.0\n",
       "2              588    17593       4.0       4.0\n",
       "3              454    17593       4.0       4.0\n",
       "4              457    17593       5.0       4.0\n",
       "...            ...      ...       ...       ...\n",
       "522686         296    60765       5.0       5.0\n",
       "522687           2    90366       3.0       3.0\n",
       "522688           2   126271       3.0       4.0\n",
       "522689         595    82760       2.0       4.0\n",
       "522690         595    18306       4.5       5.0\n",
       "\n",
       "[522691 rows x 4 columns]"
      ]
     },
     "execution_count": 25,
     "metadata": {},
     "output_type": "execute_result"
    }
   ],
   "source": [
    "users_df = ml_train[ml_train.user_id == target_user][[\"movie_id\"]]. \\\n",
    "    merge(ml_train, on=\"movie_id\")[[\"movie_id\", \"user_id\", \"rating\"]]. \\\n",
    "    merge(ml_train[ml_train.movie_id == target_movie], on=\"user_id\"). \\\n",
    "    drop([\"movie_id_y\", \"time\"], axis=1)\n",
    "# time is irrelevant to us, movie_id_y is just always 3175\n",
    "users_df"
   ]
  },
  {
   "cell_type": "markdown",
   "metadata": {},
   "source": [
    "Each row has one user's ratings of both *Home Alone* (it's the `rating_y` column), and some other movie that 28812 rated (`rating_x`), so we can easily find the deviation of each individual rating (how much higher they rated *Home Alone* than the respective movie for `movie_id_x`):"
   ]
  },
  {
   "cell_type": "code",
   "execution_count": 26,
   "metadata": {},
   "outputs": [
    {
     "data": {
      "text/html": [
       "<div>\n",
       "<style>\n",
       "    .dataframe thead tr:only-child th {\n",
       "        text-align: right;\n",
       "    }\n",
       "\n",
       "    .dataframe thead th {\n",
       "        text-align: left;\n",
       "    }\n",
       "\n",
       "    .dataframe tbody tr th {\n",
       "        vertical-align: top;\n",
       "    }\n",
       "</style>\n",
       "<table border=\"1\" class=\"dataframe\">\n",
       "  <thead>\n",
       "    <tr style=\"text-align: right;\">\n",
       "      <th></th>\n",
       "      <th>movie_id_x</th>\n",
       "      <th>user_id</th>\n",
       "      <th>rating_x</th>\n",
       "      <th>rating_y</th>\n",
       "      <th>rating_dev</th>\n",
       "    </tr>\n",
       "  </thead>\n",
       "  <tbody>\n",
       "    <tr>\n",
       "      <th>0</th>\n",
       "      <td>329</td>\n",
       "      <td>17593</td>\n",
       "      <td>3.0</td>\n",
       "      <td>4.0</td>\n",
       "      <td>1.0</td>\n",
       "    </tr>\n",
       "    <tr>\n",
       "      <th>1</th>\n",
       "      <td>480</td>\n",
       "      <td>17593</td>\n",
       "      <td>4.0</td>\n",
       "      <td>4.0</td>\n",
       "      <td>0.0</td>\n",
       "    </tr>\n",
       "    <tr>\n",
       "      <th>2</th>\n",
       "      <td>588</td>\n",
       "      <td>17593</td>\n",
       "      <td>4.0</td>\n",
       "      <td>4.0</td>\n",
       "      <td>0.0</td>\n",
       "    </tr>\n",
       "    <tr>\n",
       "      <th>3</th>\n",
       "      <td>454</td>\n",
       "      <td>17593</td>\n",
       "      <td>4.0</td>\n",
       "      <td>4.0</td>\n",
       "      <td>0.0</td>\n",
       "    </tr>\n",
       "    <tr>\n",
       "      <th>4</th>\n",
       "      <td>457</td>\n",
       "      <td>17593</td>\n",
       "      <td>5.0</td>\n",
       "      <td>4.0</td>\n",
       "      <td>-1.0</td>\n",
       "    </tr>\n",
       "    <tr>\n",
       "      <th>...</th>\n",
       "      <td>...</td>\n",
       "      <td>...</td>\n",
       "      <td>...</td>\n",
       "      <td>...</td>\n",
       "      <td>...</td>\n",
       "    </tr>\n",
       "    <tr>\n",
       "      <th>522686</th>\n",
       "      <td>296</td>\n",
       "      <td>60765</td>\n",
       "      <td>5.0</td>\n",
       "      <td>5.0</td>\n",
       "      <td>0.0</td>\n",
       "    </tr>\n",
       "    <tr>\n",
       "      <th>522687</th>\n",
       "      <td>2</td>\n",
       "      <td>90366</td>\n",
       "      <td>3.0</td>\n",
       "      <td>3.0</td>\n",
       "      <td>0.0</td>\n",
       "    </tr>\n",
       "    <tr>\n",
       "      <th>522688</th>\n",
       "      <td>2</td>\n",
       "      <td>126271</td>\n",
       "      <td>3.0</td>\n",
       "      <td>4.0</td>\n",
       "      <td>1.0</td>\n",
       "    </tr>\n",
       "    <tr>\n",
       "      <th>522689</th>\n",
       "      <td>595</td>\n",
       "      <td>82760</td>\n",
       "      <td>2.0</td>\n",
       "      <td>4.0</td>\n",
       "      <td>2.0</td>\n",
       "    </tr>\n",
       "    <tr>\n",
       "      <th>522690</th>\n",
       "      <td>595</td>\n",
       "      <td>18306</td>\n",
       "      <td>4.5</td>\n",
       "      <td>5.0</td>\n",
       "      <td>0.5</td>\n",
       "    </tr>\n",
       "  </tbody>\n",
       "</table>\n",
       "<p>522691 rows × 5 columns</p>\n",
       "</div>"
      ],
      "text/plain": [
       "        movie_id_x  user_id  rating_x  rating_y  rating_dev\n",
       "0              329    17593       3.0       4.0         1.0\n",
       "1              480    17593       4.0       4.0         0.0\n",
       "2              588    17593       4.0       4.0         0.0\n",
       "3              454    17593       4.0       4.0         0.0\n",
       "4              457    17593       5.0       4.0        -1.0\n",
       "...            ...      ...       ...       ...         ...\n",
       "522686         296    60765       5.0       5.0         0.0\n",
       "522687           2    90366       3.0       3.0         0.0\n",
       "522688           2   126271       3.0       4.0         1.0\n",
       "522689         595    82760       2.0       4.0         2.0\n",
       "522690         595    18306       4.5       5.0         0.5\n",
       "\n",
       "[522691 rows x 5 columns]"
      ]
     },
     "execution_count": 26,
     "metadata": {},
     "output_type": "execute_result"
    }
   ],
   "source": [
    "users_df = users_df.assign(rating_dev = users_df.rating_y - users_df.rating_x)\n",
    "users_df"
   ]
  },
  {
   "cell_type": "markdown",
   "metadata": {},
   "source": [
    "...and then turn this to an average deviation by grouping by movie ID:"
   ]
  },
  {
   "cell_type": "code",
   "execution_count": 27,
   "metadata": {},
   "outputs": [
    {
     "data": {
      "text/html": [
       "<div>\n",
       "<style>\n",
       "    .dataframe thead tr:only-child th {\n",
       "        text-align: right;\n",
       "    }\n",
       "\n",
       "    .dataframe thead th {\n",
       "        text-align: left;\n",
       "    }\n",
       "\n",
       "    .dataframe tbody tr th {\n",
       "        vertical-align: top;\n",
       "    }\n",
       "</style>\n",
       "<table border=\"1\" class=\"dataframe\">\n",
       "  <thead>\n",
       "    <tr style=\"text-align: right;\">\n",
       "      <th></th>\n",
       "      <th>movie_title</th>\n",
       "      <th>rating_dev</th>\n",
       "    </tr>\n",
       "  </thead>\n",
       "  <tbody>\n",
       "    <tr>\n",
       "      <th>2</th>\n",
       "      <td>Jumanji (1995)</td>\n",
       "      <td>-0.045406</td>\n",
       "    </tr>\n",
       "    <tr>\n",
       "      <th>6</th>\n",
       "      <td>Heat (1995)</td>\n",
       "      <td>-0.781207</td>\n",
       "    </tr>\n",
       "    <tr>\n",
       "      <th>10</th>\n",
       "      <td>GoldenEye (1995)</td>\n",
       "      <td>-0.317287</td>\n",
       "    </tr>\n",
       "    <tr>\n",
       "      <th>19</th>\n",
       "      <td>Ace Ventura: When Nature Calls (1995)</td>\n",
       "      <td>0.530155</td>\n",
       "    </tr>\n",
       "    <tr>\n",
       "      <th>21</th>\n",
       "      <td>Get Shorty (1995)</td>\n",
       "      <td>-0.509672</td>\n",
       "    </tr>\n",
       "    <tr>\n",
       "      <th>...</th>\n",
       "      <td>...</td>\n",
       "      <td>...</td>\n",
       "    </tr>\n",
       "    <tr>\n",
       "      <th>595</th>\n",
       "      <td>Beauty and the Beast (1991)</td>\n",
       "      <td>-0.484949</td>\n",
       "    </tr>\n",
       "    <tr>\n",
       "      <th>597</th>\n",
       "      <td>Pretty Woman (1990)</td>\n",
       "      <td>-0.299269</td>\n",
       "    </tr>\n",
       "    <tr>\n",
       "      <th>780</th>\n",
       "      <td>Independence Day (a.k.a. ID4) (1996)</td>\n",
       "      <td>-0.282480</td>\n",
       "    </tr>\n",
       "    <tr>\n",
       "      <th>802</th>\n",
       "      <td>Phenomenon (1996)</td>\n",
       "      <td>-0.252145</td>\n",
       "    </tr>\n",
       "    <tr>\n",
       "      <th>1036</th>\n",
       "      <td>Die Hard (1988)</td>\n",
       "      <td>-0.871772</td>\n",
       "    </tr>\n",
       "  </tbody>\n",
       "</table>\n",
       "<p>67 rows × 2 columns</p>\n",
       "</div>"
      ],
      "text/plain": [
       "                                movie_title  rating_dev\n",
       "2                            Jumanji (1995)   -0.045406\n",
       "6                               Heat (1995)   -0.781207\n",
       "10                         GoldenEye (1995)   -0.317287\n",
       "19    Ace Ventura: When Nature Calls (1995)    0.530155\n",
       "21                        Get Shorty (1995)   -0.509672\n",
       "...                                     ...         ...\n",
       "595             Beauty and the Beast (1991)   -0.484949\n",
       "597                     Pretty Woman (1990)   -0.299269\n",
       "780    Independence Day (a.k.a. ID4) (1996)   -0.282480\n",
       "802                       Phenomenon (1996)   -0.252145\n",
       "1036                        Die Hard (1988)   -0.871772\n",
       "\n",
       "[67 rows x 2 columns]"
      ]
     },
     "execution_count": 27,
     "metadata": {},
     "output_type": "execute_result"
    }
   ],
   "source": [
    "rating_dev = users_df.groupby(\"movie_id_x\").mean()[\"rating_dev\"]\n",
    "names.join(rating_dev, how=\"inner\")"
   ]
  },
  {
   "cell_type": "markdown",
   "metadata": {},
   "source": [
    "We can produce a prediction from each deviation above by adding it to each of user 28812's ratings for the respective movies:"
   ]
  },
  {
   "cell_type": "code",
   "execution_count": 28,
   "metadata": {
    "scrolled": false
   },
   "outputs": [
    {
     "data": {
      "text/html": [
       "<div>\n",
       "<style>\n",
       "    .dataframe thead tr:only-child th {\n",
       "        text-align: right;\n",
       "    }\n",
       "\n",
       "    .dataframe thead th {\n",
       "        text-align: left;\n",
       "    }\n",
       "\n",
       "    .dataframe tbody tr th {\n",
       "        vertical-align: top;\n",
       "    }\n",
       "</style>\n",
       "<table border=\"1\" class=\"dataframe\">\n",
       "  <thead>\n",
       "    <tr style=\"text-align: right;\">\n",
       "      <th></th>\n",
       "      <th>user_id</th>\n",
       "      <th>movie_id</th>\n",
       "      <th>rating</th>\n",
       "      <th>rating_adj</th>\n",
       "      <th>movie_title</th>\n",
       "    </tr>\n",
       "  </thead>\n",
       "  <tbody>\n",
       "    <tr>\n",
       "      <th>4229918</th>\n",
       "      <td>28812</td>\n",
       "      <td>329</td>\n",
       "      <td>4.0</td>\n",
       "      <td>3.767164</td>\n",
       "      <td>Star Trek: Generations (1994)</td>\n",
       "    </tr>\n",
       "    <tr>\n",
       "      <th>4229939</th>\n",
       "      <td>28812</td>\n",
       "      <td>480</td>\n",
       "      <td>5.0</td>\n",
       "      <td>4.400487</td>\n",
       "      <td>Jurassic Park (1993)</td>\n",
       "    </tr>\n",
       "    <tr>\n",
       "      <th>4229948</th>\n",
       "      <td>28812</td>\n",
       "      <td>588</td>\n",
       "      <td>4.0</td>\n",
       "      <td>3.470915</td>\n",
       "      <td>Aladdin (1992)</td>\n",
       "    </tr>\n",
       "    <tr>\n",
       "      <th>4229899</th>\n",
       "      <td>28812</td>\n",
       "      <td>161</td>\n",
       "      <td>4.0</td>\n",
       "      <td>3.415830</td>\n",
       "      <td>Crimson Tide (1995)</td>\n",
       "    </tr>\n",
       "    <tr>\n",
       "      <th>4229914</th>\n",
       "      <td>28812</td>\n",
       "      <td>315</td>\n",
       "      <td>5.0</td>\n",
       "      <td>5.276409</td>\n",
       "      <td>Specialist, The (1994)</td>\n",
       "    </tr>\n",
       "    <tr>\n",
       "      <th>...</th>\n",
       "      <td>...</td>\n",
       "      <td>...</td>\n",
       "      <td>...</td>\n",
       "      <td>...</td>\n",
       "      <td>...</td>\n",
       "    </tr>\n",
       "    <tr>\n",
       "      <th>4229892</th>\n",
       "      <td>28812</td>\n",
       "      <td>50</td>\n",
       "      <td>3.0</td>\n",
       "      <td>1.683520</td>\n",
       "      <td>Usual Suspects, The (1995)</td>\n",
       "    </tr>\n",
       "    <tr>\n",
       "      <th>4229911</th>\n",
       "      <td>28812</td>\n",
       "      <td>292</td>\n",
       "      <td>4.0</td>\n",
       "      <td>3.744914</td>\n",
       "      <td>Outbreak (1995)</td>\n",
       "    </tr>\n",
       "    <tr>\n",
       "      <th>4229912</th>\n",
       "      <td>28812</td>\n",
       "      <td>296</td>\n",
       "      <td>4.0</td>\n",
       "      <td>2.883755</td>\n",
       "      <td>Pulp Fiction (1994)</td>\n",
       "    </tr>\n",
       "    <tr>\n",
       "      <th>4229884</th>\n",
       "      <td>28812</td>\n",
       "      <td>2</td>\n",
       "      <td>5.0</td>\n",
       "      <td>4.954595</td>\n",
       "      <td>Jumanji (1995)</td>\n",
       "    </tr>\n",
       "    <tr>\n",
       "      <th>4229953</th>\n",
       "      <td>28812</td>\n",
       "      <td>595</td>\n",
       "      <td>4.0</td>\n",
       "      <td>3.515051</td>\n",
       "      <td>Beauty and the Beast (1991)</td>\n",
       "    </tr>\n",
       "  </tbody>\n",
       "</table>\n",
       "<p>67 rows × 5 columns</p>\n",
       "</div>"
      ],
      "text/plain": [
       "         user_id  movie_id  rating  rating_adj                    movie_title\n",
       "4229918    28812       329     4.0    3.767164  Star Trek: Generations (1994)\n",
       "4229939    28812       480     5.0    4.400487           Jurassic Park (1993)\n",
       "4229948    28812       588     4.0    3.470915                 Aladdin (1992)\n",
       "4229899    28812       161     4.0    3.415830            Crimson Tide (1995)\n",
       "4229914    28812       315     5.0    5.276409         Specialist, The (1994)\n",
       "...          ...       ...     ...         ...                            ...\n",
       "4229892    28812        50     3.0    1.683520     Usual Suspects, The (1995)\n",
       "4229911    28812       292     4.0    3.744914                Outbreak (1995)\n",
       "4229912    28812       296     4.0    2.883755            Pulp Fiction (1994)\n",
       "4229884    28812         2     5.0    4.954595                 Jumanji (1995)\n",
       "4229953    28812       595     4.0    3.515051    Beauty and the Beast (1991)\n",
       "\n",
       "[67 rows x 5 columns]"
      ]
     },
     "execution_count": 28,
     "metadata": {},
     "output_type": "execute_result"
    }
   ],
   "source": [
    "df = ml_train[ml_train.user_id == target_user]. \\\n",
    "    join(rating_dev, on=\"movie_id\")\n",
    "df = df.assign(rating_adj = df[\"rating\"] + df[\"rating_dev\"])[[\"user_id\", \"movie_id\", \"rating\", \"rating_adj\"]]\n",
    "df.join(names, on=\"movie_id\")"
   ]
  },
  {
   "cell_type": "markdown",
   "metadata": {},
   "source": [
    "and then produce the final prediction by averaging all these:"
   ]
  },
  {
   "cell_type": "code",
   "execution_count": 29,
   "metadata": {},
   "outputs": [
    {
     "data": {
      "text/plain": [
       "4.087520122528076"
      ]
     },
     "execution_count": 29,
     "metadata": {},
     "output_type": "execute_result"
    }
   ],
   "source": [
    "df[\"rating_adj\"].mean()"
   ]
  },
  {
   "cell_type": "markdown",
   "metadata": {},
   "source": [
    "We also happen to have the user's actual rating in the test set (i.e. we didn't train on it), so we can compare here:"
   ]
  },
  {
   "cell_type": "code",
   "execution_count": 30,
   "metadata": {},
   "outputs": [
    {
     "data": {
      "text/plain": [
       "4.0"
      ]
     },
     "execution_count": 30,
     "metadata": {},
     "output_type": "execute_result"
    }
   ],
   "source": [
    "ml_test[(ml_test.user_id == target_user) & (ml_test.movie_id == target_movie)][\"rating\"].iloc[0]"
   ]
  },
  {
   "cell_type": "markdown",
   "metadata": {},
   "source": [
    "That's quite close - though that may just be luck. It's hard to say from one point."
   ]
  },
  {
   "cell_type": "markdown",
   "metadata": {},
   "source": [
    "## Weighted Slope One"
   ]
  },
  {
   "cell_type": "markdown",
   "metadata": {},
   "source": [
    "Take a look at the table below. This is a similar aggregation to what we just did to determine average deviation - but this instead counts up the number of ratings that went into each average deviation."
   ]
  },
  {
   "cell_type": "code",
   "execution_count": 31,
   "metadata": {},
   "outputs": [
    {
     "data": {
      "text/html": [
       "<div>\n",
       "<style>\n",
       "    .dataframe thead tr:only-child th {\n",
       "        text-align: right;\n",
       "    }\n",
       "\n",
       "    .dataframe thead th {\n",
       "        text-align: left;\n",
       "    }\n",
       "\n",
       "    .dataframe tbody tr th {\n",
       "        vertical-align: top;\n",
       "    }\n",
       "</style>\n",
       "<table border=\"1\" class=\"dataframe\">\n",
       "  <thead>\n",
       "    <tr style=\"text-align: right;\">\n",
       "      <th></th>\n",
       "      <th>movie_title</th>\n",
       "      <th>num_ratings</th>\n",
       "    </tr>\n",
       "  </thead>\n",
       "  <tbody>\n",
       "    <tr>\n",
       "      <th>802</th>\n",
       "      <td>Phenomenon (1996)</td>\n",
       "      <td>3147</td>\n",
       "    </tr>\n",
       "    <tr>\n",
       "      <th>315</th>\n",
       "      <td>Specialist, The (1994)</td>\n",
       "      <td>3247</td>\n",
       "    </tr>\n",
       "    <tr>\n",
       "      <th>282</th>\n",
       "      <td>Nell (1994)</td>\n",
       "      <td>3257</td>\n",
       "    </tr>\n",
       "    <tr>\n",
       "      <th>151</th>\n",
       "      <td>Rob Roy (1995)</td>\n",
       "      <td>3351</td>\n",
       "    </tr>\n",
       "    <tr>\n",
       "      <th>236</th>\n",
       "      <td>French Kiss (1995)</td>\n",
       "      <td>3645</td>\n",
       "    </tr>\n",
       "    <tr>\n",
       "      <th>...</th>\n",
       "      <td>...</td>\n",
       "      <td>...</td>\n",
       "    </tr>\n",
       "    <tr>\n",
       "      <th>296</th>\n",
       "      <td>Pulp Fiction (1994)</td>\n",
       "      <td>11893</td>\n",
       "    </tr>\n",
       "    <tr>\n",
       "      <th>500</th>\n",
       "      <td>Mrs. Doubtfire (1993)</td>\n",
       "      <td>11915</td>\n",
       "    </tr>\n",
       "    <tr>\n",
       "      <th>593</th>\n",
       "      <td>Silence of the Lambs, The (1991)</td>\n",
       "      <td>12120</td>\n",
       "    </tr>\n",
       "    <tr>\n",
       "      <th>480</th>\n",
       "      <td>Jurassic Park (1993)</td>\n",
       "      <td>13546</td>\n",
       "    </tr>\n",
       "    <tr>\n",
       "      <th>356</th>\n",
       "      <td>Forrest Gump (1994)</td>\n",
       "      <td>13847</td>\n",
       "    </tr>\n",
       "  </tbody>\n",
       "</table>\n",
       "<p>67 rows × 2 columns</p>\n",
       "</div>"
      ],
      "text/plain": [
       "                          movie_title  num_ratings\n",
       "802                 Phenomenon (1996)         3147\n",
       "315            Specialist, The (1994)         3247\n",
       "282                       Nell (1994)         3257\n",
       "151                    Rob Roy (1995)         3351\n",
       "236                French Kiss (1995)         3645\n",
       "..                                ...          ...\n",
       "296               Pulp Fiction (1994)        11893\n",
       "500             Mrs. Doubtfire (1993)        11915\n",
       "593  Silence of the Lambs, The (1991)        12120\n",
       "480              Jurassic Park (1993)        13546\n",
       "356               Forrest Gump (1994)        13847\n",
       "\n",
       "[67 rows x 2 columns]"
      ]
     },
     "execution_count": 31,
     "metadata": {},
     "output_type": "execute_result"
    }
   ],
   "source": [
    "num_ratings = users_df.groupby(\"movie_id_x\").count()[\"rating_dev\"].rename(\"num_ratings\")\n",
    "names.join(num_ratings, how=\"inner\").sort_values(\"num_ratings\")"
   ]
  },
  {
   "cell_type": "markdown",
   "metadata": {},
   "source": [
    "We produced an overall average prediction by averaging together\n",
    "all of the average deviations produced from the above ratings.\n",
    "This has a potential problem that can occur. Look at the table\n",
    "above, and note that *Forrest Gump* has around four times as many\n",
    "ratings as *Phenomenon*, yet both movies receive the same total\n",
    "number of votes (so to speak).\n",
    "\n",
    "This isn't as drastic of an example as possible, but we might like\n",
    "to adjust things so that the amount of weight that's given to each\n",
    "average deviation depends on how many ratings are in it; presumably,\n",
    "the more ratings that go into that average deviation, the better of\n",
    "an estimate it is.\n",
    "\n",
    "This is easy to do, luckily:"
   ]
  },
  {
   "cell_type": "code",
   "execution_count": 32,
   "metadata": {},
   "outputs": [
    {
     "data": {
      "text/html": [
       "<div>\n",
       "<style>\n",
       "    .dataframe thead tr:only-child th {\n",
       "        text-align: right;\n",
       "    }\n",
       "\n",
       "    .dataframe thead th {\n",
       "        text-align: left;\n",
       "    }\n",
       "\n",
       "    .dataframe tbody tr th {\n",
       "        vertical-align: top;\n",
       "    }\n",
       "</style>\n",
       "<table border=\"1\" class=\"dataframe\">\n",
       "  <thead>\n",
       "    <tr style=\"text-align: right;\">\n",
       "      <th></th>\n",
       "      <th>user_id</th>\n",
       "      <th>movie_id</th>\n",
       "      <th>rating</th>\n",
       "      <th>rating_adj</th>\n",
       "      <th>num_ratings</th>\n",
       "      <th>rating_weighted</th>\n",
       "    </tr>\n",
       "  </thead>\n",
       "  <tbody>\n",
       "    <tr>\n",
       "      <th>4229918</th>\n",
       "      <td>28812</td>\n",
       "      <td>329</td>\n",
       "      <td>4.0</td>\n",
       "      <td>3.767164</td>\n",
       "      <td>6365</td>\n",
       "      <td>23978.000326</td>\n",
       "    </tr>\n",
       "    <tr>\n",
       "      <th>4229939</th>\n",
       "      <td>28812</td>\n",
       "      <td>480</td>\n",
       "      <td>5.0</td>\n",
       "      <td>4.400487</td>\n",
       "      <td>13546</td>\n",
       "      <td>59609.002631</td>\n",
       "    </tr>\n",
       "    <tr>\n",
       "      <th>4229948</th>\n",
       "      <td>28812</td>\n",
       "      <td>588</td>\n",
       "      <td>4.0</td>\n",
       "      <td>3.470915</td>\n",
       "      <td>10366</td>\n",
       "      <td>35979.500767</td>\n",
       "    </tr>\n",
       "    <tr>\n",
       "      <th>4229899</th>\n",
       "      <td>28812</td>\n",
       "      <td>161</td>\n",
       "      <td>4.0</td>\n",
       "      <td>3.415830</td>\n",
       "      <td>5774</td>\n",
       "      <td>19723.000448</td>\n",
       "    </tr>\n",
       "    <tr>\n",
       "      <th>4229914</th>\n",
       "      <td>28812</td>\n",
       "      <td>315</td>\n",
       "      <td>5.0</td>\n",
       "      <td>5.276409</td>\n",
       "      <td>3247</td>\n",
       "      <td>17132.500507</td>\n",
       "    </tr>\n",
       "    <tr>\n",
       "      <th>...</th>\n",
       "      <td>...</td>\n",
       "      <td>...</td>\n",
       "      <td>...</td>\n",
       "      <td>...</td>\n",
       "      <td>...</td>\n",
       "      <td>...</td>\n",
       "    </tr>\n",
       "    <tr>\n",
       "      <th>4229892</th>\n",
       "      <td>28812</td>\n",
       "      <td>50</td>\n",
       "      <td>3.0</td>\n",
       "      <td>1.683520</td>\n",
       "      <td>8495</td>\n",
       "      <td>14301.500030</td>\n",
       "    </tr>\n",
       "    <tr>\n",
       "      <th>4229911</th>\n",
       "      <td>28812</td>\n",
       "      <td>292</td>\n",
       "      <td>4.0</td>\n",
       "      <td>3.744914</td>\n",
       "      <td>7029</td>\n",
       "      <td>26323.000892</td>\n",
       "    </tr>\n",
       "    <tr>\n",
       "      <th>4229912</th>\n",
       "      <td>28812</td>\n",
       "      <td>296</td>\n",
       "      <td>4.0</td>\n",
       "      <td>2.883755</td>\n",
       "      <td>11893</td>\n",
       "      <td>34296.500678</td>\n",
       "    </tr>\n",
       "    <tr>\n",
       "      <th>4229884</th>\n",
       "      <td>28812</td>\n",
       "      <td>2</td>\n",
       "      <td>5.0</td>\n",
       "      <td>4.954595</td>\n",
       "      <td>7422</td>\n",
       "      <td>36773.001211</td>\n",
       "    </tr>\n",
       "    <tr>\n",
       "      <th>4229953</th>\n",
       "      <td>28812</td>\n",
       "      <td>595</td>\n",
       "      <td>4.0</td>\n",
       "      <td>3.515051</td>\n",
       "      <td>9036</td>\n",
       "      <td>31761.999825</td>\n",
       "    </tr>\n",
       "  </tbody>\n",
       "</table>\n",
       "<p>67 rows × 6 columns</p>\n",
       "</div>"
      ],
      "text/plain": [
       "         user_id  movie_id  rating  rating_adj  num_ratings  rating_weighted\n",
       "4229918    28812       329     4.0    3.767164         6365     23978.000326\n",
       "4229939    28812       480     5.0    4.400487        13546     59609.002631\n",
       "4229948    28812       588     4.0    3.470915        10366     35979.500767\n",
       "4229899    28812       161     4.0    3.415830         5774     19723.000448\n",
       "4229914    28812       315     5.0    5.276409         3247     17132.500507\n",
       "...          ...       ...     ...         ...          ...              ...\n",
       "4229892    28812        50     3.0    1.683520         8495     14301.500030\n",
       "4229911    28812       292     4.0    3.744914         7029     26323.000892\n",
       "4229912    28812       296     4.0    2.883755        11893     34296.500678\n",
       "4229884    28812         2     5.0    4.954595         7422     36773.001211\n",
       "4229953    28812       595     4.0    3.515051         9036     31761.999825\n",
       "\n",
       "[67 rows x 6 columns]"
      ]
     },
     "execution_count": 32,
     "metadata": {},
     "output_type": "execute_result"
    }
   ],
   "source": [
    "df = df.join(num_ratings, on=\"movie_id\")\n",
    "df = df.assign(rating_weighted = df[\"rating_adj\"] * df[\"num_ratings\"])\n",
    "df"
   ]
  },
  {
   "cell_type": "code",
   "execution_count": 33,
   "metadata": {},
   "outputs": [
    {
     "data": {
      "text/plain": [
       "4.02968199025023"
      ]
     },
     "execution_count": 33,
     "metadata": {},
     "output_type": "execute_result"
    }
   ],
   "source": [
    "df[\"rating_weighted\"].sum() / df[\"num_ratings\"].sum()"
   ]
  },
  {
   "cell_type": "markdown",
   "metadata": {},
   "source": [
    "It changes the answer, but only very slightly."
   ]
  },
  {
   "cell_type": "markdown",
   "metadata": {},
   "source": [
    "## Linear Algebra Tricks"
   ]
  },
  {
   "cell_type": "markdown",
   "metadata": {},
   "source": [
    "I said linear algebra isn't needed, which is true.  Everything above\n",
    "was implemented just in operations over Pandas dataframes, albeit\n",
    "with a lot of merges and joins, and it's probably not very efficient\n",
    "(though, Pandas probably offers a lot of room to optimize, and because\n",
    "of how it's meant to be familiar to users of relation databases, you\n",
    "could probably implement this fairly efficiently in SQL). If matrices\n",
    "make your eyes glaze over, you can probably just skip this section.\n",
    "\n",
    "However, the entire Slope One method can be implemented in a very fast\n",
    "and concise way with a couple matrix operations.\n",
    "\n",
    "### Short Answer\n",
    "\n",
    "Let $U$ be the utility matrix. Let $M$ be a binary matrix for which $M_{i,j}=1$ if user $i$ rated movie $j$, otherwise 0.  Compute the model's matrices with:\n",
    "\n",
    "$$\n",
    "\\begin{align}\n",
    "C & =M^\\top M \\\\\n",
    "D &= \\left(M^\\top U - (M^\\top U)^\\top\\right) /\\ \\textrm{max}(1, M^\\top M)\n",
    "\\end{align}\n",
    "$$\n",
    "\n",
    "where $/$ is Hadamard (i.e. elementwise) division, and $\\textrm{max}$ is elementwise maximum with 1.  Then, the below gives the prediction for how user $u$ will rate movie $j$:\n",
    "\n",
    "$$\n",
    "P(u)_j = \\frac{[M_u \\odot (C_j > 0)] \\cdot (D_j + U_u) - U_{u,j}}{M_u \\cdot (C_j > 0)}\n",
    "$$\n",
    "\n",
    "$D_j$ and $C_j$ are row $j$ of $D$ and $C$, respectively. $M_u$ and $U_u$ are column $u$ of $M$ and $U$, respectively. $\\odot$ is elementwise multiplication.\n",
    "\n",
    "### Long Answer\n",
    "\n",
    "First, we need to have our data encoded as an $n \\times m$ utility\n",
    "matrix (see a [few sections above](#Utility-Matrix) for the definition\n",
    "of *utility matrix*).\n",
    "As noted, most elements of this matrix are unknown as users have rated\n",
    "only a fraction of movies. We can represent this with another\n",
    "$n \\times m$ matrix (specifically a binary matrix), a 'mask' $M$ in\n",
    "which $M_{k,i}$ is 1 if user $k$ supplied a rating for movie $i$, and\n",
    "otherwise 0.\n",
    "\n",
    "#### Deviation Matrix\n",
    "\n",
    "I mentioned *deviation* above and gave an informal definition of it.\n",
    "The paper gaves a formal but rather terse definition below of the\n",
    "average deviation of item $i$ with respect to item $j$, and I\n",
    "then separate out the summation a little:\n",
    "\n",
    "$$\n",
    "\\begin{split}\n",
    "\\textrm{dev}_{j,i} &= \\sum_{u \\in S_{j,i}(\\chi)} \\frac{u_j - u_i}{card(S_{j,i}(\\chi))} \\\\\n",
    " &= \\frac{1}{card(S_{j,i}(\\chi))} \\sum_{u \\in\n",
    "S_{j,i}(\\chi)} u_j - u_i = \\frac{1}{card(S_{j,i}(\\chi))}\\left(\\sum_{u\n",
    "\\in S_{j,i}(\\chi)} u_j - \\sum_{u \\in S_{j,i}(\\chi)} u_i\\right)\n",
    "\\end{split}\n",
    "$$\n",
    "\n",
    "where:\n",
    "\n",
    "- $u_j$ and $u_i$ mean: user $u$'s ratings for movies $i$ and $j$, respectively\n",
    "- $u \\in S_{j,i}(\\chi)$ means: all users $u$ who, in the dataset we're\n",
    "  training on, provided a rating for both movie $i$ and movie $j$\n",
    "- $card$ is the cardinality of that set, i.e.\n",
    "  ${card(S_{j,i}(\\chi))}$ is how many users rated both $i$ and\n",
    "  $j$."
   ]
  },
  {
   "cell_type": "markdown",
   "metadata": {},
   "source": [
    "#### Cardinality/Counts Matrix\n",
    "\n",
    "Let's start with computing ${card(S_{j,i}(\\chi))}$, the number of\n",
    "users who rated both movie $i$ and movie $j$.  Consider column $i$ of\n",
    "the mask $M$.  For each value in this column, it equals 1 if the\n",
    "respective user rated movie $i$, or 0 if they did not.  Clearly,\n",
    "simply summing up column $i$ would tell us how many users rated movie\n",
    "$i$, and the same applies to column $j$ for movie $j$.\n",
    "\n",
    "Now, suppose we take element-wise logical AND of columns $i$ and $j$.\n",
    "The resultant column has a 1 only where both corresponding elements\n",
    "were 1 - where a user rated both $i$ and $j$.  If we sum up this\n",
    "column, we have exactly the number we need: the number of users who\n",
    "rated both $i$ and $j$. Some might notice that \"elementwise logical\n",
    "AND\" is just \"elementwise\n",
    "multiplication\", thus \"sum of elementwise logical AND\" is just \"sum of\n",
    "elementwise multiplication\", which is: dot product.  That is,\n",
    "${card(S_{j,i}(\\chi))}=M_j \\cdot M_i$ if we use $M_i$ and $M_j$ for\n",
    "columns $i$ and $j$ of $M$.\n",
    "\n",
    "However, we'd like to compute deviation as a matrix for all $i$ and\n",
    "$j$, so we'll likewise need ${card(S_{j,i}(\\chi))}$ for every single\n",
    "combination of $i$ and $j$ - that is, we need a dot product between\n",
    "every single pair of columns from $M$.  This is incidentally just\n",
    "matrix multiplication:\n",
    "\n",
    "$$C=M^\\top M$$\n",
    "\n",
    "since $C_{i,j}=card(S_{j,i}(\\chi))$ is the dot product of row $i$ of $M^T$ - which is column\n",
    "$i$ of $M$ - and column $j$ of $M$."
   ]
  },
  {
   "cell_type": "markdown",
   "metadata": {},
   "source": [
    "That was the first half of what we needed for $\\textrm{dev}_{j,i}$.\n",
    "We still need the other half:\n",
    "\n",
    "$$\\sum_{u \\in S_{j,i}(\\chi)} u_j - \\sum_{u \\in S_{j,i}(\\chi)} u_i$$\n",
    "\n",
    "We can apply a similar trick here.  Consider first what $\\sum_{u \\in\n",
    "S_{j,i}(\\chi)} u_j$ means: It is the sum of only those ratings of\n",
    "movie $j$ that were done by a user who also rated movie $i$.\n",
    "Likewise, $\\sum_{u \\in S_{j,i}(\\chi)} u_i$ is the sum of only those\n",
    "ratings of movie $i$ that were done by a user who also rated movie\n",
    "$j$.  (Note the symmetry: it's over the same set of users, because\n",
    "it's always the users who rated both $i$ and $j$.)\n",
    "\n",
    "Let's call the utility matrix $U$, and use $U_i$ and $U_j$ to refer\n",
    "to columns $i$ and $j$ of it (just as in $M$).  $U_i$ has each rating\n",
    "of movie $i$, but we want only the sum of the ratings done by a user\n",
    "who also rated movie $j$. Like before, the dot product of $U_i$ and\n",
    "$M_j$ (consider the definition of $M_j$) computes this, and so:\n",
    "\n",
    "$$\\sum_{u \\in S_{j,i}(\\chi)} u_j = M_i \\cdot U_j$$\n",
    "\n",
    "and as with $C$, since we want every pairwise dot product, this summation just\n",
    "equals element $(i,j)$ of $M^\\top U$. The other half of the summation,\n",
    "$\\sum_{u \\in S_{j,i}(\\chi)} u_i$, equals $M_j \\cdot U_i$, which is just\n",
    "the transpose of this matrix:\n",
    "\n",
    "$$\\sum_{u \\in S_{j,i}(\\chi)} u_j - \\sum_{u \\in S_{j,i}(\\chi)} u_i = M^\\top U - (M^\\top U)^\\top = M^\\top U - U^\\top M$$\n",
    "\n",
    "So, finally, we can compute an entire deviation matrix at once like:\n",
    "\n",
    "$$D = \\left(M^\\top U - (M^\\top U)^\\top\\right) /\\ M^\\top M$$\n",
    "\n",
    "where $/$ is Hadamard (i.e. elementwise) division, and $D_{j,i} = \\textrm{dev}_{j,i}$.\n",
    "\n",
    "By convention and to avoid division by zero, we treat the case where the denominator and numerator are both 0 as just equaling 0. This comes up only where no ratings exist for there to be a deviation - hence the `np.maximum(1, counts)` below."
   ]
  },
  {
   "cell_type": "markdown",
   "metadata": {},
   "source": [
    "#### Prediction\n",
    "\n",
    "Finally, the paper gives the formula to predict how user $u$ will rate movie $j$, and I write this in terms of our matrices:\n",
    "\n",
    "$$\n",
    "P(u)_j = \\frac{1}{card(R_j)}\\sum_{i\\in R_j} \\left(\\textrm{dev}_{j,i}+u_i\\right) = \\frac{1}{card(R_j)}\\sum_{i\\in R_j} \\left(D_{j,i} + U_{u,j} \\right)\n",
    "$$\n",
    "\n",
    "where $R_j = \\{i | i \\in S(u), i \\ne j, card(S_{j,i}(\\chi)) > 0\\}$, and $S(u)$ is the set of movies that user $u$ has rated. To unpack the paper's somewhat dense notation, the summation is over every movie $i$ that user $u$ rated and that at least one other user rated, except movie $j$.\n",
    "\n",
    "We can apply the usual trick yet one more time with a little effort. The summation already goes across a row of $U$ and $D$ (that is, user $u$ is held constant), but covers only certain elements. This is equivalent to a dot product with a mask representing $R_j$. $M_u$, row $u$ of the mask, already represents $S(u)$, and $R_j$ is just $S(u)$ with some more elements removed - which we can mostly represent with $M_u \\odot (C_j > 0)$ where $\\odot$ is elementwise product (i.e. Hadamard), where $C_j$ is column $j$ of $C$ (or row $j$ - it's symmetric), and where we abuse some notation to say that $C_j > 0$ is a binary vector.  The one correction still required is that we subtract $u_j$ to cover for the $i \\ne j$ part of $R_j$.  To abuse some more notation:\n",
    "\n",
    "$$P(u)_j = \\frac{[M_u \\odot (C_j > 0)] \\cdot (D_j + U_u) - U_{u,j}}{M_u \\cdot (C_j > 0)}$$"
   ]
  },
  {
   "cell_type": "markdown",
   "metadata": {},
   "source": [
    "#### Approximation\n",
    "\n",
    "The paper also gives a formula that is a suitable approximation for larger data sets:\n",
    "\n",
    "$$p^{S1}(u)_j = \\bar{u} + \\frac{1}{card(R_j)}\\sum_{i\\in R_j} \\textrm{dev}_{j,i}$$\n",
    "\n",
    "where $\\bar{u}$ is user $u$'s average rating. This doesn't change the formula much; we can compute $\\bar{u}$ simply as column means of $U$."
   ]
  },
  {
   "cell_type": "markdown",
   "metadata": {},
   "source": [
    "## Implementation"
   ]
  },
  {
   "cell_type": "code",
   "execution_count": 34,
   "metadata": {
    "collapsed": true
   },
   "outputs": [],
   "source": [
    "def slope_one(U, M, users, movies, approx=True):\n",
    "    M_j = M[:,movies].T.multiply(1)\n",
    "    U_j = U[:,movies].T\n",
    "    Cj = M_j.dot(M).toarray()\n",
    "    MjU = M_j.dot(U).toarray()\n",
    "    UjM = U_j.dot(M).toarray()\n",
    "    Dj = (UjM - MjU) / np.maximum(Cj, 1)\n",
    "    mask = M[users,:].toarray() * (Cj > 0)\n",
    "    U_u = U[users,:].toarray()\n",
    "    if approx:\n",
    "        M_u = M[users,:].toarray()\n",
    "        P_u_j = U_u.sum(axis=1) / M_u.sum(axis=1) + ((mask * Dj).sum(axis=1) - U_u[0,movies]) / np.maximum(mask.sum(axis=1), 1)\n",
    "    else:\n",
    "        P_u_j = ((mask * (U_u + Dj)).sum(axis=1) - U_u[0,users]) / np.maximum(mask.sum(axis=1), 1)\n",
    "    return P_u_j"
   ]
  },
  {
   "cell_type": "markdown",
   "metadata": {},
   "source": [
    "To show that it actually gives the same result as above, and that the approximation produces seemingly no change here:"
   ]
  },
  {
   "cell_type": "code",
   "execution_count": 35,
   "metadata": {},
   "outputs": [
    {
     "data": {
      "text/plain": [
       "(4.0875210502743862, 4.0875210502743862)"
      ]
     },
     "execution_count": 35,
     "metadata": {},
     "output_type": "execute_result"
    }
   ],
   "source": [
    "(slope_one(ml_mat_train, ml_mask_train, [target_user], [target_movie])[0],\n",
    " slope_one(ml_mat_train, ml_mask_train, [target_user], [target_movie], approx=False)[0])"
   ]
  },
  {
   "cell_type": "markdown",
   "metadata": {},
   "source": [
    "This computes training error on a small part (1%) of the data, since doing it over the entire thing would be horrendously slow:"
   ]
  },
  {
   "cell_type": "code",
   "execution_count": 36,
   "metadata": {
    "collapsed": true
   },
   "outputs": [],
   "source": [
    "def slope_one_err(U, M, users, movies):\n",
    "    # Keep 'users' and 'movies' small (couple hundred maybe)\n",
    "    p = slope_one(U, M, users, movies)\n",
    "    d = p - np.asarray(U[users,movies])[0,:]\n",
    "    err_abs = np.abs(d).sum()\n",
    "    err_sq = np.square(d).sum()\n",
    "    return err_abs, err_sq"
   ]
  },
  {
   "cell_type": "code",
   "execution_count": 37,
   "metadata": {
    "collapsed": true
   },
   "outputs": [],
   "source": [
    "import multiprocessing\n",
    "\n",
    "count = int(len(ml_train) * 0.01)\n",
    "idxs = np.random.permutation(len(ml_train))[:count]\n",
    "# Memory increases linearly with chunk_size:\n",
    "chunk_size = 200\n",
    "idxs_split = np.array_split(idxs, count // chunk_size)\n",
    "\n",
    "def err_part(idxs_part):\n",
    "    df = ml_train.iloc[idxs_part]\n",
    "    users = list(df.user_id)\n",
    "    movies = list(df.movie_id)\n",
    "    err_abs, err_sq = slope_one_err(ml_mat_train, ml_mask_train, users, movies)\n",
    "    return err_abs, err_sq\n",
    "\n",
    "with multiprocessing.Pool() as p:\n",
    "    errs = p.map(err_part, idxs_split)\n",
    "    err_mae_train = sum([e[0] for e in errs]) / count\n",
    "    err_rms_train = np.sqrt(sum([e[1] for e in errs]) / count)"
   ]
  },
  {
   "cell_type": "markdown",
   "metadata": {},
   "source": [
    "and then likewise on 2% of the testing data (it's a smaller set to start):"
   ]
  },
  {
   "cell_type": "code",
   "execution_count": 38,
   "metadata": {
    "collapsed": true
   },
   "outputs": [],
   "source": [
    "count = int(len(ml_test) * 0.02)\n",
    "idxs = np.random.permutation(len(ml_test))[:count]\n",
    "chunk_size = 200\n",
    "idxs_split = np.array_split(idxs, count // chunk_size)\n",
    "\n",
    "def err_part(idxs_part):\n",
    "    df = ml_test.iloc[idxs_part]\n",
    "    users = list(df.user_id)\n",
    "    movies = list(df.movie_id)\n",
    "    err_abs, err_sq = slope_one_err(ml_mat_train, ml_mask_train, users, movies)\n",
    "    return err_abs, err_sq\n",
    "\n",
    "with multiprocessing.Pool() as p:\n",
    "    errs = p.map(err_part, idxs_split)\n",
    "    err_mae_test = sum([e[0] for e in errs]) / count\n",
    "    err_rms_test = np.sqrt(sum([e[1] for e in errs]) / count)"
   ]
  },
  {
   "cell_type": "code",
   "execution_count": 39,
   "metadata": {
    "collapsed": true
   },
   "outputs": [],
   "source": [
    "# These are used later for comparison:\n",
    "test_results = [(\"\", \"Slope One\", err_mae_test, err_rms_test)]"
   ]
  },
  {
   "cell_type": "code",
   "execution_count": 40,
   "metadata": {},
   "outputs": [
    {
     "name": "stdout",
     "output_type": "stream",
     "text": [
      "Training error: MAE=0.638,  RMSE=0.831\n",
      "Testing error:  MAE=3.519,  RMSE=3.576\n"
     ]
    }
   ],
   "source": [
    "print(\"Training error: MAE={:.3f},  RMSE={:.3f}\".format(err_mae_train, err_rms_train))\n",
    "print(\"Testing error:  MAE={:.3f},  RMSE={:.3f}\".format(err_mae_test, err_rms_test))"
   ]
  },
  {
   "cell_type": "markdown",
   "metadata": {},
   "source": [
    "## \"SVD\" algorithm"
   ]
  },
  {
   "cell_type": "markdown",
   "metadata": {},
   "source": [
    "### Model & Background\n",
    "\n",
    "This basic model is very easy to implement, but the implementation won't make sense without some more involved derivation.\n",
    "\n",
    "I'm not sure this method has a clear name. Surprise calls it an SVD algorithm, but it neither uses SVD nor really computes it; it's just vaguely SVD-like. To confuse matters further, several other algorithms compute similar things and do use SVD, but are completely unrelated.\n",
    "\n",
    "References on this model are in a few different places:\n",
    "\n",
    "- [SVD](https://surprise.readthedocs.io/en/stable/matrix_factorization.html#surprise.prediction_algorithms.matrix_factorization.SVD) in Surprise gives enough formulas to implement from.\n",
    "- Simon Funk's post [Netflix Update: Try This at Home](http://sifter.org/~simon/journal/20061211.html) is an excellent overview of the rationale and of some practical concerns on how to run this on the much larger Netflix dataset (100,000,000 ratings, instead of 100,000).\n",
    "- The paywalled article [Matrix Factorization Techniques for Recommender Systems](http://ieeexplore.ieee.org/abstract/document/5197422/) gives a little background from a higher level.\n",
    "\n",
    "### Motivation\n",
    "\n",
    "We again start from the $n \\times m$ utility matrix $U$.  As $m$ and $n$ tend to be quite large, $U$ has a lot of degrees of freedom.  If we want to be able to predict anything at all, we must assume some fairly strict constraints - and one form of this is assuming that we don't *really* have that many degrees of freedom, and that there are actually some much smaller latent factors controlling everything.\n",
    "\n",
    "One common form of this is assuming that the rank of matrix $U$ - its *actual* dimensionality - is much lower. Let's say its rank is $r$.  We could then represent $U$ as the matrix product of smaller matrices, i.e. $U=P^\\top Q$ where $P$ is a $r \\times n$ matrix and $Q$ is $r \\times m$.\n",
    "\n",
    "If we can find dense matrices $P$ and $Q$ such that $P^\\top Q$ equals, or approximately equals, $U$ for the corresponding elements of $U$ that are known, then $P^\\top Q$ also gives us predictions for the unknown elements of $U$ - the ratings we don't know, but want to predict.  Of course, $r$ must be small enough here to prevent overfitting.\n",
    "\n",
    "(What we're talking about above is [matrix completion](https://en.wikipedia.org/wiki/Matrix_completion) using low-rank [matrix decomposition/factorization](https://en.wikipedia.org/wiki/Matrix_decomposition). These are both subjects unto themselves. See the [matrix-completion-whirlwind](https://github.com/asberk/matrix-completion-whirlwind/blob/master/matrix_completion_master.ipynb) notebook for a much better explanation on that subject, and an implementation of [altMinSense/altMinComplete](https://arxiv.org/pdf/1212.0467).)\n",
    "\n",
    "Ordinarily, we'd use something like SVD directly if we wanted to find matrices $P$ and $Q$ (or if we wanted to do any of about 15,000 other things, since SVD is basically magical matrix fairy dust). We can't really do that here due to the fact that large parts of $U$ are unknown, and in some cases because $U$ is just too large.  One approach for working around this is the UV-decomposition algorithm that section 9.4 of [MMDS](http://www.mmds.org/) describes.\n",
    "\n",
    "What we'll do below is a similar approach to UV decomposition that follows a common method: define a model, define an error function we want to minimize, find that error function's gradient with respect to the model's parameters, and then use gradient-descent to minimize that error function by nudging the parameters in the direction that decreases the error, i.e. the negative of their gradient.  (More on this later.)\n",
    "\n",
    "Matrices $Q$ and $P$ have some other neat properties too. Note that $Q$ has $m$ columns, each one $r$-dimensional - one column per movie.  $P$ has $n$ columns, each one $r$-dimensional - one column per user. In effect, we can look at each column $i$ of $Q$ as the coordinates of movie $i$ in \"concept space\" or \"feature space\" - a new $r$-dimensional space where each axis corresponds to something that seems to explain ratings. Likewise, we can look at each column $u$ of $P$ as how much user $u$ \"belongs\" to each axis in concept space.  \"Feature vectors\" is a common term to see.\n",
    "\n",
    "In that sense, $P$ and $Q$ give us a model in which ratings are an interaction between properties of a movie, and a user's preferences.  If we're using $U=P^\\top Q$ as our model, then every element of $U$ is just the dot product of the feature vectors of the respective movie and user.  That is, if $p_u$ is column $u$ of $P$ and $q_i$ is column $i$ of $Q$:\n",
    "\n",
    "$$\\hat{r}_{ui}=q_i^\\top p_u$$\n",
    "\n",
    "However, some things aren't really interactions. Some movies are just (per the ratings) overall better or worse. Some users just tend to rate everything higher or lower. We need some sort of bias built into the model to comprehend this.\n",
    "\n",
    "Let's call $b_i$ the bias for movie $i$, $b_u$ the bias for user $u$, and $\\mu$ the overall average rating. We can just add these into the model:\n",
    "\n",
    "$$\\hat{r}_{ui}=\\mu + b_i + b_u + q_i^\\top p_u$$\n",
    "\n",
    "This is the basic model we'll implement, and the same one described in the references at the top."
   ]
  },
  {
   "cell_type": "markdown",
   "metadata": {},
   "source": [
    "### Prediction & Error Function\n",
    "\n",
    "More formally, the prediction model is:\n",
    "\n",
    "$$\\hat{r}_{ui}=\\mu + b_i + b_u + q_i^\\top p_u$$\n",
    "\n",
    "where:\n",
    "\n",
    "- $u$ is a user\n",
    "- $i$ is an item\n",
    "- $\\hat{r}_{ui}$ is user $u$'s predicted rating for item $i$\n",
    "- $\\mu$ is the overall average rating\n",
    "- our model parameters are:\n",
    "  - $b_i$, a per-item deviation for item $i$; \n",
    "  - $b_u$, per-user deviation for user $u$\n",
    "  - $q_i$ and $p_u$, feature vectors for item $i$ and user $u$, respectively\n",
    "\n",
    "The error function that we need to minimize is just sum-of-squared error between predicted and actual rating, plus $L_2$ regularization to prevent the biases and coordinates in \"concept space\" from becoming too huge:\n",
    "$$E=\\sum_{r_{ui} \\in R_{\\textrm{train}}} \\left(r_{ui} - \\hat{r}_{ui}\\right)^2 + \\lambda\\left(b_i^2+b_u^2 + \\lvert\\lvert q_i\\rvert\\rvert^2 + \\lvert\\lvert p_u\\rvert\\rvert^2\\right)$$"
   ]
  },
  {
   "cell_type": "markdown",
   "metadata": {},
   "source": [
    "### Gradients & Gradient-Descent Updates\n",
    "\n",
    "This error function is easily differentiable with respect to model parameters $b_i$, $b_u$, $q_i$, and $p_u$, so a normal approach for minimizing it is gradient-descent.  Finding gradient with respect to $b_i$ is straightforward:\n",
    "\n",
    "$$\n",
    "\\begin{split}\n",
    "\\frac{\\partial E}{\\partial b_i} &= \\sum_{r_{ui}} \\frac{\\partial}{\\partial b_i} \\left(r_{ui} - (\\mu + b_i + b_u + q_i^\\top p_u)\\right)^2 + \\frac{\\partial}{\\partial b_i}\\lambda\\left(b_i^2+b_u^2 + \\lvert\\lvert q_i\\rvert\\rvert^2 + \\lvert\\lvert p_u\\rvert\\rvert^2\\right) \\\\\n",
    "\\frac{\\partial E}{\\partial b_i} &= \\sum_{r_{ui}} 2\\left(r_{ui} - (\\mu + b_i + b_u + q_i^\\top p_u)\\right)(-1) + 2 \\lambda b_i \\\\\n",
    "\\frac{\\partial E}{\\partial b_i} &= 2 \\sum_{r_{ui}} \\left(\\lambda b_i + r_{ui} - \\hat{r}_{ui}\\right)\n",
    "\\end{split}\n",
    "$$\n",
    "\n",
    "Gradient with respect to $p_u$ proceeds similarly:\n",
    "\n",
    "$$\n",
    "\\begin{split}\n",
    "\\frac{\\partial E}{\\partial p_u} &= \\sum_{r_{ui}} \\frac{\\partial}{\\partial p_u} \\left(r_{ui} - (\\mu + b_i + b_u + q_i^\\top p_u)\\right)^2 + \\frac{\\partial}{\\partial p_u}\\lambda\\left(b_i^2+b_u^2 + \\lvert\\lvert q_i\\rvert\\rvert^2 + \\lvert\\lvert p_u\\rvert\\rvert^2\\right) \\\\\n",
    "\\frac{\\partial E}{\\partial p_u} &= \\sum_{r_{ui}} 2\\left(r_{ui} - \\hat{r}_{ui}\\right)\\left(-\\frac{\\partial}{\\partial\n",
    "p_u}q_i^\\top p_u \\right) + 2 \\lambda p_u \\\\\n",
    "\\frac{\\partial E}{\\partial p_u} &= \\sum_{r_{ui}} 2\\left(r_{ui} - \\hat{r}_{ui}\\right)(-q_i^\\top) + 2 \\lambda p_u \\\\\n",
    "\\frac{\\partial E}{\\partial p_u} &= 2 \\sum_{r_{ui}} \\lambda p_u - \\left(r_{ui} - \\hat{r}_{ui}\\right)q_i^\\top\n",
    "\\end{split}\n",
    "$$\n",
    "\n",
    "Gradient with respect to $b_u$ is identical form to $b_i$, and gradient with respect to $q_i$ is identical form to $p_u$, except that the variables switch places.  The full gradients then have the standard form for gradient descent, i.e. a summation of a gradient term for each individual data point, so they turn easily into update rules for each parameter (which match the ones in the Surprise link) after absorbing the leading 2 into learning rate $\\gamma$ and separating out the summation over each data point. That's given below, with $e_{ui}=r_{ui} - \\hat{r}_{ui}$:\n",
    "\n",
    "$$\n",
    "\\begin{split}\n",
    "\\frac{\\partial E}{\\partial b_i} &= 2 \\sum_{r_{ui}} \\left(\\lambda b_i + e_{ui}\\right)\\ \\ \\ &\\longrightarrow b_i' &= b_i - \\gamma\\frac{\\partial E}{\\partial b_i} &= b_i + \\gamma\\left(e_{ui} - \\lambda b_u \\right) \\\\\n",
    "\\frac{\\partial E}{\\partial b_u} &= 2 \\sum_{r_{ui}} \\left(\\lambda b_u + e_{ui}\\right)\\ \\ \\ &\\longrightarrow b_u' &= b_u - \\gamma\\frac{\\partial E}{\\partial b_u} &= b_u + \\gamma\\left(e_{ui} - \\lambda b_i \\right)\\\\\n",
    "\\frac{\\partial E}{\\partial p_u} &= 2 \\sum_{r_{ui}} \\lambda p_u - e_{ui}q_i^\\top\\ \\ \\ &\\longrightarrow p_u' &= p_u - \\gamma\\frac{\\partial E}{\\partial p_u} &= p_u + \\gamma\\left(e_{ui}q_i - \\lambda p_u \\right) \\\\\n",
    "\\frac{\\partial E}{\\partial q_i} &= 2 \\sum_{r_{ui}} \\lambda q_i - e_{ui}p_u^\\top\\ \\ \\ &\\longrightarrow q_i' &= q_i - \\gamma\\frac{\\partial E}{\\partial q_i} &= q_i + \\gamma\\left(e_{ui}p_u - \\lambda q_i \\right) \\\\\n",
    "\\end{split}\n",
    "$$\n",
    "\n",
    "The code below is a direct implementation of this by simply iteratively applying the above equations for each data point via SGD."
   ]
  },
  {
   "cell_type": "markdown",
   "metadata": {},
   "source": [
    "## Implementation"
   ]
  },
  {
   "cell_type": "code",
   "execution_count": 41,
   "metadata": {
    "collapsed": true
   },
   "outputs": [],
   "source": [
    "# Hyperparameters\n",
    "gamma = 0.002\n",
    "lambda_ = 0.02\n",
    "num_epochs = 20\n",
    "num_factors = 40"
   ]
  },
  {
   "cell_type": "code",
   "execution_count": 42,
   "metadata": {
    "collapsed": true
   },
   "outputs": [],
   "source": [
    "class SVDModel(object):\n",
    "    def __init__(self, num_items, num_users, mean,\n",
    "                 num_factors = 100, init_variance = 0.1):\n",
    "        self.mu = mean\n",
    "        self.num_items = num_items\n",
    "        self.num_users = num_users\n",
    "        self.num_factors = num_factors\n",
    "        #dtype = np.float32\n",
    "        # Deviations, per-item:\n",
    "        self.b_i = np.zeros((num_items,), dtype=np.float32)\n",
    "        # Deviations; per-user:\n",
    "        self.b_u = np.zeros((num_users,), dtype=np.float32)\n",
    "        # Factor matrices:\n",
    "        self.q = (np.random.randn(num_factors, num_items) * init_variance)#.astype(dtype=np.float32)\n",
    "        self.p = (np.random.randn(num_factors, num_users) * init_variance)#.astype(dtype=np.float32)\n",
    "        # N.B. row I of q is item I's \"concepts\", so to speak;\n",
    "        # column U of p is how much user U belongs to each \"concept\"\n",
    "    \n",
    "    def predict(self, items, users):\n",
    "        \"\"\"Returns rating prediction for specific items and users.\n",
    "\n",
    "        Parameters:\n",
    "        items -- 1D array of item IDs\n",
    "        users -- 1D array of user IDs (same length as :items:)\n",
    "        \n",
    "        Returns:\n",
    "        ratings -- 1D array of predicted ratings (same length as :items:)\n",
    "        \"\"\"\n",
    "        # Note that we don't multiply p & q like matrices here,\n",
    "        # but rather, we just do row-by-row dot products.\n",
    "        # Matrix multiply would give us every combination of item and user,\n",
    "        # which isn't what we want.\n",
    "        return self.mu + \\\n",
    "               self.b_i[items] + \\\n",
    "               self.b_u[users] + \\\n",
    "               (self.q[:, items] * self.p[:, users]).sum(axis=0)\n",
    "    \n",
    "    def error(self, items, users, ratings, batch_size=256):\n",
    "        \"\"\"Predicts over the given items and users, compares with the correct\n",
    "        ratings, and returns RMSE and MAE.\n",
    "        \n",
    "        Parameters:\n",
    "        items -- 1D array of item IDs\n",
    "        users -- 1D array of user IDs (same length as :items:)\n",
    "        ratings -- 1D array of 'correct' item ratings (same length as :items:)\n",
    "        \n",
    "        Returns:\n",
    "        rmse, mae -- Scalars for RMS error and mean absolute error\n",
    "        \"\"\"\n",
    "        sqerr = 0\n",
    "        abserr = 0\n",
    "        for i0 in range(0, len(items), batch_size):\n",
    "            i1 = min(i0 + batch_size, len(items))\n",
    "            p = self.predict(items[i0:i1], users[i0:i1])\n",
    "            d = p - ratings[i0:i1]\n",
    "            sqerr += np.square(d).sum()\n",
    "            abserr += np.abs(d).sum()\n",
    "        rmse = np.sqrt(sqerr / items.size)\n",
    "        mae = abserr / items.size\n",
    "        return rmse, mae\n",
    "    \n",
    "    def update_by_gradient(self, i, u, r_ui, lambda_, gamma):\n",
    "        \"\"\"Perform a single gradient-descent update.\"\"\"\n",
    "        e_ui = r_ui - self.predict(i, u)\n",
    "        dbi = gamma * (e_ui - lambda_ * self.b_u[u])\n",
    "        dbu = gamma * (e_ui - lambda_ * self.b_i[i])\n",
    "        dpu = gamma * (e_ui * self.q[:,i] - lambda_ * self.p[:, u])\n",
    "        dqi = gamma * (e_ui * self.p[:,u] - lambda_ * self.q[:, i])\n",
    "        self.b_i[i] += dbi\n",
    "        self.b_u[u] += dbu\n",
    "        self.p[:,u] += dpu\n",
    "        self.q[:,i] += dqi\n",
    "        \n",
    "    def train(self, items, users, ratings, gamma = 0.005, lambda_ = 0.02,\n",
    "              num_epochs=20, epoch_callback=None):\n",
    "        \"\"\"Train with stochastic gradient-descent\"\"\"\n",
    "        import sys\n",
    "        import time\n",
    "        for epoch in range(num_epochs):\n",
    "            t0 = time.time()\n",
    "            total = 0\n",
    "            for idx in np.random.permutation(len(items)):\n",
    "                d = 2000000\n",
    "                if (idx > 0 and idx % d == 0):\n",
    "                    total += d\n",
    "                    dt = time.time() - t0\n",
    "                    rate = total / dt\n",
    "                    sys.stdout.write(\"{:.0f}/s \".format(rate))\n",
    "                i, u, r_ui = items[idx], users[idx], ratings[idx]\n",
    "                self.update_by_gradient(i, u, r_ui, lambda_, gamma)\n",
    "            if epoch_callback: epoch_callback(self, epoch, num_epochs)"
   ]
  },
  {
   "cell_type": "markdown",
   "metadata": {},
   "source": [
    "## Running & Testing"
   ]
  },
  {
   "cell_type": "code",
   "execution_count": 43,
   "metadata": {
    "collapsed": true
   },
   "outputs": [],
   "source": [
    "movies_train = ml_train[\"movie_id\"].values\n",
    "users_train = ml_train[\"user_id\"].values\n",
    "ratings_train = ml_train[\"rating\"].values\n",
    "movies_test = ml_test[\"movie_id\"].values\n",
    "users_test = ml_test[\"user_id\"].values\n",
    "ratings_test = ml_test[\"rating\"].values\n",
    "def at_epoch(self, epoch, num_epochs):\n",
    "    train_rmse, train_mae = self.error(movies_train, users_train, ratings_train)\n",
    "    test_rmse, test_mae = self.error(movies_test, users_test, ratings_test)\n",
    "    np.savez_compressed(\"svd{}\".format(num_factors),\n",
    "                        (self.b_i, self.b_u, self.p, self.q))\n",
    "    print()\n",
    "    print(\"Epoch {:02d}/{}; Training: MAE={:.3f} RMSE={:.3f}, Testing: MAE={:.3f} RMSE={:.3f}\".format(epoch + 1, num_epochs, train_mae, train_rmse, test_mae, test_rmse))"
   ]
  },
  {
   "cell_type": "code",
   "execution_count": 44,
   "metadata": {},
   "outputs": [
    {
     "name": "stdout",
     "output_type": "stream",
     "text": [
      "15036/s 22596/s 19855/s 14757/s 17767/s 21093/s 13066/s \n",
      "Epoch 01/20; Training: MAE=0.674 RMSE=0.874, Testing: MAE=0.677 RMSE=0.879\n",
      "74462/s 11839/s 10511/s 13999/s 14212/s 15879/s 15382/s \n",
      "Epoch 02/20; Training: MAE=0.663 RMSE=0.861, Testing: MAE=0.668 RMSE=0.868\n",
      "70895/s 17146/s 18888/s 15870/s 17133/s 18711/s 19075/s \n",
      "Epoch 03/20; Training: MAE=0.657 RMSE=0.854, Testing: MAE=0.663 RMSE=0.863\n",
      "20793/s 14528/s 19919/s 20386/s 18463/s 19494/s 17381/s \n",
      "Epoch 04/20; Training: MAE=0.650 RMSE=0.846, Testing: MAE=0.658 RMSE=0.857\n",
      "4393/s 6059/s 8104/s 9617/s 9714/s 11295/s 12753/s \n",
      "Epoch 05/20; Training: MAE=0.641 RMSE=0.835, Testing: MAE=0.650 RMSE=0.848\n",
      "429210/s 7860/s 10251/s 9950/s 12195/s 11808/s 13618/s \n",
      "Epoch 06/20; Training: MAE=0.633 RMSE=0.825, Testing: MAE=0.644 RMSE=0.840\n",
      "16668/s 9210/s 13636/s 18009/s 22094/s 18734/s 15691/s \n",
      "Epoch 07/20; Training: MAE=0.625 RMSE=0.815, Testing: MAE=0.638 RMSE=0.833\n",
      "80393/s 23270/s 18701/s 15395/s 11712/s 11495/s 13027/s \n",
      "Epoch 08/20; Training: MAE=0.617 RMSE=0.805, Testing: MAE=0.632 RMSE=0.826\n",
      "9251/s 9103/s 10085/s 12067/s 11943/s 12774/s 13418/s \n",
      "Epoch 09/20; Training: MAE=0.609 RMSE=0.795, Testing: MAE=0.627 RMSE=0.820\n",
      "12778/s 17164/s 11785/s 12955/s 13692/s 13034/s 13956/s \n",
      "Epoch 10/20; Training: MAE=0.602 RMSE=0.786, Testing: MAE=0.623 RMSE=0.815\n",
      "12212/s 12946/s 17883/s 17633/s 21838/s 21390/s 20171/s \n",
      "Epoch 11/20; Training: MAE=0.596 RMSE=0.777, Testing: MAE=0.619 RMSE=0.810\n",
      "17671/s 20510/s 9887/s 12867/s 13133/s 13125/s 14893/s \n",
      "Epoch 12/20; Training: MAE=0.589 RMSE=0.769, Testing: MAE=0.616 RMSE=0.806\n",
      "20508/s 17685/s 10763/s 9678/s 11120/s 12370/s 13993/s \n",
      "Epoch 13/20; Training: MAE=0.583 RMSE=0.761, Testing: MAE=0.613 RMSE=0.802\n",
      "1708998/s 8561/s 8027/s 10438/s 10665/s 11404/s 12943/s \n",
      "Epoch 14/20; Training: MAE=0.577 RMSE=0.754, Testing: MAE=0.610 RMSE=0.799\n",
      "8947/s 16451/s 18071/s 18145/s 15515/s 12818/s 14072/s \n",
      "Epoch 15/20; Training: MAE=0.572 RMSE=0.747, Testing: MAE=0.608 RMSE=0.796\n",
      "26437/s 13548/s 18003/s 20294/s 21024/s 17567/s 14874/s \n",
      "Epoch 16/20; Training: MAE=0.567 RMSE=0.740, Testing: MAE=0.606 RMSE=0.794\n",
      "23548/s 7148/s 10095/s 10979/s 10621/s 12622/s 14274/s \n",
      "Epoch 17/20; Training: MAE=0.562 RMSE=0.734, Testing: MAE=0.604 RMSE=0.792\n",
      "6854/s 10822/s 12009/s 14084/s 13504/s 15597/s 17671/s \n",
      "Epoch 18/20; Training: MAE=0.558 RMSE=0.728, Testing: MAE=0.603 RMSE=0.790\n",
      "6687/s 11854/s 13383/s 13476/s 16375/s 15673/s 14380/s \n",
      "Epoch 19/20; Training: MAE=0.553 RMSE=0.722, Testing: MAE=0.601 RMSE=0.789\n",
      "41227/s 56282/s 21041/s 19560/s 12949/s 15123/s 13825/s \n",
      "Epoch 20/20; Training: MAE=0.549 RMSE=0.716, Testing: MAE=0.600 RMSE=0.787\n"
     ]
    }
   ],
   "source": [
    "svd40 = SVDModel(max_movie, max_user, ml[\"rating\"].mean(), num_factors=num_factors)\n",
    "svd40.train(movies_train, users_train, ratings_train, epoch_callback=at_epoch)"
   ]
  },
  {
   "cell_type": "code",
   "execution_count": 45,
   "metadata": {
    "collapsed": true
   },
   "outputs": [],
   "source": [
    "test_rmse, test_mae = svd40.error(movies_test, users_test, ratings_test)\n",
    "test_results.append((\"\", \"SVD\", test_mae, test_rmse))"
   ]
  },
  {
   "cell_type": "markdown",
   "metadata": {},
   "source": [
    "## Visualization\n",
    "\n",
    "As this is a latent-factor model, it might have some other things to tell us than predictions.  We can easily train on a much lower-dimensional concept space, and visualize directly how it is mapping movies.  Below we use just 4 dimensions/factors, and pick pairs of 2 dimensions to plot."
   ]
  },
  {
   "cell_type": "code",
   "execution_count": 46,
   "metadata": {},
   "outputs": [
    {
     "name": "stdout",
     "output_type": "stream",
     "text": [
      "141267/s 48333/s 59376/s 16494/s 16500/s 19764/s 19660/s \n",
      "Epoch 01/20; Training: MAE=0.675 RMSE=0.875, Testing: MAE=0.677 RMSE=0.878\n",
      "39345/s 48282/s 21850/s 13761/s 14796/s 15355/s 14042/s \n",
      "Epoch 02/20; Training: MAE=0.664 RMSE=0.863, Testing: MAE=0.667 RMSE=0.868\n",
      "17232/s 16784/s 8351/s 10489/s 12978/s 14626/s 14598/s \n",
      "Epoch 03/20; Training: MAE=0.660 RMSE=0.858, Testing: MAE=0.664 RMSE=0.864\n",
      "54798/s 66991/s 19985/s 21117/s 25419/s 16579/s 16479/s \n",
      "Epoch 04/20; Training: MAE=0.656 RMSE=0.854, Testing: MAE=0.661 RMSE=0.861\n",
      "10634/s 11576/s 13238/s 14232/s 17433/s 15165/s 13456/s \n",
      "Epoch 05/20; Training: MAE=0.651 RMSE=0.848, Testing: MAE=0.657 RMSE=0.855\n",
      "70102/s 98727/s 40175/s 19981/s 16783/s 17168/s 19782/s \n",
      "Epoch 06/20; Training: MAE=0.644 RMSE=0.839, Testing: MAE=0.650 RMSE=0.848\n",
      "15127/s 6093/s 8834/s 10637/s 10841/s 12702/s 14437/s \n",
      "Epoch 07/20; Training: MAE=0.638 RMSE=0.832, Testing: MAE=0.646 RMSE=0.843\n",
      "5926/s 10682/s 12515/s 16091/s 16105/s 13521/s 14469/s \n",
      "Epoch 08/20; Training: MAE=0.634 RMSE=0.827, Testing: MAE=0.642 RMSE=0.838\n",
      "378092/s 32912/s 34902/s 27362/s 18032/s 14720/s 16327/s \n",
      "Epoch 09/20; Training: MAE=0.630 RMSE=0.822, Testing: MAE=0.639 RMSE=0.835\n",
      "82648/s 12067/s 15635/s 17420/s 20456/s 12836/s 14233/s \n",
      "Epoch 10/20; Training: MAE=0.626 RMSE=0.817, Testing: MAE=0.636 RMSE=0.831\n",
      "110737/s 10923/s 9478/s 10499/s 11344/s 13592/s 13629/s \n",
      "Epoch 11/20; Training: MAE=0.622 RMSE=0.812, Testing: MAE=0.633 RMSE=0.827\n",
      "8769/s 10590/s 15647/s 13983/s 14605/s 15077/s 14524/s \n",
      "Epoch 12/20; Training: MAE=0.618 RMSE=0.807, Testing: MAE=0.630 RMSE=0.824\n",
      "11916/s 13478/s 16723/s 16201/s 19881/s 13384/s 14183/s \n",
      "Epoch 13/20; Training: MAE=0.615 RMSE=0.802, Testing: MAE=0.628 RMSE=0.820\n",
      "12872/s 24671/s 22261/s 16139/s 16274/s 15946/s 14359/s \n",
      "Epoch 14/20; Training: MAE=0.611 RMSE=0.798, Testing: MAE=0.625 RMSE=0.818\n",
      "7239/s 10940/s 16331/s 20749/s 21943/s 18745/s 16545/s \n",
      "Epoch 15/20; Training: MAE=0.608 RMSE=0.794, Testing: MAE=0.623 RMSE=0.815\n",
      "49453/s 57963/s 13913/s 17458/s 14369/s 15678/s 13335/s \n",
      "Epoch 16/20; Training: MAE=0.606 RMSE=0.791, Testing: MAE=0.622 RMSE=0.813\n",
      "22603/s 40107/s 47560/s 30388/s 12579/s 14523/s 13661/s \n",
      "Epoch 17/20; Training: MAE=0.604 RMSE=0.789, Testing: MAE=0.620 RMSE=0.812\n",
      "21341/s 36793/s 36028/s 29090/s 18452/s 16229/s 16945/s \n",
      "Epoch 18/20; Training: MAE=0.602 RMSE=0.787, Testing: MAE=0.620 RMSE=0.811\n",
      "5900/s 9527/s 13703/s 17493/s 12926/s 15349/s 17713/s \n",
      "Epoch 19/20; Training: MAE=0.601 RMSE=0.785, Testing: MAE=0.619 RMSE=0.809\n",
      "9169/s 13485/s 10472/s 13205/s 14485/s 16704/s 17704/s \n",
      "Epoch 20/20; Training: MAE=0.599 RMSE=0.783, Testing: MAE=0.618 RMSE=0.809\n"
     ]
    }
   ],
   "source": [
    "svd4 = SVDModel(max_movie, max_user, ml[\"rating\"].mean(), 4)\n",
    "svd4.train(ml_train[\"movie_id\"].values, ml_train[\"user_id\"].values, ml_train[\"rating\"].values, epoch_callback=at_epoch)"
   ]
  },
  {
   "cell_type": "markdown",
   "metadata": {},
   "source": [
    "To limit the data, we can use just the top movies (by number of ratings):"
   ]
  },
  {
   "cell_type": "code",
   "execution_count": 47,
   "metadata": {
    "collapsed": true
   },
   "outputs": [],
   "source": [
    "top = movie_stats.sort_values(\"num_ratings\", ascending=False)[:100]\n",
    "ids_top = top.index.values"
   ]
  },
  {
   "cell_type": "code",
   "execution_count": 48,
   "metadata": {
    "collapsed": true
   },
   "outputs": [],
   "source": [
    "factors = svd4.q[:,ids_top].T\n",
    "means, stds = factors.mean(axis=0), factors.std(axis=0)\n",
    "factors[:] = (factors - means) / stds"
   ]
  },
  {
   "cell_type": "markdown",
   "metadata": {},
   "source": [
    "First two dimensions:"
   ]
  },
  {
   "cell_type": "code",
   "execution_count": 49,
   "metadata": {},
   "outputs": [
    {
     "data": {
      "image/png": "[encoded data removed]",
      "text/plain": [
       "<matplotlib.figure.Figure at 0x7f43f52dd358>"
      ]
     },
     "metadata": {},
     "output_type": "display_data"
    }
   ],
   "source": [
    "plt.figure(figsize=(15,15))\n",
    "markers = [\"$ {} $\".format(\"\\ \".join(m.split(\" \")[:-1])) for m in top[\"movie_title\"][:50]]\n",
    "for i,item in enumerate(factors[:50,:]):\n",
    "    l = len(markers[i])\n",
    "    plt.scatter(item[0], item[1], marker = markers[i], alpha=0.75, s = 50 * (l**2))\n",
    "plt.show()"
   ]
  },
  {
   "cell_type": "markdown",
   "metadata": {},
   "source": [
    "Last two:"
   ]
  },
  {
   "cell_type": "code",
   "execution_count": 50,
   "metadata": {},
   "outputs": [
    {
     "data": {
      "image/png": "[encoded data removed]",
      "text/plain": [
       "<matplotlib.figure.Figure at 0x7f43e636db38>"
      ]
     },
     "metadata": {},
     "output_type": "display_data"
    }
   ],
   "source": [
    "plt.figure(figsize=(15,15))\n",
    "markers = [\"$ {} $\".format(\"\\ \".join(m.split(\" \")[:-1])) for m in top[\"movie_title\"][50:]]\n",
    "for i,item in enumerate(factors[50:,:]):\n",
    "    l = len(markers[i])\n",
    "    plt.scatter(item[2], item[3], marker = markers[i], alpha=0.75, s = 50 * (l**2))\n",
    "plt.show()"
   ]
  },
  {
   "cell_type": "markdown",
   "metadata": {},
   "source": [
    "## Bias\n",
    "\n",
    "We can also look at the per-movie bias parameters in the model - loosely, how much higher or lower a movie's rating is, beyond what interactions with user preferences seem to explain. Here are the top 10 and bottom 10; interestingly, while to seems to correlate with the average rating, it doesn't seem to do so especially strongly."
   ]
  },
  {
   "cell_type": "code",
   "execution_count": 51,
   "metadata": {},
   "outputs": [
    {
     "data": {
      "text/html": [
       "<div>\n",
       "<style>\n",
       "    .dataframe thead tr:only-child th {\n",
       "        text-align: right;\n",
       "    }\n",
       "\n",
       "    .dataframe thead th {\n",
       "        text-align: left;\n",
       "    }\n",
       "\n",
       "    .dataframe tbody tr th {\n",
       "        vertical-align: top;\n",
       "    }\n",
       "</style>\n",
       "<table border=\"1\" class=\"dataframe\">\n",
       "  <thead>\n",
       "    <tr style=\"text-align: right;\">\n",
       "      <th></th>\n",
       "      <th>movie_title</th>\n",
       "      <th>num_ratings</th>\n",
       "      <th>avg_rating</th>\n",
       "      <th>bias</th>\n",
       "    </tr>\n",
       "    <tr>\n",
       "      <th>movie_id</th>\n",
       "      <th></th>\n",
       "      <th></th>\n",
       "      <th></th>\n",
       "      <th></th>\n",
       "    </tr>\n",
       "  </thead>\n",
       "  <tbody>\n",
       "    <tr>\n",
       "      <th>318</th>\n",
       "      <td>Shawshank Redemption, The (1994)</td>\n",
       "      <td>63366.0</td>\n",
       "      <td>4.446990</td>\n",
       "      <td>1.052435</td>\n",
       "    </tr>\n",
       "    <tr>\n",
       "      <th>100553</th>\n",
       "      <td>Frozen Planet (2011)</td>\n",
       "      <td>31.0</td>\n",
       "      <td>4.209677</td>\n",
       "      <td>1.041842</td>\n",
       "    </tr>\n",
       "    <tr>\n",
       "      <th>93040</th>\n",
       "      <td>Civil War, The (1990)</td>\n",
       "      <td>256.0</td>\n",
       "      <td>4.113281</td>\n",
       "      <td>0.969315</td>\n",
       "    </tr>\n",
       "    <tr>\n",
       "      <th>50</th>\n",
       "      <td>Usual Suspects, The (1995)</td>\n",
       "      <td>47006.0</td>\n",
       "      <td>4.334372</td>\n",
       "      <td>0.948675</td>\n",
       "    </tr>\n",
       "    <tr>\n",
       "      <th>858</th>\n",
       "      <td>Godfather, The (1972)</td>\n",
       "      <td>41355.0</td>\n",
       "      <td>4.364732</td>\n",
       "      <td>0.944649</td>\n",
       "    </tr>\n",
       "    <tr>\n",
       "      <th>102217</th>\n",
       "      <td>Bill Hicks: Revelations (1993)</td>\n",
       "      <td>50.0</td>\n",
       "      <td>3.990000</td>\n",
       "      <td>0.921898</td>\n",
       "    </tr>\n",
       "    <tr>\n",
       "      <th>105250</th>\n",
       "      <td>Century of the Self, The (2002)</td>\n",
       "      <td>43.0</td>\n",
       "      <td>3.930233</td>\n",
       "      <td>0.918362</td>\n",
       "    </tr>\n",
       "    <tr>\n",
       "      <th>77658</th>\n",
       "      <td>Cosmos (1980)</td>\n",
       "      <td>936.0</td>\n",
       "      <td>4.220620</td>\n",
       "      <td>0.910754</td>\n",
       "    </tr>\n",
       "    <tr>\n",
       "      <th>7502</th>\n",
       "      <td>Band of Brothers (2001)</td>\n",
       "      <td>4305.0</td>\n",
       "      <td>4.263182</td>\n",
       "      <td>0.901374</td>\n",
       "    </tr>\n",
       "    <tr>\n",
       "      <th>527</th>\n",
       "      <td>Schindler's List (1993)</td>\n",
       "      <td>50054.0</td>\n",
       "      <td>4.310175</td>\n",
       "      <td>0.899333</td>\n",
       "    </tr>\n",
       "  </tbody>\n",
       "</table>\n",
       "</div>"
      ],
      "text/plain": [
       "                               movie_title  num_ratings  avg_rating      bias\n",
       "movie_id                                                                     \n",
       "318       Shawshank Redemption, The (1994)      63366.0    4.446990  1.052435\n",
       "100553                Frozen Planet (2011)         31.0    4.209677  1.041842\n",
       "93040                Civil War, The (1990)        256.0    4.113281  0.969315\n",
       "50              Usual Suspects, The (1995)      47006.0    4.334372  0.948675\n",
       "858                  Godfather, The (1972)      41355.0    4.364732  0.944649\n",
       "102217      Bill Hicks: Revelations (1993)         50.0    3.990000  0.921898\n",
       "105250     Century of the Self, The (2002)         43.0    3.930233  0.918362\n",
       "77658                        Cosmos (1980)        936.0    4.220620  0.910754\n",
       "7502               Band of Brothers (2001)       4305.0    4.263182  0.901374\n",
       "527                Schindler's List (1993)      50054.0    4.310175  0.899333"
      ]
     },
     "execution_count": 51,
     "metadata": {},
     "output_type": "execute_result"
    }
   ],
   "source": [
    "#bias = movie_stats.assign(bias = svd40.b_i[:-1]).sort_values(\"bias\", ascending=False)\n",
    "bias = movie_stats.join(pd.Series(svd40.b_i[:-1]).rename(\"bias\")).sort_values(\"bias\", ascending=False).dropna()\n",
    "bias.iloc[:10]"
   ]
  },
  {
   "cell_type": "code",
   "execution_count": 52,
   "metadata": {},
   "outputs": [
    {
     "data": {
      "text/html": [
       "<div>\n",
       "<style>\n",
       "    .dataframe thead tr:only-child th {\n",
       "        text-align: right;\n",
       "    }\n",
       "\n",
       "    .dataframe thead th {\n",
       "        text-align: left;\n",
       "    }\n",
       "\n",
       "    .dataframe tbody tr th {\n",
       "        vertical-align: top;\n",
       "    }\n",
       "</style>\n",
       "<table border=\"1\" class=\"dataframe\">\n",
       "  <thead>\n",
       "    <tr style=\"text-align: right;\">\n",
       "      <th></th>\n",
       "      <th>movie_title</th>\n",
       "      <th>num_ratings</th>\n",
       "      <th>avg_rating</th>\n",
       "      <th>bias</th>\n",
       "    </tr>\n",
       "    <tr>\n",
       "      <th>movie_id</th>\n",
       "      <th></th>\n",
       "      <th></th>\n",
       "      <th></th>\n",
       "      <th></th>\n",
       "    </tr>\n",
       "  </thead>\n",
       "  <tbody>\n",
       "    <tr>\n",
       "      <th>8859</th>\n",
       "      <td>SuperBabies: Baby Geniuses 2 (2004)</td>\n",
       "      <td>209.0</td>\n",
       "      <td>0.837321</td>\n",
       "      <td>-2.365153</td>\n",
       "    </tr>\n",
       "    <tr>\n",
       "      <th>54290</th>\n",
       "      <td>Bratz: The Movie (2007)</td>\n",
       "      <td>180.0</td>\n",
       "      <td>1.105556</td>\n",
       "      <td>-2.226517</td>\n",
       "    </tr>\n",
       "    <tr>\n",
       "      <th>6483</th>\n",
       "      <td>From Justin to Kelly (2003)</td>\n",
       "      <td>426.0</td>\n",
       "      <td>0.973005</td>\n",
       "      <td>-2.152925</td>\n",
       "    </tr>\n",
       "    <tr>\n",
       "      <th>61348</th>\n",
       "      <td>Disaster Movie (2008)</td>\n",
       "      <td>397.0</td>\n",
       "      <td>1.251889</td>\n",
       "      <td>-2.103650</td>\n",
       "    </tr>\n",
       "    <tr>\n",
       "      <th>6371</th>\n",
       "      <td>PokÃ©mon Heroes (2003)</td>\n",
       "      <td>325.0</td>\n",
       "      <td>1.167692</td>\n",
       "      <td>-2.055931</td>\n",
       "    </tr>\n",
       "    <tr>\n",
       "      <th>31698</th>\n",
       "      <td>Son of the Mask (2005)</td>\n",
       "      <td>467.0</td>\n",
       "      <td>1.252677</td>\n",
       "      <td>-2.053145</td>\n",
       "    </tr>\n",
       "    <tr>\n",
       "      <th>4775</th>\n",
       "      <td>Glitter (2001)</td>\n",
       "      <td>685.0</td>\n",
       "      <td>1.124088</td>\n",
       "      <td>-2.051627</td>\n",
       "    </tr>\n",
       "    <tr>\n",
       "      <th>1826</th>\n",
       "      <td>Barney's Great Adventure (1998)</td>\n",
       "      <td>419.0</td>\n",
       "      <td>1.163484</td>\n",
       "      <td>-2.050274</td>\n",
       "    </tr>\n",
       "    <tr>\n",
       "      <th>5739</th>\n",
       "      <td>Faces of Death 6 (1996)</td>\n",
       "      <td>174.0</td>\n",
       "      <td>1.261494</td>\n",
       "      <td>-1.965182</td>\n",
       "    </tr>\n",
       "  </tbody>\n",
       "</table>\n",
       "</div>"
      ],
      "text/plain": [
       "                                  movie_title  num_ratings  avg_rating  \\\n",
       "movie_id                                                                 \n",
       "8859      SuperBabies: Baby Geniuses 2 (2004)        209.0    0.837321   \n",
       "54290                 Bratz: The Movie (2007)        180.0    1.105556   \n",
       "6483              From Justin to Kelly (2003)        426.0    0.973005   \n",
       "61348                   Disaster Movie (2008)        397.0    1.251889   \n",
       "6371                   PokÃ©mon Heroes (2003)        325.0    1.167692   \n",
       "31698                  Son of the Mask (2005)        467.0    1.252677   \n",
       "4775                           Glitter (2001)        685.0    1.124088   \n",
       "1826          Barney's Great Adventure (1998)        419.0    1.163484   \n",
       "5739                  Faces of Death 6 (1996)        174.0    1.261494   \n",
       "\n",
       "              bias  \n",
       "movie_id            \n",
       "8859     -2.365153  \n",
       "54290    -2.226517  \n",
       "6483     -2.152925  \n",
       "61348    -2.103650  \n",
       "6371     -2.055931  \n",
       "31698    -2.053145  \n",
       "4775     -2.051627  \n",
       "1826     -2.050274  \n",
       "5739     -1.965182  "
      ]
     },
     "execution_count": 52,
     "metadata": {},
     "output_type": "execute_result"
    }
   ],
   "source": [
    "bias.iloc[:-10:-1]"
   ]
  },
  {
   "cell_type": "markdown",
   "metadata": {},
   "source": [
    "# Implementations in `scikit-surprise`\n",
    "\n",
    "[Surprise](http://surpriselib.com/) contains implementations of many of the same things, so these are tested below. This same dataset is included as a built-in, but for consistency, we may as well load it from our dataframe.\n",
    "\n",
    "Results below are cross-validated, while our results above aren't, so comparison may have some noise to it (i.e. if you change the random seed you may see our results perform much better or worse while the Surprise results should be more consistent)."
   ]
  },
  {
   "cell_type": "code",
   "execution_count": 53,
   "metadata": {
    "collapsed": true
   },
   "outputs": [],
   "source": [
    "import surprise\n",
    "from surprise.dataset import Dataset"
   ]
  },
  {
   "cell_type": "code",
   "execution_count": 54,
   "metadata": {
    "collapsed": true
   },
   "outputs": [],
   "source": [
    "reader = surprise.Reader(rating_scale=(1, 5))\n",
    "data = Dataset.load_from_df(ml[[\"user_id\", \"movie_id\", \"rating\"]], reader)"
   ]
  },
  {
   "cell_type": "code",
   "execution_count": 55,
   "metadata": {},
   "outputs": [
    {
     "ename": "Exception",
     "evalue": "Easier to fail here than wait for kernel OOM killer...",
     "output_type": "error",
     "traceback": [
      "\u001b[0;31m---------------------------------------------------------------------------\u001b[0m",
      "\u001b[0;31mException\u001b[0m                                 Traceback (most recent call last)",
      "\u001b[0;32m<ipython-input-55-b09ef7341e08>\u001b[0m in \u001b[0;36m<module>\u001b[0;34m()\u001b[0m\n\u001b[0;32m----> 1\u001b[0;31m \u001b[0;32mraise\u001b[0m \u001b[0mException\u001b[0m\u001b[0;34m(\u001b[0m\u001b[0;34m\"Easier to fail here than wait for kernel OOM killer...\"\u001b[0m\u001b[0;34m)\u001b[0m\u001b[0;34m\u001b[0m\u001b[0m\n\u001b[0m\u001b[1;32m      2\u001b[0m \u001b[0mcv\u001b[0m\u001b[0;34m=\u001b[0m\u001b[0;36m5\u001b[0m\u001b[0;34m\u001b[0m\u001b[0m\n\u001b[1;32m      3\u001b[0m \u001b[0mcv_random\u001b[0m \u001b[0;34m=\u001b[0m \u001b[0msurprise\u001b[0m\u001b[0;34m.\u001b[0m\u001b[0mmodel_selection\u001b[0m\u001b[0;34m.\u001b[0m\u001b[0mcross_validate\u001b[0m\u001b[0;34m(\u001b[0m\u001b[0msurprise\u001b[0m\u001b[0;34m.\u001b[0m\u001b[0mNormalPredictor\u001b[0m\u001b[0;34m(\u001b[0m\u001b[0;34m)\u001b[0m\u001b[0;34m,\u001b[0m \u001b[0mdata\u001b[0m\u001b[0;34m,\u001b[0m \u001b[0mcv\u001b[0m\u001b[0;34m=\u001b[0m\u001b[0mcv\u001b[0m\u001b[0;34m)\u001b[0m\u001b[0;34m\u001b[0m\u001b[0m\n",
      "\u001b[0;31mException\u001b[0m: Easier to fail here than wait for kernel OOM killer..."
     ]
    }
   ],
   "source": [
    "raise Exception(\"Easier to fail here than wait for kernel OOM killer...\")\n",
    "cv=5\n",
    "cv_random = surprise.model_selection.cross_validate(surprise.NormalPredictor(), data, cv=cv)"
   ]
  },
  {
   "cell_type": "code",
   "execution_count": null,
   "metadata": {
    "collapsed": true
   },
   "outputs": [],
   "source": [
    "cv_sl1 = surprise.model_selection.cross_validate(surprise.SlopeOne(), data, cv=cv)"
   ]
  },
  {
   "cell_type": "code",
   "execution_count": null,
   "metadata": {
    "collapsed": true
   },
   "outputs": [],
   "source": [
    "cv_svd = surprise.model_selection.cross_validate(surprise.SVD(), data, cv=cv)"
   ]
  },
  {
   "cell_type": "markdown",
   "metadata": {},
   "source": [
    "# Overall results"
   ]
  },
  {
   "cell_type": "code",
   "execution_count": null,
   "metadata": {
    "collapsed": true
   },
   "outputs": [],
   "source": [
    "get_record = lambda name, df: \\\n",
    "    (\"Surprise\", name, df[\"test_mae\"].sum() / cv, df[\"test_rmse\"].sum() / cv)\n",
    "cv_data_surprise = [\n",
    "    get_record(name,d) for name,d in [(\"Random\", cv_random), (\"Slope One\", cv_sl1), (\"SVD\", cv_svd)]\n",
    "]\n",
    "pd.DataFrame.from_records(\n",
    "    data=test_results + cv_data_surprise,\n",
    "    columns=(\"Library\", \"Algorithm\", \"MAE (test)\", \"RMSE (test)\"),\n",
    ")"
   ]
  }
 ],
 "metadata": {
  "kernelspec": {
   "display_name": "Python 3",
   "language": "python",
   "name": "python3"
  },
  "language_info": {
   "codemirror_mode": {
    "name": "ipython",
    "version": 3
   },
   "file_extension": ".py",
   "mimetype": "text/x-python",
   "name": "python",
   "nbconvert_exporter": "python",
   "pygments_lexer": "ipython3",
   "version": "3.6.4"
  }
 },
 "nbformat": 4,
 "nbformat_minor": 2
}
