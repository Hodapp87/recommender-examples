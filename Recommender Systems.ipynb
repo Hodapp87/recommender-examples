{
 "cells": [
  {
   "cell_type": "markdown",
   "metadata": {},
   "source": [
    "# Recommender Systems\n",
    "- Author: Chris Hodapp\n",
    "- Date: 2018-02-04"
   ]
  },
  {
   "cell_type": "markdown",
   "metadata": {},
   "source": [
    "The aim of this notebook is to briefly explain *recommender systems*, show some specific examples of them, and to demonstrate simple implementations of them in Python/NumPy/Pandas.\n",
    "\n",
    "Recommender systems are quite a broad subject on their own.  This notebook focuses on movie recommendations from explicit ratings. That is, it's focusing on the scenario in which:\n",
    "\n",
    "- There are a large number of users and a large number of movies.\n",
    "- Users have supplied ratings on certain movies.\n",
    "- The movies are different for each user, and the vast majority of users have rated only a tiny fraction of the overall movies.\n",
    "\n",
    "The goal is to make predictions based on this data, such as:\n",
    "\n",
    "- How a given user will most likely rate specific movies they have not seen before\n",
    "- What \"new\" movies a system might recommended to them\n",
    "\n",
    "This uses the [movielens 100k](https://grouplens.org/datasets/movielens/100k/) dataset, (which you can download yourself, and should if you wish to run the code). It has 100,000 ratings total by 944 users on 1,683 different movies. As far as movie datasets go, it's fairly old (1998) and fairly small (the Netflix dataset from 10+ years ago has 1000 times as many ratings), but it's enough to work with. In any case, MovieLens has [newer and larger](https://grouplens.org/datasets/movielens/latest/) datasets too.\n",
    "\n",
    "I refer several times in this notebook to the free textbook [Mining of Massive Datasets](http://www.mmds.org/) (hereafter, just \"MMDS\"), mostly to chapter 9, *Recommendation Systems*.  It's worth reading if you want to know more.\n",
    "\n",
    "## Motivation\n",
    "\n",
    "I try to clearly implement everything I talk about here, and be specific about the method. Some other work I read in this area had me rather frustrated with its tendency to completely ignore implementation details that are both critical and very difficult for an outsider (i.e. me) to articulate questions on, and this is something I try to avoid. I'd like for you to be able to execute it yourself, to build intuition on how the math works, to understand why the code implements the math as it does, and to have good starting points for further research.\n",
    "\n",
    "In the Slope One explanation, this means I give perhaps a needless amount of detail behind the linear algebra implementation, but maybe some will find it valuable (besides just me when I try to read this code in 3 months).\n",
    "\n",
    "## Organization\n",
    "\n",
    "I start out by loading the movielens data (just the parts I need), exploring it briefly, and converting it to a form we need.\n",
    "\n",
    "Following that, I start with a simple (but surprisingly effective) collaborative filtering model, Slope One Predictors.  I explain it, implement it with some linear algebra shortcuts, and run it on the data.\n",
    "\n",
    "I go from here to a slightly more complicated method (the badly-named \"SVD\" algorithm) that is based on matrix completion using matrix decomposition. I explain this, implement it with gradient-descent, and run it on the data. I also use this as an opportunity to visualize a latent feature space that the model learns.\n",
    "\n",
    "Near the end, I show how to run the same basic algorithms in [scikit-surprise](http://surpriselib.com/) rather than implement them by hand."
   ]
  },
  {
   "cell_type": "markdown",
   "metadata": {},
   "source": [
    "# Dependencies & Setup\n",
    "\n",
    "Download [movielens 100k](https://grouplens.org/datasets/movielens/100k/) and uncompress it in the local directory. There should be a `ml-100k` folder.\n",
    "\n",
    "For Python dependencies, everything I need is imported below: pandas, numpy, matplotlib, and scikit-learn."
   ]
  },
  {
   "cell_type": "code",
   "execution_count": 1,
   "metadata": {
    "collapsed": true
   },
   "outputs": [],
   "source": [
    "import pandas as pd\n",
    "import numpy as np\n",
    "import matplotlib.pyplot as plt\n",
    "import sklearn.model_selection"
   ]
  },
  {
   "cell_type": "markdown",
   "metadata": {},
   "source": [
    "# Loading data\n",
    "\n",
    "I don't explain this in detail. This is just standard calls in [Pandas](https://pandas.pydata.org/) and little details that are boring but essential:"
   ]
  },
  {
   "cell_type": "code",
   "execution_count": 2,
   "metadata": {
    "collapsed": true
   },
   "outputs": [],
   "source": [
    "ml = pd.read_csv(\"ml-100k/u_train.data\", sep=\"\\t\", header=None,\n",
    "                 names=(\"user_id\", \"movie_id\", \"rating\", \"time\"))\n",
    "# Convert Unix seconds to a Pandas timestamp:\n",
    "ml[\"time\"] = pd.to_datetime(ml[\"time\"], unit=\"s\")"
   ]
  },
  {
   "cell_type": "markdown",
   "metadata": {},
   "source": [
    "Below is just to inspect that data appears to be okay:"
   ]
  },
  {
   "cell_type": "code",
   "execution_count": 3,
   "metadata": {},
   "outputs": [
    {
     "data": {
      "text/html": [
       "<div>\n",
       "<style>\n",
       "    .dataframe thead tr:only-child th {\n",
       "        text-align: right;\n",
       "    }\n",
       "\n",
       "    .dataframe thead th {\n",
       "        text-align: left;\n",
       "    }\n",
       "\n",
       "    .dataframe tbody tr th {\n",
       "        vertical-align: top;\n",
       "    }\n",
       "</style>\n",
       "<table border=\"1\" class=\"dataframe\">\n",
       "  <thead>\n",
       "    <tr style=\"text-align: right;\">\n",
       "      <th></th>\n",
       "      <th>user_id</th>\n",
       "      <th>movie_id</th>\n",
       "      <th>rating</th>\n",
       "    </tr>\n",
       "  </thead>\n",
       "  <tbody>\n",
       "    <tr>\n",
       "      <th>count</th>\n",
       "      <td>80000.000000</td>\n",
       "      <td>80000.000000</td>\n",
       "      <td>80000.000000</td>\n",
       "    </tr>\n",
       "    <tr>\n",
       "      <th>mean</th>\n",
       "      <td>414.506850</td>\n",
       "      <td>425.171837</td>\n",
       "      <td>3.531538</td>\n",
       "    </tr>\n",
       "    <tr>\n",
       "      <th>std</th>\n",
       "      <td>248.437774</td>\n",
       "      <td>330.509418</td>\n",
       "      <td>1.127418</td>\n",
       "    </tr>\n",
       "    <tr>\n",
       "      <th>min</th>\n",
       "      <td>1.000000</td>\n",
       "      <td>1.000000</td>\n",
       "      <td>1.000000</td>\n",
       "    </tr>\n",
       "    <tr>\n",
       "      <th>25%</th>\n",
       "      <td>221.750000</td>\n",
       "      <td>175.000000</td>\n",
       "      <td>3.000000</td>\n",
       "    </tr>\n",
       "    <tr>\n",
       "      <th>50%</th>\n",
       "      <td>393.000000</td>\n",
       "      <td>321.000000</td>\n",
       "      <td>4.000000</td>\n",
       "    </tr>\n",
       "    <tr>\n",
       "      <th>75%</th>\n",
       "      <td>608.000000</td>\n",
       "      <td>631.000000</td>\n",
       "      <td>4.000000</td>\n",
       "    </tr>\n",
       "    <tr>\n",
       "      <th>max</th>\n",
       "      <td>943.000000</td>\n",
       "      <td>1679.000000</td>\n",
       "      <td>5.000000</td>\n",
       "    </tr>\n",
       "  </tbody>\n",
       "</table>\n",
       "</div>"
      ],
      "text/plain": [
       "            user_id      movie_id        rating\n",
       "count  80000.000000  80000.000000  80000.000000\n",
       "mean     414.506850    425.171837      3.531538\n",
       "std      248.437774    330.509418      1.127418\n",
       "min        1.000000      1.000000      1.000000\n",
       "25%      221.750000    175.000000      3.000000\n",
       "50%      393.000000    321.000000      4.000000\n",
       "75%      608.000000    631.000000      4.000000\n",
       "max      943.000000   1679.000000      5.000000"
      ]
     },
     "execution_count": 3,
     "metadata": {},
     "output_type": "execute_result"
    }
   ],
   "source": [
    "ml.describe()"
   ]
  },
  {
   "cell_type": "code",
   "execution_count": 4,
   "metadata": {},
   "outputs": [
    {
     "data": {
      "text/html": [
       "<div>\n",
       "<style>\n",
       "    .dataframe thead tr:only-child th {\n",
       "        text-align: right;\n",
       "    }\n",
       "\n",
       "    .dataframe thead th {\n",
       "        text-align: left;\n",
       "    }\n",
       "\n",
       "    .dataframe tbody tr th {\n",
       "        vertical-align: top;\n",
       "    }\n",
       "</style>\n",
       "<table border=\"1\" class=\"dataframe\">\n",
       "  <thead>\n",
       "    <tr style=\"text-align: right;\">\n",
       "      <th></th>\n",
       "      <th>user_id</th>\n",
       "      <th>movie_id</th>\n",
       "      <th>rating</th>\n",
       "      <th>time</th>\n",
       "    </tr>\n",
       "  </thead>\n",
       "  <tbody>\n",
       "    <tr>\n",
       "      <th>0</th>\n",
       "      <td>196</td>\n",
       "      <td>242</td>\n",
       "      <td>3</td>\n",
       "      <td>1997-12-04 15:55:49</td>\n",
       "    </tr>\n",
       "    <tr>\n",
       "      <th>1</th>\n",
       "      <td>186</td>\n",
       "      <td>302</td>\n",
       "      <td>3</td>\n",
       "      <td>1998-04-04 19:22:22</td>\n",
       "    </tr>\n",
       "    <tr>\n",
       "      <th>2</th>\n",
       "      <td>22</td>\n",
       "      <td>377</td>\n",
       "      <td>1</td>\n",
       "      <td>1997-11-07 07:18:36</td>\n",
       "    </tr>\n",
       "    <tr>\n",
       "      <th>3</th>\n",
       "      <td>244</td>\n",
       "      <td>51</td>\n",
       "      <td>2</td>\n",
       "      <td>1997-11-27 05:02:03</td>\n",
       "    </tr>\n",
       "    <tr>\n",
       "      <th>4</th>\n",
       "      <td>166</td>\n",
       "      <td>346</td>\n",
       "      <td>1</td>\n",
       "      <td>1998-02-02 05:33:16</td>\n",
       "    </tr>\n",
       "    <tr>\n",
       "      <th>5</th>\n",
       "      <td>298</td>\n",
       "      <td>474</td>\n",
       "      <td>4</td>\n",
       "      <td>1998-01-07 14:20:06</td>\n",
       "    </tr>\n",
       "    <tr>\n",
       "      <th>6</th>\n",
       "      <td>115</td>\n",
       "      <td>265</td>\n",
       "      <td>2</td>\n",
       "      <td>1997-12-03 17:51:28</td>\n",
       "    </tr>\n",
       "    <tr>\n",
       "      <th>7</th>\n",
       "      <td>253</td>\n",
       "      <td>465</td>\n",
       "      <td>5</td>\n",
       "      <td>1998-04-03 18:34:27</td>\n",
       "    </tr>\n",
       "    <tr>\n",
       "      <th>8</th>\n",
       "      <td>305</td>\n",
       "      <td>451</td>\n",
       "      <td>3</td>\n",
       "      <td>1998-02-01 09:20:17</td>\n",
       "    </tr>\n",
       "    <tr>\n",
       "      <th>9</th>\n",
       "      <td>6</td>\n",
       "      <td>86</td>\n",
       "      <td>3</td>\n",
       "      <td>1997-12-31 21:16:53</td>\n",
       "    </tr>\n",
       "  </tbody>\n",
       "</table>\n",
       "</div>"
      ],
      "text/plain": [
       "   user_id  movie_id  rating                time\n",
       "0      196       242       3 1997-12-04 15:55:49\n",
       "1      186       302       3 1998-04-04 19:22:22\n",
       "2       22       377       1 1997-11-07 07:18:36\n",
       "3      244        51       2 1997-11-27 05:02:03\n",
       "4      166       346       1 1998-02-02 05:33:16\n",
       "5      298       474       4 1998-01-07 14:20:06\n",
       "6      115       265       2 1997-12-03 17:51:28\n",
       "7      253       465       5 1998-04-03 18:34:27\n",
       "8      305       451       3 1998-02-01 09:20:17\n",
       "9        6        86       3 1997-12-31 21:16:53"
      ]
     },
     "execution_count": 4,
     "metadata": {},
     "output_type": "execute_result"
    }
   ],
   "source": [
    "ml[:10]"
   ]
  },
  {
   "cell_type": "code",
   "execution_count": 5,
   "metadata": {
    "scrolled": true
   },
   "outputs": [
    {
     "data": {
      "text/plain": [
       "(944, 1680, 1585920)"
      ]
     },
     "execution_count": 5,
     "metadata": {},
     "output_type": "execute_result"
    }
   ],
   "source": [
    "max_user  = int(ml[\"user_id\"].max() + 1)\n",
    "max_movie = int(ml[\"movie_id\"].max() + 1)\n",
    "max_user, max_movie, max_user * max_movie"
   ]
  },
  {
   "cell_type": "markdown",
   "metadata": {},
   "source": [
    "We have only about 5% of the possible ratings (e.g. every movie & every user):"
   ]
  },
  {
   "cell_type": "code",
   "execution_count": 6,
   "metadata": {},
   "outputs": [
    {
     "data": {
      "text/plain": [
       "5.044390637610976"
      ]
     },
     "execution_count": 6,
     "metadata": {},
     "output_type": "execute_result"
    }
   ],
   "source": [
    "100 * ml.shape[0] / (max_user * max_movie)"
   ]
  },
  {
   "cell_type": "markdown",
   "metadata": {},
   "source": [
    "## Aggregation\n",
    "\n",
    "This is partly just to explore the data a little, and partly because we need to aggregate some information to use in models later - like the number of ratings for each movie, and each movie's average rating.\n",
    "\n",
    "The dataset includes a lot of per-movie information too, but we only bother with the title so far:"
   ]
  },
  {
   "cell_type": "code",
   "execution_count": 7,
   "metadata": {
    "collapsed": true
   },
   "outputs": [],
   "source": [
    "names = pd.read_csv(\n",
    "    \"ml-100k/u.item\", sep=\"|\", header=None,\n",
    "    encoding = \"ISO-8859-1\", index_col=0,\n",
    "    names=(\"movie_id\", \"movie_title\"), usecols=[0,1])"
   ]
  },
  {
   "cell_type": "code",
   "execution_count": 8,
   "metadata": {
    "collapsed": true
   },
   "outputs": [],
   "source": [
    "movie_group = ml.groupby(\"movie_id\")\n",
    "movie_stats = names.\\\n",
    "    join(movie_group.size().rename(\"num_ratings\")).\\\n",
    "    join(movie_group.mean()[\"rating\"].rename(\"avg_rating\"))"
   ]
  },
  {
   "cell_type": "markdown",
   "metadata": {},
   "source": [
    "Sorting by number of ratings and taking the top 25, this looks pretty sensible for 1998:"
   ]
  },
  {
   "cell_type": "code",
   "execution_count": 9,
   "metadata": {},
   "outputs": [
    {
     "data": {
      "text/html": [
       "<div>\n",
       "<style>\n",
       "    .dataframe thead tr:only-child th {\n",
       "        text-align: right;\n",
       "    }\n",
       "\n",
       "    .dataframe thead th {\n",
       "        text-align: left;\n",
       "    }\n",
       "\n",
       "    .dataframe tbody tr th {\n",
       "        vertical-align: top;\n",
       "    }\n",
       "</style>\n",
       "<table border=\"1\" class=\"dataframe\">\n",
       "  <thead>\n",
       "    <tr style=\"text-align: right;\">\n",
       "      <th></th>\n",
       "      <th>movie_title</th>\n",
       "      <th>num_ratings</th>\n",
       "      <th>avg_rating</th>\n",
       "    </tr>\n",
       "    <tr>\n",
       "      <th>movie_id</th>\n",
       "      <th></th>\n",
       "      <th></th>\n",
       "      <th></th>\n",
       "    </tr>\n",
       "  </thead>\n",
       "  <tbody>\n",
       "    <tr>\n",
       "      <th>50</th>\n",
       "      <td>Star Wars (1977)</td>\n",
       "      <td>475.0</td>\n",
       "      <td>4.366316</td>\n",
       "    </tr>\n",
       "    <tr>\n",
       "      <th>258</th>\n",
       "      <td>Contact (1997)</td>\n",
       "      <td>418.0</td>\n",
       "      <td>3.806220</td>\n",
       "    </tr>\n",
       "    <tr>\n",
       "      <th>181</th>\n",
       "      <td>Return of the Jedi (1983)</td>\n",
       "      <td>416.0</td>\n",
       "      <td>4.040865</td>\n",
       "    </tr>\n",
       "    <tr>\n",
       "      <th>100</th>\n",
       "      <td>Fargo (1996)</td>\n",
       "      <td>397.0</td>\n",
       "      <td>4.181360</td>\n",
       "    </tr>\n",
       "    <tr>\n",
       "      <th>288</th>\n",
       "      <td>Scream (1996)</td>\n",
       "      <td>390.0</td>\n",
       "      <td>3.464103</td>\n",
       "    </tr>\n",
       "    <tr>\n",
       "      <th>286</th>\n",
       "      <td>English Patient, The (1996)</td>\n",
       "      <td>377.0</td>\n",
       "      <td>3.649867</td>\n",
       "    </tr>\n",
       "    <tr>\n",
       "      <th>294</th>\n",
       "      <td>Liar Liar (1997)</td>\n",
       "      <td>373.0</td>\n",
       "      <td>3.147453</td>\n",
       "    </tr>\n",
       "    <tr>\n",
       "      <th>1</th>\n",
       "      <td>Toy Story (1995)</td>\n",
       "      <td>355.0</td>\n",
       "      <td>3.870423</td>\n",
       "    </tr>\n",
       "    <tr>\n",
       "      <th>121</th>\n",
       "      <td>Independence Day (ID4) (1996)</td>\n",
       "      <td>339.0</td>\n",
       "      <td>3.466077</td>\n",
       "    </tr>\n",
       "    <tr>\n",
       "      <th>300</th>\n",
       "      <td>Air Force One (1997)</td>\n",
       "      <td>332.0</td>\n",
       "      <td>3.650602</td>\n",
       "    </tr>\n",
       "    <tr>\n",
       "      <th>174</th>\n",
       "      <td>Raiders of the Lost Ark (1981)</td>\n",
       "      <td>331.0</td>\n",
       "      <td>4.247734</td>\n",
       "    </tr>\n",
       "    <tr>\n",
       "      <th>56</th>\n",
       "      <td>Pulp Fiction (1994)</td>\n",
       "      <td>325.0</td>\n",
       "      <td>4.064615</td>\n",
       "    </tr>\n",
       "    <tr>\n",
       "      <th>7</th>\n",
       "      <td>Twelve Monkeys (1995)</td>\n",
       "      <td>319.0</td>\n",
       "      <td>3.793103</td>\n",
       "    </tr>\n",
       "    <tr>\n",
       "      <th>127</th>\n",
       "      <td>Godfather, The (1972)</td>\n",
       "      <td>316.0</td>\n",
       "      <td>4.272152</td>\n",
       "    </tr>\n",
       "    <tr>\n",
       "      <th>98</th>\n",
       "      <td>Silence of the Lambs, The (1991)</td>\n",
       "      <td>316.0</td>\n",
       "      <td>4.281646</td>\n",
       "    </tr>\n",
       "    <tr>\n",
       "      <th>117</th>\n",
       "      <td>Rock, The (1996)</td>\n",
       "      <td>301.0</td>\n",
       "      <td>3.697674</td>\n",
       "    </tr>\n",
       "    <tr>\n",
       "      <th>222</th>\n",
       "      <td>Star Trek: First Contact (1996)</td>\n",
       "      <td>300.0</td>\n",
       "      <td>3.700000</td>\n",
       "    </tr>\n",
       "    <tr>\n",
       "      <th>237</th>\n",
       "      <td>Jerry Maguire (1996)</td>\n",
       "      <td>293.0</td>\n",
       "      <td>3.730375</td>\n",
       "    </tr>\n",
       "    <tr>\n",
       "      <th>313</th>\n",
       "      <td>Titanic (1997)</td>\n",
       "      <td>285.0</td>\n",
       "      <td>4.238596</td>\n",
       "    </tr>\n",
       "    <tr>\n",
       "      <th>172</th>\n",
       "      <td>Empire Strikes Back, The (1980)</td>\n",
       "      <td>282.0</td>\n",
       "      <td>4.191489</td>\n",
       "    </tr>\n",
       "    <tr>\n",
       "      <th>204</th>\n",
       "      <td>Back to the Future (1985)</td>\n",
       "      <td>281.0</td>\n",
       "      <td>3.829181</td>\n",
       "    </tr>\n",
       "    <tr>\n",
       "      <th>405</th>\n",
       "      <td>Mission: Impossible (1996)</td>\n",
       "      <td>273.0</td>\n",
       "      <td>3.278388</td>\n",
       "    </tr>\n",
       "    <tr>\n",
       "      <th>79</th>\n",
       "      <td>Fugitive, The (1993)</td>\n",
       "      <td>260.0</td>\n",
       "      <td>4.011538</td>\n",
       "    </tr>\n",
       "    <tr>\n",
       "      <th>168</th>\n",
       "      <td>Monty Python and the Holy Grail (1974)</td>\n",
       "      <td>257.0</td>\n",
       "      <td>4.108949</td>\n",
       "    </tr>\n",
       "    <tr>\n",
       "      <th>269</th>\n",
       "      <td>Full Monty, The (1997)</td>\n",
       "      <td>256.0</td>\n",
       "      <td>3.933594</td>\n",
       "    </tr>\n",
       "  </tbody>\n",
       "</table>\n",
       "</div>"
      ],
      "text/plain": [
       "                                     movie_title  num_ratings  avg_rating\n",
       "movie_id                                                                 \n",
       "50                              Star Wars (1977)        475.0    4.366316\n",
       "258                               Contact (1997)        418.0    3.806220\n",
       "181                    Return of the Jedi (1983)        416.0    4.040865\n",
       "100                                 Fargo (1996)        397.0    4.181360\n",
       "288                                Scream (1996)        390.0    3.464103\n",
       "286                  English Patient, The (1996)        377.0    3.649867\n",
       "294                             Liar Liar (1997)        373.0    3.147453\n",
       "1                               Toy Story (1995)        355.0    3.870423\n",
       "121                Independence Day (ID4) (1996)        339.0    3.466077\n",
       "300                         Air Force One (1997)        332.0    3.650602\n",
       "174               Raiders of the Lost Ark (1981)        331.0    4.247734\n",
       "56                           Pulp Fiction (1994)        325.0    4.064615\n",
       "7                          Twelve Monkeys (1995)        319.0    3.793103\n",
       "127                        Godfather, The (1972)        316.0    4.272152\n",
       "98              Silence of the Lambs, The (1991)        316.0    4.281646\n",
       "117                             Rock, The (1996)        301.0    3.697674\n",
       "222              Star Trek: First Contact (1996)        300.0    3.700000\n",
       "237                         Jerry Maguire (1996)        293.0    3.730375\n",
       "313                               Titanic (1997)        285.0    4.238596\n",
       "172              Empire Strikes Back, The (1980)        282.0    4.191489\n",
       "204                    Back to the Future (1985)        281.0    3.829181\n",
       "405                   Mission: Impossible (1996)        273.0    3.278388\n",
       "79                          Fugitive, The (1993)        260.0    4.011538\n",
       "168       Monty Python and the Holy Grail (1974)        257.0    4.108949\n",
       "269                       Full Monty, The (1997)        256.0    3.933594"
      ]
     },
     "execution_count": 9,
     "metadata": {},
     "output_type": "execute_result"
    }
   ],
   "source": [
    "movie_stats.sort_values(\"num_ratings\", ascending=False)[:25]"
   ]
  },
  {
   "cell_type": "markdown",
   "metadata": {},
   "source": [
    "# Utility Matrix"
   ]
  },
  {
   "cell_type": "markdown",
   "metadata": {},
   "source": [
    "The notion of the *utility matrix* comes up in many methods as a way of\n",
    "expressing the ratings data. For one thing, this opens up the data to an\n",
    "array of linear algebra operations (such as matrix multiplication and\n",
    "[SVD](https://en.wikipedia.org/wiki/Singular-value_decomposition)) that\n",
    "are useful for transforming the data, meaningful for interpreting it,\n",
    "very readily-available and optimized, and provide a common language for\n",
    "discussing and analyzing what we are actually doing to the data.  (For some\n",
    "examples of this, check out section 11.3.2 in [MMDS](http://www.mmds.org/).)\n",
    "\n",
    "In a utility matrix, each row represents one user, each column represents\n",
    "one item (a movie, in our case), and each element represents a user's\n",
    "rating of an item.  If we have $n$ users and $m$ movies, then this a\n",
    "$n \\times m$ matrix $U$ for which $U_{k,i}$ is user $k$'s rating for\n",
    "movie $i$ - assuming we've numbered our users and our movies.\n",
    "\n",
    "Users have typically rated only a fraction of movies, and so most of\n",
    "the elements of this matrix are unknown. Algorithms represent this\n",
    "in different ways; the use of [sparse matrices](https://en.wikipedia.org/wiki/Sparse_matrix)\n",
    "where a value of 0 signifies unknown information is common.\n",
    "\n",
    "Some algorithms involve constructing the utility matrix explicitly and\n",
    "doing matrix operations directly on it (the approach to Slope One that\n",
    "we do later works this way). Other methods just use it as a method of\n",
    "analyzing something from a linear algebra standpoint, but dispense with\n",
    "the need for an explicit matrix within the algorithm (the \"SVD\" method\n",
    "later does this)."
   ]
  },
  {
   "cell_type": "code",
   "execution_count": 10,
   "metadata": {
    "collapsed": true
   },
   "outputs": [],
   "source": [
    "ml_train, ml_test = sklearn.model_selection.train_test_split(ml, test_size=0.25, random_state=12345678)"
   ]
  },
  {
   "cell_type": "markdown",
   "metadata": {},
   "source": [
    "We'll convert our data to a utility matrix below, which is pretty simple in NumPy:"
   ]
  },
  {
   "cell_type": "code",
   "execution_count": 11,
   "metadata": {
    "collapsed": true
   },
   "outputs": [],
   "source": [
    "def df2mat(df):\n",
    "    m = np.zeros((max_user, max_movie))\n",
    "    m[df[\"user_id\"], df[\"movie_id\"]] = df[\"rating\"]\n",
    "    return m, m > 0\n",
    "ml_mat_train, ml_mask_train = df2mat(ml_train)\n",
    "ml_mat_test,  ml_mask_test  = df2mat(ml_test)"
   ]
  },
  {
   "cell_type": "markdown",
   "metadata": {},
   "source": [
    "We need a mask for some later steps, hence the m > 0 step; ratings go only from 1 to 5, so values of 0 are automatically unknown/missing data."
   ]
  },
  {
   "cell_type": "markdown",
   "metadata": {},
   "source": [
    "If this were an actual large amount of data, which a 944x1683 matrix doesn't really count as, you'd probably want [sparse matrices](https://docs.scipy.org/doc/scipy/reference/sparse.html) and to use 8-bit ints rather than 32-bit floats, for instance:\n",
    "\n",
    "```python\n",
    "ml_mat = scipy.sparse.coo_matrix(\n",
    "    (ml[\"rating\"], (ml[\"user_id\"], ml[\"movie_id\"])),\n",
    "    shape=(max_user, max_movie),\n",
    "    dtype=np.int8)\n",
    "```"
   ]
  },
  {
   "cell_type": "code",
   "execution_count": 12,
   "metadata": {},
   "outputs": [
    {
     "data": {
      "text/plain": [
       "array([[ 0.,  0.,  0., ...,  0.,  0.,  0.],\n",
       "       [ 0.,  5.,  3., ...,  0.,  0.,  0.],\n",
       "       [ 0.,  4.,  0., ...,  0.,  0.,  0.],\n",
       "       ..., \n",
       "       [ 0.,  0.,  0., ...,  0.,  0.,  0.],\n",
       "       [ 0.,  0.,  0., ...,  0.,  0.,  0.],\n",
       "       [ 0.,  0.,  0., ...,  0.,  0.,  0.]])"
      ]
     },
     "execution_count": 12,
     "metadata": {},
     "output_type": "execute_result"
    }
   ],
   "source": [
    "ml_mat_train"
   ]
  },
  {
   "cell_type": "code",
   "execution_count": 13,
   "metadata": {},
   "outputs": [
    {
     "data": {
      "text/html": [
       "<div>\n",
       "<style>\n",
       "    .dataframe thead tr:only-child th {\n",
       "        text-align: right;\n",
       "    }\n",
       "\n",
       "    .dataframe thead th {\n",
       "        text-align: left;\n",
       "    }\n",
       "\n",
       "    .dataframe tbody tr th {\n",
       "        vertical-align: top;\n",
       "    }\n",
       "</style>\n",
       "<table border=\"1\" class=\"dataframe\">\n",
       "  <thead>\n",
       "    <tr style=\"text-align: right;\">\n",
       "      <th></th>\n",
       "      <th>user_id</th>\n",
       "      <th>movie_id</th>\n",
       "      <th>rating</th>\n",
       "      <th>time</th>\n",
       "    </tr>\n",
       "  </thead>\n",
       "  <tbody>\n",
       "    <tr>\n",
       "      <th>16549</th>\n",
       "      <td>301</td>\n",
       "      <td>300</td>\n",
       "      <td>4</td>\n",
       "      <td>1997-12-14 04:58:20</td>\n",
       "    </tr>\n",
       "    <tr>\n",
       "      <th>57824</th>\n",
       "      <td>557</td>\n",
       "      <td>253</td>\n",
       "      <td>3</td>\n",
       "      <td>1997-11-25 19:21:33</td>\n",
       "    </tr>\n",
       "    <tr>\n",
       "      <th>55534</th>\n",
       "      <td>746</td>\n",
       "      <td>38</td>\n",
       "      <td>2</td>\n",
       "      <td>1998-01-17 22:17:56</td>\n",
       "    </tr>\n",
       "    <tr>\n",
       "      <th>49769</th>\n",
       "      <td>711</td>\n",
       "      <td>345</td>\n",
       "      <td>4</td>\n",
       "      <td>1998-01-11 02:28:03</td>\n",
       "    </tr>\n",
       "    <tr>\n",
       "      <th>79823</th>\n",
       "      <td>508</td>\n",
       "      <td>175</td>\n",
       "      <td>4</td>\n",
       "      <td>1998-01-02 18:57:45</td>\n",
       "    </tr>\n",
       "    <tr>\n",
       "      <th>6</th>\n",
       "      <td>115</td>\n",
       "      <td>265</td>\n",
       "      <td>2</td>\n",
       "      <td>1997-12-03 17:51:28</td>\n",
       "    </tr>\n",
       "    <tr>\n",
       "      <th>74779</th>\n",
       "      <td>664</td>\n",
       "      <td>845</td>\n",
       "      <td>2</td>\n",
       "      <td>1997-10-29 01:59:41</td>\n",
       "    </tr>\n",
       "    <tr>\n",
       "      <th>22093</th>\n",
       "      <td>177</td>\n",
       "      <td>654</td>\n",
       "      <td>4</td>\n",
       "      <td>1997-11-21 16:51:46</td>\n",
       "    </tr>\n",
       "    <tr>\n",
       "      <th>26533</th>\n",
       "      <td>393</td>\n",
       "      <td>559</td>\n",
       "      <td>3</td>\n",
       "      <td>1998-03-12 19:06:54</td>\n",
       "    </tr>\n",
       "    <tr>\n",
       "      <th>29915</th>\n",
       "      <td>407</td>\n",
       "      <td>91</td>\n",
       "      <td>4</td>\n",
       "      <td>1997-09-23 19:52:17</td>\n",
       "    </tr>\n",
       "  </tbody>\n",
       "</table>\n",
       "</div>"
      ],
      "text/plain": [
       "       user_id  movie_id  rating                time\n",
       "16549      301       300       4 1997-12-14 04:58:20\n",
       "57824      557       253       3 1997-11-25 19:21:33\n",
       "55534      746        38       2 1998-01-17 22:17:56\n",
       "49769      711       345       4 1998-01-11 02:28:03\n",
       "79823      508       175       4 1998-01-02 18:57:45\n",
       "6          115       265       2 1997-12-03 17:51:28\n",
       "74779      664       845       2 1997-10-29 01:59:41\n",
       "22093      177       654       4 1997-11-21 16:51:46\n",
       "26533      393       559       3 1998-03-12 19:06:54\n",
       "29915      407        91       4 1997-09-23 19:52:17"
      ]
     },
     "execution_count": 13,
     "metadata": {},
     "output_type": "execute_result"
    }
   ],
   "source": [
    "ml_train[:10]"
   ]
  },
  {
   "cell_type": "markdown",
   "metadata": {},
   "source": [
    "Just to show that the matrix does in fact have the same data:"
   ]
  },
  {
   "cell_type": "code",
   "execution_count": 14,
   "metadata": {},
   "outputs": [
    {
     "data": {
      "text/plain": [
       "[301, 557, 746, 711, 508, 115, 664, 177, 393, 407]"
      ]
     },
     "execution_count": 14,
     "metadata": {},
     "output_type": "execute_result"
    }
   ],
   "source": [
    "user_ids = list(ml_train.iloc[:10].user_id)\n",
    "user_ids"
   ]
  },
  {
   "cell_type": "code",
   "execution_count": 15,
   "metadata": {},
   "outputs": [
    {
     "data": {
      "text/plain": [
       "[300, 253, 38, 345, 175, 265, 845, 654, 559, 91]"
      ]
     },
     "execution_count": 15,
     "metadata": {},
     "output_type": "execute_result"
    }
   ],
   "source": [
    "movie_ids = list(ml_train.iloc[:10].movie_id)\n",
    "movie_ids"
   ]
  },
  {
   "cell_type": "code",
   "execution_count": 16,
   "metadata": {},
   "outputs": [
    {
     "data": {
      "text/plain": [
       "array([ 4.,  3.,  2.,  4.,  4.,  2.,  2.,  4.,  3.,  4.])"
      ]
     },
     "execution_count": 16,
     "metadata": {},
     "output_type": "execute_result"
    }
   ],
   "source": [
    "ml_mat_train[user_ids, movie_ids]"
   ]
  },
  {
   "cell_type": "code",
   "execution_count": 17,
   "metadata": {},
   "outputs": [
    {
     "data": {
      "text/plain": [
       "[4, 3, 2, 4, 4, 2, 2, 4, 3, 4]"
      ]
     },
     "execution_count": 17,
     "metadata": {},
     "output_type": "execute_result"
    }
   ],
   "source": [
    "list(ml_train.iloc[:10].rating)"
   ]
  },
  {
   "cell_type": "markdown",
   "metadata": {},
   "source": [
    "Okay, enough of that; we can begin with some actual predictions."
   ]
  },
  {
   "cell_type": "markdown",
   "metadata": {},
   "source": [
    "# Slope One Predictors"
   ]
  },
  {
   "cell_type": "markdown",
   "metadata": {},
   "source": [
    "We'll begin with a method of predicting ratings that is wonderfully\n",
    "simple to understand, equally simple to implement, very fast,\n",
    "and surprisingly effective.  This method is described in the\n",
    "paper [Slope One Predictors for Online Rating-Based Collaborative Filtering](https://arxiv.org/pdf/cs/0702144v1.pdf). They can be computed given\n",
    "just some arithmetic over the dataset we just loaded.\n",
    "Neither linear algebra nor calculus nor numerical\n",
    "approximation is needed, while all three are needed for the\n",
    "[next method](#\"SVD\"-algorithm).\n",
    "\n",
    "I'll give a contrived example below to explain them.\n",
    "\n",
    "Consider a user Bob.  Bob is enthusiastic, but has rather simple\n",
    "tastes: he mostly just watches Clint Eastwood movies.  In fact, he's\n",
    "watched and rated nearly all of them, and basically nothing else.\n",
    "\n",
    "Now, suppose we want to predict how much Bob will like something\n",
    "completely different and unheard of (to him at least), like... I don't\n",
    "know... *Citizen Kane*.\n",
    "\n",
    "Here's Slope One in a nutshell:\n",
    "\n",
    "1. First, find the users who rated both *Citizen Kane* and any of\n",
    "   the Clint Eastwood movies that Bob rated.\n",
    "2. Now, for each movie that comes up above, compute a _deviation_\n",
    "   which tells us: On average, how differently (i.e. how much higher\n",
    "   or lower) did users rate Citizen Kane compared to this movie?  (For\n",
    "   instance, we'll have a number for how *Citizen Kane* was rated\n",
    "   compared to *Dirty Harry*, and perhaps it's +0.6 - meaning that on\n",
    "   average, users who rated both movies rated *Citizen Kane* about 0.6\n",
    "   stars above *Dirty Harry*.  We'd have another deviation for\n",
    "   *Citizen Kane* compared to *Gran Torino*, another for *Citizen\n",
    "   Kane* compared to *The Good, the Bad and the Ugly*, and so on - for\n",
    "   every movie that Bob rated, provided that other users who rated\n",
    "   *Citizen Kane* also rated the movie.)\n",
    "3. If that deviation between *Citizen Kane* and *Dirty Harry* was\n",
    "   +0.6, it's reasonable that adding 0.6 from Bob's rating on *Dirty\n",
    "   Harry* would give one prediction of how Bob might rate *Citizen\n",
    "   Kane*.  We can then generate more predictions based on the ratings\n",
    "   he gave the other movies - anything for which we could compute a\n",
    "   deviation.\n",
    "4. To turn this to a single prediction, we could just average all\n",
    "   those predictions together."
   ]
  },
  {
   "cell_type": "markdown",
   "metadata": {},
   "source": [
    "Now, I'm not sure that Bob is an actual user in this dataset, but I\n",
    "will go through these steps with some real data. I purposely chose a\n",
    "user who rated a smaller number of movies in order to simplify showing\n",
    "it. That's user ID 818, and their ratings are below:"
   ]
  },
  {
   "cell_type": "code",
   "execution_count": 18,
   "metadata": {},
   "outputs": [
    {
     "data": {
      "text/html": [
       "<div>\n",
       "<style>\n",
       "    .dataframe thead tr:only-child th {\n",
       "        text-align: right;\n",
       "    }\n",
       "\n",
       "    .dataframe thead th {\n",
       "        text-align: left;\n",
       "    }\n",
       "\n",
       "    .dataframe tbody tr th {\n",
       "        vertical-align: top;\n",
       "    }\n",
       "</style>\n",
       "<table border=\"1\" class=\"dataframe\">\n",
       "  <thead>\n",
       "    <tr style=\"text-align: right;\">\n",
       "      <th></th>\n",
       "      <th>movie_title</th>\n",
       "      <th>user_id</th>\n",
       "      <th>movie_id</th>\n",
       "      <th>rating</th>\n",
       "      <th>time</th>\n",
       "    </tr>\n",
       "  </thead>\n",
       "  <tbody>\n",
       "    <tr>\n",
       "      <th>76614</th>\n",
       "      <td>Starship Troopers (1997)</td>\n",
       "      <td>818</td>\n",
       "      <td>271</td>\n",
       "      <td>4</td>\n",
       "      <td>1998-04-06 13:46:29</td>\n",
       "    </tr>\n",
       "    <tr>\n",
       "      <th>59919</th>\n",
       "      <td>English Patient, The (1996)</td>\n",
       "      <td>818</td>\n",
       "      <td>286</td>\n",
       "      <td>4</td>\n",
       "      <td>1998-04-06 13:43:42</td>\n",
       "    </tr>\n",
       "    <tr>\n",
       "      <th>75738</th>\n",
       "      <td>Air Force One (1997)</td>\n",
       "      <td>818</td>\n",
       "      <td>300</td>\n",
       "      <td>2</td>\n",
       "      <td>1998-04-06 13:43:42</td>\n",
       "    </tr>\n",
       "    <tr>\n",
       "      <th>54448</th>\n",
       "      <td>L.A. Confidential (1997)</td>\n",
       "      <td>818</td>\n",
       "      <td>302</td>\n",
       "      <td>5</td>\n",
       "      <td>1998-04-06 13:44:24</td>\n",
       "    </tr>\n",
       "    <tr>\n",
       "      <th>63267</th>\n",
       "      <td>Murder at 1600 (1997)</td>\n",
       "      <td>818</td>\n",
       "      <td>322</td>\n",
       "      <td>2</td>\n",
       "      <td>1998-04-06 13:46:29</td>\n",
       "    </tr>\n",
       "    <tr>\n",
       "      <th>59940</th>\n",
       "      <td>Conspiracy Theory (1997)</td>\n",
       "      <td>818</td>\n",
       "      <td>328</td>\n",
       "      <td>4</td>\n",
       "      <td>1998-04-06 13:45:01</td>\n",
       "    </tr>\n",
       "    <tr>\n",
       "      <th>78583</th>\n",
       "      <td>Jackie Brown (1997)</td>\n",
       "      <td>818</td>\n",
       "      <td>346</td>\n",
       "      <td>4</td>\n",
       "      <td>1998-04-06 13:46:04</td>\n",
       "    </tr>\n",
       "    <tr>\n",
       "      <th>71457</th>\n",
       "      <td>Seven Years in Tibet (1997)</td>\n",
       "      <td>818</td>\n",
       "      <td>690</td>\n",
       "      <td>3</td>\n",
       "      <td>1998-04-06 13:45:01</td>\n",
       "    </tr>\n",
       "    <tr>\n",
       "      <th>67334</th>\n",
       "      <td>Tomorrow Never Dies (1997)</td>\n",
       "      <td>818</td>\n",
       "      <td>751</td>\n",
       "      <td>5</td>\n",
       "      <td>1998-04-06 13:47:53</td>\n",
       "    </tr>\n",
       "    <tr>\n",
       "      <th>77096</th>\n",
       "      <td>She's So Lovely (1997)</td>\n",
       "      <td>818</td>\n",
       "      <td>875</td>\n",
       "      <td>1</td>\n",
       "      <td>1998-04-06 13:49:50</td>\n",
       "    </tr>\n",
       "    <tr>\n",
       "      <th>66252</th>\n",
       "      <td>Eve's Bayou (1997)</td>\n",
       "      <td>818</td>\n",
       "      <td>887</td>\n",
       "      <td>4</td>\n",
       "      <td>1998-04-06 13:49:50</td>\n",
       "    </tr>\n",
       "    <tr>\n",
       "      <th>57989</th>\n",
       "      <td>U.S. Marshalls (1998)</td>\n",
       "      <td>818</td>\n",
       "      <td>912</td>\n",
       "      <td>3</td>\n",
       "      <td>1998-04-06 13:45:01</td>\n",
       "    </tr>\n",
       "  </tbody>\n",
       "</table>\n",
       "</div>"
      ],
      "text/plain": [
       "                       movie_title  user_id  movie_id  rating  \\\n",
       "76614     Starship Troopers (1997)      818       271       4   \n",
       "59919  English Patient, The (1996)      818       286       4   \n",
       "75738         Air Force One (1997)      818       300       2   \n",
       "54448     L.A. Confidential (1997)      818       302       5   \n",
       "63267        Murder at 1600 (1997)      818       322       2   \n",
       "59940     Conspiracy Theory (1997)      818       328       4   \n",
       "78583          Jackie Brown (1997)      818       346       4   \n",
       "71457  Seven Years in Tibet (1997)      818       690       3   \n",
       "67334   Tomorrow Never Dies (1997)      818       751       5   \n",
       "77096       She's So Lovely (1997)      818       875       1   \n",
       "66252           Eve's Bayou (1997)      818       887       4   \n",
       "57989        U.S. Marshalls (1998)      818       912       3   \n",
       "\n",
       "                     time  \n",
       "76614 1998-04-06 13:46:29  \n",
       "59919 1998-04-06 13:43:42  \n",
       "75738 1998-04-06 13:43:42  \n",
       "54448 1998-04-06 13:44:24  \n",
       "63267 1998-04-06 13:46:29  \n",
       "59940 1998-04-06 13:45:01  \n",
       "78583 1998-04-06 13:46:04  \n",
       "71457 1998-04-06 13:45:01  \n",
       "67334 1998-04-06 13:47:53  \n",
       "77096 1998-04-06 13:49:50  \n",
       "66252 1998-04-06 13:49:50  \n",
       "57989 1998-04-06 13:45:01  "
      ]
     },
     "execution_count": 18,
     "metadata": {},
     "output_type": "execute_result"
    }
   ],
   "source": [
    "names.merge(ml_train[ml_train.user_id == 818], right_on=\"movie_id\", left_index=True)"
   ]
  },
  {
   "cell_type": "markdown",
   "metadata": {},
   "source": [
    "Somewhat arbitrarily (not completely - it's in the test set from what we split off earlier), I'll pick *As Good As It Gets*, movie ID 316, as the one we want to predict user 818's rating on:"
   ]
  },
  {
   "cell_type": "code",
   "execution_count": 19,
   "metadata": {},
   "outputs": [
    {
     "data": {
      "text/html": [
       "<div>\n",
       "<style>\n",
       "    .dataframe thead tr:only-child th {\n",
       "        text-align: right;\n",
       "    }\n",
       "\n",
       "    .dataframe thead th {\n",
       "        text-align: left;\n",
       "    }\n",
       "\n",
       "    .dataframe tbody tr th {\n",
       "        vertical-align: top;\n",
       "    }\n",
       "</style>\n",
       "<table border=\"1\" class=\"dataframe\">\n",
       "  <thead>\n",
       "    <tr style=\"text-align: right;\">\n",
       "      <th></th>\n",
       "      <th>movie_title</th>\n",
       "    </tr>\n",
       "    <tr>\n",
       "      <th>movie_id</th>\n",
       "      <th></th>\n",
       "    </tr>\n",
       "  </thead>\n",
       "  <tbody>\n",
       "    <tr>\n",
       "      <th>316</th>\n",
       "      <td>As Good As It Gets (1997)</td>\n",
       "    </tr>\n",
       "  </tbody>\n",
       "</table>\n",
       "</div>"
      ],
      "text/plain": [
       "                        movie_title\n",
       "movie_id                           \n",
       "316       As Good As It Gets (1997)"
      ]
     },
     "execution_count": 19,
     "metadata": {},
     "output_type": "execute_result"
    }
   ],
   "source": [
    "names[names.index == 316]"
   ]
  },
  {
   "cell_type": "markdown",
   "metadata": {},
   "source": [
    "Now, from step #1 and about half of step #2: What users also rated one of the movies that 818 rated, *and* rated As Good As It Gets (movie 316)?  What were those ratings?"
   ]
  },
  {
   "cell_type": "code",
   "execution_count": 20,
   "metadata": {},
   "outputs": [
    {
     "data": {
      "text/html": [
       "<div>\n",
       "<style>\n",
       "    .dataframe thead tr:only-child th {\n",
       "        text-align: right;\n",
       "    }\n",
       "\n",
       "    .dataframe thead th {\n",
       "        text-align: left;\n",
       "    }\n",
       "\n",
       "    .dataframe tbody tr th {\n",
       "        vertical-align: top;\n",
       "    }\n",
       "</style>\n",
       "<table border=\"1\" class=\"dataframe\">\n",
       "  <thead>\n",
       "    <tr style=\"text-align: right;\">\n",
       "      <th></th>\n",
       "      <th>movie_id_x</th>\n",
       "      <th>user_id</th>\n",
       "      <th>rating_x</th>\n",
       "      <th>movie_id_y</th>\n",
       "      <th>rating_y</th>\n",
       "      <th>time</th>\n",
       "    </tr>\n",
       "  </thead>\n",
       "  <tbody>\n",
       "    <tr>\n",
       "      <th>0</th>\n",
       "      <td>875</td>\n",
       "      <td>551</td>\n",
       "      <td>4</td>\n",
       "      <td>316</td>\n",
       "      <td>5</td>\n",
       "      <td>1998-04-16 03:09:25</td>\n",
       "    </tr>\n",
       "    <tr>\n",
       "      <th>1</th>\n",
       "      <td>328</td>\n",
       "      <td>551</td>\n",
       "      <td>5</td>\n",
       "      <td>316</td>\n",
       "      <td>5</td>\n",
       "      <td>1998-04-16 03:09:25</td>\n",
       "    </tr>\n",
       "    <tr>\n",
       "      <th>2</th>\n",
       "      <td>286</td>\n",
       "      <td>551</td>\n",
       "      <td>4</td>\n",
       "      <td>316</td>\n",
       "      <td>5</td>\n",
       "      <td>1998-04-16 03:09:25</td>\n",
       "    </tr>\n",
       "    <tr>\n",
       "      <th>3</th>\n",
       "      <td>751</td>\n",
       "      <td>551</td>\n",
       "      <td>4</td>\n",
       "      <td>316</td>\n",
       "      <td>5</td>\n",
       "      <td>1998-04-16 03:09:25</td>\n",
       "    </tr>\n",
       "    <tr>\n",
       "      <th>4</th>\n",
       "      <td>346</td>\n",
       "      <td>551</td>\n",
       "      <td>4</td>\n",
       "      <td>316</td>\n",
       "      <td>5</td>\n",
       "      <td>1998-04-16 03:09:25</td>\n",
       "    </tr>\n",
       "    <tr>\n",
       "      <th>5</th>\n",
       "      <td>912</td>\n",
       "      <td>551</td>\n",
       "      <td>3</td>\n",
       "      <td>316</td>\n",
       "      <td>5</td>\n",
       "      <td>1998-04-16 03:09:25</td>\n",
       "    </tr>\n",
       "    <tr>\n",
       "      <th>6</th>\n",
       "      <td>690</td>\n",
       "      <td>551</td>\n",
       "      <td>5</td>\n",
       "      <td>316</td>\n",
       "      <td>5</td>\n",
       "      <td>1998-04-16 03:09:25</td>\n",
       "    </tr>\n",
       "    <tr>\n",
       "      <th>7</th>\n",
       "      <td>875</td>\n",
       "      <td>205</td>\n",
       "      <td>2</td>\n",
       "      <td>316</td>\n",
       "      <td>4</td>\n",
       "      <td>1998-02-24 01:45:10</td>\n",
       "    </tr>\n",
       "    <tr>\n",
       "      <th>8</th>\n",
       "      <td>328</td>\n",
       "      <td>205</td>\n",
       "      <td>3</td>\n",
       "      <td>316</td>\n",
       "      <td>4</td>\n",
       "      <td>1998-02-24 01:45:10</td>\n",
       "    </tr>\n",
       "    <tr>\n",
       "      <th>9</th>\n",
       "      <td>286</td>\n",
       "      <td>205</td>\n",
       "      <td>2</td>\n",
       "      <td>316</td>\n",
       "      <td>4</td>\n",
       "      <td>1998-02-24 01:45:10</td>\n",
       "    </tr>\n",
       "  </tbody>\n",
       "</table>\n",
       "</div>"
      ],
      "text/plain": [
       "   movie_id_x  user_id  rating_x  movie_id_y  rating_y                time\n",
       "0         875      551         4         316         5 1998-04-16 03:09:25\n",
       "1         328      551         5         316         5 1998-04-16 03:09:25\n",
       "2         286      551         4         316         5 1998-04-16 03:09:25\n",
       "3         751      551         4         316         5 1998-04-16 03:09:25\n",
       "4         346      551         4         316         5 1998-04-16 03:09:25\n",
       "5         912      551         3         316         5 1998-04-16 03:09:25\n",
       "6         690      551         5         316         5 1998-04-16 03:09:25\n",
       "7         875      205         2         316         4 1998-02-24 01:45:10\n",
       "8         328      205         3         316         4 1998-02-24 01:45:10\n",
       "9         286      205         2         316         4 1998-02-24 01:45:10"
      ]
     },
     "execution_count": 20,
     "metadata": {},
     "output_type": "execute_result"
    }
   ],
   "source": [
    "users_df = ml_train[ml_train.user_id == 818][[\"movie_id\"]]. \\\n",
    "    merge(ml_train, on=\"movie_id\")[[\"movie_id\", \"user_id\", \"rating\"]]. \\\n",
    "    merge(ml_train[ml_train.movie_id == 316], on=\"user_id\")\n",
    "users_df[:10]"
   ]
  },
  {
   "cell_type": "markdown",
   "metadata": {},
   "source": [
    "Each row has one user's ratings of both *As Good As It Gets* (it's the `rating_y` column), and some other movie that 818 rated, so we can easily find the deviation of each individual rating (how much higher they rated *As Good As It Gets* than the respective movie for `movie_id_x`):"
   ]
  },
  {
   "cell_type": "code",
   "execution_count": 21,
   "metadata": {},
   "outputs": [
    {
     "data": {
      "text/html": [
       "<div>\n",
       "<style>\n",
       "    .dataframe thead tr:only-child th {\n",
       "        text-align: right;\n",
       "    }\n",
       "\n",
       "    .dataframe thead th {\n",
       "        text-align: left;\n",
       "    }\n",
       "\n",
       "    .dataframe tbody tr th {\n",
       "        vertical-align: top;\n",
       "    }\n",
       "</style>\n",
       "<table border=\"1\" class=\"dataframe\">\n",
       "  <thead>\n",
       "    <tr style=\"text-align: right;\">\n",
       "      <th></th>\n",
       "      <th>movie_id_x</th>\n",
       "      <th>user_id</th>\n",
       "      <th>rating_x</th>\n",
       "      <th>movie_id_y</th>\n",
       "      <th>rating_y</th>\n",
       "      <th>time</th>\n",
       "      <th>rating_dev</th>\n",
       "    </tr>\n",
       "  </thead>\n",
       "  <tbody>\n",
       "    <tr>\n",
       "      <th>0</th>\n",
       "      <td>875</td>\n",
       "      <td>551</td>\n",
       "      <td>4</td>\n",
       "      <td>316</td>\n",
       "      <td>5</td>\n",
       "      <td>1998-04-16 03:09:25</td>\n",
       "      <td>1</td>\n",
       "    </tr>\n",
       "    <tr>\n",
       "      <th>1</th>\n",
       "      <td>328</td>\n",
       "      <td>551</td>\n",
       "      <td>5</td>\n",
       "      <td>316</td>\n",
       "      <td>5</td>\n",
       "      <td>1998-04-16 03:09:25</td>\n",
       "      <td>0</td>\n",
       "    </tr>\n",
       "    <tr>\n",
       "      <th>2</th>\n",
       "      <td>286</td>\n",
       "      <td>551</td>\n",
       "      <td>4</td>\n",
       "      <td>316</td>\n",
       "      <td>5</td>\n",
       "      <td>1998-04-16 03:09:25</td>\n",
       "      <td>1</td>\n",
       "    </tr>\n",
       "    <tr>\n",
       "      <th>3</th>\n",
       "      <td>751</td>\n",
       "      <td>551</td>\n",
       "      <td>4</td>\n",
       "      <td>316</td>\n",
       "      <td>5</td>\n",
       "      <td>1998-04-16 03:09:25</td>\n",
       "      <td>1</td>\n",
       "    </tr>\n",
       "    <tr>\n",
       "      <th>4</th>\n",
       "      <td>346</td>\n",
       "      <td>551</td>\n",
       "      <td>4</td>\n",
       "      <td>316</td>\n",
       "      <td>5</td>\n",
       "      <td>1998-04-16 03:09:25</td>\n",
       "      <td>1</td>\n",
       "    </tr>\n",
       "    <tr>\n",
       "      <th>5</th>\n",
       "      <td>912</td>\n",
       "      <td>551</td>\n",
       "      <td>3</td>\n",
       "      <td>316</td>\n",
       "      <td>5</td>\n",
       "      <td>1998-04-16 03:09:25</td>\n",
       "      <td>2</td>\n",
       "    </tr>\n",
       "    <tr>\n",
       "      <th>6</th>\n",
       "      <td>690</td>\n",
       "      <td>551</td>\n",
       "      <td>5</td>\n",
       "      <td>316</td>\n",
       "      <td>5</td>\n",
       "      <td>1998-04-16 03:09:25</td>\n",
       "      <td>0</td>\n",
       "    </tr>\n",
       "    <tr>\n",
       "      <th>7</th>\n",
       "      <td>875</td>\n",
       "      <td>205</td>\n",
       "      <td>2</td>\n",
       "      <td>316</td>\n",
       "      <td>4</td>\n",
       "      <td>1998-02-24 01:45:10</td>\n",
       "      <td>2</td>\n",
       "    </tr>\n",
       "    <tr>\n",
       "      <th>8</th>\n",
       "      <td>328</td>\n",
       "      <td>205</td>\n",
       "      <td>3</td>\n",
       "      <td>316</td>\n",
       "      <td>4</td>\n",
       "      <td>1998-02-24 01:45:10</td>\n",
       "      <td>1</td>\n",
       "    </tr>\n",
       "    <tr>\n",
       "      <th>9</th>\n",
       "      <td>286</td>\n",
       "      <td>205</td>\n",
       "      <td>2</td>\n",
       "      <td>316</td>\n",
       "      <td>4</td>\n",
       "      <td>1998-02-24 01:45:10</td>\n",
       "      <td>2</td>\n",
       "    </tr>\n",
       "  </tbody>\n",
       "</table>\n",
       "</div>"
      ],
      "text/plain": [
       "   movie_id_x  user_id  rating_x  movie_id_y  rating_y                time  \\\n",
       "0         875      551         4         316         5 1998-04-16 03:09:25   \n",
       "1         328      551         5         316         5 1998-04-16 03:09:25   \n",
       "2         286      551         4         316         5 1998-04-16 03:09:25   \n",
       "3         751      551         4         316         5 1998-04-16 03:09:25   \n",
       "4         346      551         4         316         5 1998-04-16 03:09:25   \n",
       "5         912      551         3         316         5 1998-04-16 03:09:25   \n",
       "6         690      551         5         316         5 1998-04-16 03:09:25   \n",
       "7         875      205         2         316         4 1998-02-24 01:45:10   \n",
       "8         328      205         3         316         4 1998-02-24 01:45:10   \n",
       "9         286      205         2         316         4 1998-02-24 01:45:10   \n",
       "\n",
       "   rating_dev  \n",
       "0           1  \n",
       "1           0  \n",
       "2           1  \n",
       "3           1  \n",
       "4           1  \n",
       "5           2  \n",
       "6           0  \n",
       "7           2  \n",
       "8           1  \n",
       "9           2  "
      ]
     },
     "execution_count": 21,
     "metadata": {},
     "output_type": "execute_result"
    }
   ],
   "source": [
    "users_df = users_df.assign(rating_dev = users_df.rating_y - users_df.rating_x)\n",
    "users_df[:10]"
   ]
  },
  {
   "cell_type": "markdown",
   "metadata": {},
   "source": [
    "...and then turn this to an average deviation by grouping by movie ID:"
   ]
  },
  {
   "cell_type": "code",
   "execution_count": 22,
   "metadata": {},
   "outputs": [
    {
     "data": {
      "text/html": [
       "<div>\n",
       "<style>\n",
       "    .dataframe thead tr:only-child th {\n",
       "        text-align: right;\n",
       "    }\n",
       "\n",
       "    .dataframe thead th {\n",
       "        text-align: left;\n",
       "    }\n",
       "\n",
       "    .dataframe tbody tr th {\n",
       "        vertical-align: top;\n",
       "    }\n",
       "</style>\n",
       "<table border=\"1\" class=\"dataframe\">\n",
       "  <thead>\n",
       "    <tr style=\"text-align: right;\">\n",
       "      <th></th>\n",
       "      <th>movie_title</th>\n",
       "      <th>rating_dev</th>\n",
       "    </tr>\n",
       "  </thead>\n",
       "  <tbody>\n",
       "    <tr>\n",
       "      <th>271</th>\n",
       "      <td>Starship Troopers (1997)</td>\n",
       "      <td>0.727273</td>\n",
       "    </tr>\n",
       "    <tr>\n",
       "      <th>286</th>\n",
       "      <td>English Patient, The (1996)</td>\n",
       "      <td>0.785714</td>\n",
       "    </tr>\n",
       "    <tr>\n",
       "      <th>300</th>\n",
       "      <td>Air Force One (1997)</td>\n",
       "      <td>0.571429</td>\n",
       "    </tr>\n",
       "    <tr>\n",
       "      <th>302</th>\n",
       "      <td>L.A. Confidential (1997)</td>\n",
       "      <td>-0.225806</td>\n",
       "    </tr>\n",
       "    <tr>\n",
       "      <th>322</th>\n",
       "      <td>Murder at 1600 (1997)</td>\n",
       "      <td>1.095238</td>\n",
       "    </tr>\n",
       "    <tr>\n",
       "      <th>328</th>\n",
       "      <td>Conspiracy Theory (1997)</td>\n",
       "      <td>0.583333</td>\n",
       "    </tr>\n",
       "    <tr>\n",
       "      <th>346</th>\n",
       "      <td>Jackie Brown (1997)</td>\n",
       "      <td>0.400000</td>\n",
       "    </tr>\n",
       "    <tr>\n",
       "      <th>690</th>\n",
       "      <td>Seven Years in Tibet (1997)</td>\n",
       "      <td>0.933333</td>\n",
       "    </tr>\n",
       "    <tr>\n",
       "      <th>751</th>\n",
       "      <td>Tomorrow Never Dies (1997)</td>\n",
       "      <td>0.772727</td>\n",
       "    </tr>\n",
       "    <tr>\n",
       "      <th>875</th>\n",
       "      <td>She's So Lovely (1997)</td>\n",
       "      <td>1.333333</td>\n",
       "    </tr>\n",
       "    <tr>\n",
       "      <th>887</th>\n",
       "      <td>Eve's Bayou (1997)</td>\n",
       "      <td>0.142857</td>\n",
       "    </tr>\n",
       "    <tr>\n",
       "      <th>912</th>\n",
       "      <td>U.S. Marshalls (1998)</td>\n",
       "      <td>2.500000</td>\n",
       "    </tr>\n",
       "  </tbody>\n",
       "</table>\n",
       "</div>"
      ],
      "text/plain": [
       "                     movie_title  rating_dev\n",
       "271     Starship Troopers (1997)    0.727273\n",
       "286  English Patient, The (1996)    0.785714\n",
       "300         Air Force One (1997)    0.571429\n",
       "302     L.A. Confidential (1997)   -0.225806\n",
       "322        Murder at 1600 (1997)    1.095238\n",
       "328     Conspiracy Theory (1997)    0.583333\n",
       "346          Jackie Brown (1997)    0.400000\n",
       "690  Seven Years in Tibet (1997)    0.933333\n",
       "751   Tomorrow Never Dies (1997)    0.772727\n",
       "875       She's So Lovely (1997)    1.333333\n",
       "887           Eve's Bayou (1997)    0.142857\n",
       "912        U.S. Marshalls (1998)    2.500000"
      ]
     },
     "execution_count": 22,
     "metadata": {},
     "output_type": "execute_result"
    }
   ],
   "source": [
    "rating_dev = users_df.groupby(\"movie_id_x\").mean()[\"rating_dev\"]\n",
    "names.join(rating_dev, how=\"inner\")"
   ]
  },
  {
   "cell_type": "markdown",
   "metadata": {},
   "source": [
    "We can produce a prediction from each deviation above by adding it to each of user 818's ratings for the respective movies:"
   ]
  },
  {
   "cell_type": "code",
   "execution_count": 23,
   "metadata": {},
   "outputs": [
    {
     "data": {
      "text/html": [
       "<div>\n",
       "<style>\n",
       "    .dataframe thead tr:only-child th {\n",
       "        text-align: right;\n",
       "    }\n",
       "\n",
       "    .dataframe thead th {\n",
       "        text-align: left;\n",
       "    }\n",
       "\n",
       "    .dataframe tbody tr th {\n",
       "        vertical-align: top;\n",
       "    }\n",
       "</style>\n",
       "<table border=\"1\" class=\"dataframe\">\n",
       "  <thead>\n",
       "    <tr style=\"text-align: right;\">\n",
       "      <th></th>\n",
       "      <th>user_id</th>\n",
       "      <th>movie_id</th>\n",
       "      <th>rating</th>\n",
       "      <th>rating_adj</th>\n",
       "      <th>movie_title</th>\n",
       "    </tr>\n",
       "  </thead>\n",
       "  <tbody>\n",
       "    <tr>\n",
       "      <th>77096</th>\n",
       "      <td>818</td>\n",
       "      <td>875</td>\n",
       "      <td>1</td>\n",
       "      <td>2.333333</td>\n",
       "      <td>She's So Lovely (1997)</td>\n",
       "    </tr>\n",
       "    <tr>\n",
       "      <th>59940</th>\n",
       "      <td>818</td>\n",
       "      <td>328</td>\n",
       "      <td>4</td>\n",
       "      <td>4.583333</td>\n",
       "      <td>Conspiracy Theory (1997)</td>\n",
       "    </tr>\n",
       "    <tr>\n",
       "      <th>54448</th>\n",
       "      <td>818</td>\n",
       "      <td>302</td>\n",
       "      <td>5</td>\n",
       "      <td>4.774194</td>\n",
       "      <td>L.A. Confidential (1997)</td>\n",
       "    </tr>\n",
       "    <tr>\n",
       "      <th>59919</th>\n",
       "      <td>818</td>\n",
       "      <td>286</td>\n",
       "      <td>4</td>\n",
       "      <td>4.785714</td>\n",
       "      <td>English Patient, The (1996)</td>\n",
       "    </tr>\n",
       "    <tr>\n",
       "      <th>67334</th>\n",
       "      <td>818</td>\n",
       "      <td>751</td>\n",
       "      <td>5</td>\n",
       "      <td>5.772727</td>\n",
       "      <td>Tomorrow Never Dies (1997)</td>\n",
       "    </tr>\n",
       "    <tr>\n",
       "      <th>78583</th>\n",
       "      <td>818</td>\n",
       "      <td>346</td>\n",
       "      <td>4</td>\n",
       "      <td>4.400000</td>\n",
       "      <td>Jackie Brown (1997)</td>\n",
       "    </tr>\n",
       "    <tr>\n",
       "      <th>66252</th>\n",
       "      <td>818</td>\n",
       "      <td>887</td>\n",
       "      <td>4</td>\n",
       "      <td>4.142857</td>\n",
       "      <td>Eve's Bayou (1997)</td>\n",
       "    </tr>\n",
       "    <tr>\n",
       "      <th>75738</th>\n",
       "      <td>818</td>\n",
       "      <td>300</td>\n",
       "      <td>2</td>\n",
       "      <td>2.571429</td>\n",
       "      <td>Air Force One (1997)</td>\n",
       "    </tr>\n",
       "    <tr>\n",
       "      <th>57989</th>\n",
       "      <td>818</td>\n",
       "      <td>912</td>\n",
       "      <td>3</td>\n",
       "      <td>5.500000</td>\n",
       "      <td>U.S. Marshalls (1998)</td>\n",
       "    </tr>\n",
       "    <tr>\n",
       "      <th>71457</th>\n",
       "      <td>818</td>\n",
       "      <td>690</td>\n",
       "      <td>3</td>\n",
       "      <td>3.933333</td>\n",
       "      <td>Seven Years in Tibet (1997)</td>\n",
       "    </tr>\n",
       "    <tr>\n",
       "      <th>63267</th>\n",
       "      <td>818</td>\n",
       "      <td>322</td>\n",
       "      <td>2</td>\n",
       "      <td>3.095238</td>\n",
       "      <td>Murder at 1600 (1997)</td>\n",
       "    </tr>\n",
       "    <tr>\n",
       "      <th>76614</th>\n",
       "      <td>818</td>\n",
       "      <td>271</td>\n",
       "      <td>4</td>\n",
       "      <td>4.727273</td>\n",
       "      <td>Starship Troopers (1997)</td>\n",
       "    </tr>\n",
       "  </tbody>\n",
       "</table>\n",
       "</div>"
      ],
      "text/plain": [
       "       user_id  movie_id  rating  rating_adj                  movie_title\n",
       "77096      818       875       1    2.333333       She's So Lovely (1997)\n",
       "59940      818       328       4    4.583333     Conspiracy Theory (1997)\n",
       "54448      818       302       5    4.774194     L.A. Confidential (1997)\n",
       "59919      818       286       4    4.785714  English Patient, The (1996)\n",
       "67334      818       751       5    5.772727   Tomorrow Never Dies (1997)\n",
       "78583      818       346       4    4.400000          Jackie Brown (1997)\n",
       "66252      818       887       4    4.142857           Eve's Bayou (1997)\n",
       "75738      818       300       2    2.571429         Air Force One (1997)\n",
       "57989      818       912       3    5.500000        U.S. Marshalls (1998)\n",
       "71457      818       690       3    3.933333  Seven Years in Tibet (1997)\n",
       "63267      818       322       2    3.095238        Murder at 1600 (1997)\n",
       "76614      818       271       4    4.727273     Starship Troopers (1997)"
      ]
     },
     "execution_count": 23,
     "metadata": {},
     "output_type": "execute_result"
    }
   ],
   "source": [
    "df = ml_train[ml_train.user_id == 818]. \\\n",
    "    join(rating_dev, on=\"movie_id\")\n",
    "df = df.assign(rating_adj = df[\"rating\"] + df[\"rating_dev\"])[[\"user_id\", \"movie_id\", \"rating\", \"rating_adj\"]]\n",
    "df.join(names, on=\"movie_id\")\n",
    "#names.merge(ml_train[ml_train.user_id == 818], right_on=\"movie_id\", left_index=True)"
   ]
  },
  {
   "cell_type": "markdown",
   "metadata": {},
   "source": [
    "and then produce the final prediction by averaging all these:"
   ]
  },
  {
   "cell_type": "code",
   "execution_count": 24,
   "metadata": {},
   "outputs": [
    {
     "data": {
      "text/plain": [
       "4.218285970302099"
      ]
     },
     "execution_count": 24,
     "metadata": {},
     "output_type": "execute_result"
    }
   ],
   "source": [
    "df[\"rating_adj\"].mean()"
   ]
  },
  {
   "cell_type": "markdown",
   "metadata": {},
   "source": [
    "We also happen to have the user's actual rating in the test set (i.e. we didn't train on it), so we can compare here:"
   ]
  },
  {
   "cell_type": "code",
   "execution_count": 25,
   "metadata": {},
   "outputs": [
    {
     "data": {
      "text/plain": [
       "4"
      ]
     },
     "execution_count": 25,
     "metadata": {},
     "output_type": "execute_result"
    }
   ],
   "source": [
    "ml_test[(ml_test.user_id == 818) & (ml_test.movie_id == 316)][\"rating\"].iloc[0]"
   ]
  },
  {
   "cell_type": "markdown",
   "metadata": {},
   "source": [
    "That's close-ish, I guess. It's not too meaningful to look at a single point."
   ]
  },
  {
   "cell_type": "markdown",
   "metadata": {},
   "source": [
    "## Weighted Slope One"
   ]
  },
  {
   "cell_type": "markdown",
   "metadata": {},
   "source": [
    "Take a look at the table below. This is a similar aggregation to what we just did to determine average deviation - but this instead counts up the number of ratings that went into each average deviation."
   ]
  },
  {
   "cell_type": "code",
   "execution_count": 26,
   "metadata": {},
   "outputs": [
    {
     "data": {
      "text/html": [
       "<div>\n",
       "<style>\n",
       "    .dataframe thead tr:only-child th {\n",
       "        text-align: right;\n",
       "    }\n",
       "\n",
       "    .dataframe thead th {\n",
       "        text-align: left;\n",
       "    }\n",
       "\n",
       "    .dataframe tbody tr th {\n",
       "        vertical-align: top;\n",
       "    }\n",
       "</style>\n",
       "<table border=\"1\" class=\"dataframe\">\n",
       "  <thead>\n",
       "    <tr style=\"text-align: right;\">\n",
       "      <th></th>\n",
       "      <th>movie_title</th>\n",
       "      <th>num_ratings</th>\n",
       "    </tr>\n",
       "  </thead>\n",
       "  <tbody>\n",
       "    <tr>\n",
       "      <th>271</th>\n",
       "      <td>Starship Troopers (1997)</td>\n",
       "      <td>22</td>\n",
       "    </tr>\n",
       "    <tr>\n",
       "      <th>286</th>\n",
       "      <td>English Patient, The (1996)</td>\n",
       "      <td>28</td>\n",
       "    </tr>\n",
       "    <tr>\n",
       "      <th>300</th>\n",
       "      <td>Air Force One (1997)</td>\n",
       "      <td>28</td>\n",
       "    </tr>\n",
       "    <tr>\n",
       "      <th>302</th>\n",
       "      <td>L.A. Confidential (1997)</td>\n",
       "      <td>31</td>\n",
       "    </tr>\n",
       "    <tr>\n",
       "      <th>322</th>\n",
       "      <td>Murder at 1600 (1997)</td>\n",
       "      <td>21</td>\n",
       "    </tr>\n",
       "    <tr>\n",
       "      <th>328</th>\n",
       "      <td>Conspiracy Theory (1997)</td>\n",
       "      <td>24</td>\n",
       "    </tr>\n",
       "    <tr>\n",
       "      <th>346</th>\n",
       "      <td>Jackie Brown (1997)</td>\n",
       "      <td>20</td>\n",
       "    </tr>\n",
       "    <tr>\n",
       "      <th>690</th>\n",
       "      <td>Seven Years in Tibet (1997)</td>\n",
       "      <td>15</td>\n",
       "    </tr>\n",
       "    <tr>\n",
       "      <th>751</th>\n",
       "      <td>Tomorrow Never Dies (1997)</td>\n",
       "      <td>22</td>\n",
       "    </tr>\n",
       "    <tr>\n",
       "      <th>875</th>\n",
       "      <td>She's So Lovely (1997)</td>\n",
       "      <td>6</td>\n",
       "    </tr>\n",
       "    <tr>\n",
       "      <th>887</th>\n",
       "      <td>Eve's Bayou (1997)</td>\n",
       "      <td>7</td>\n",
       "    </tr>\n",
       "    <tr>\n",
       "      <th>912</th>\n",
       "      <td>U.S. Marshalls (1998)</td>\n",
       "      <td>2</td>\n",
       "    </tr>\n",
       "  </tbody>\n",
       "</table>\n",
       "</div>"
      ],
      "text/plain": [
       "                     movie_title  num_ratings\n",
       "271     Starship Troopers (1997)           22\n",
       "286  English Patient, The (1996)           28\n",
       "300         Air Force One (1997)           28\n",
       "302     L.A. Confidential (1997)           31\n",
       "322        Murder at 1600 (1997)           21\n",
       "328     Conspiracy Theory (1997)           24\n",
       "346          Jackie Brown (1997)           20\n",
       "690  Seven Years in Tibet (1997)           15\n",
       "751   Tomorrow Never Dies (1997)           22\n",
       "875       She's So Lovely (1997)            6\n",
       "887           Eve's Bayou (1997)            7\n",
       "912        U.S. Marshalls (1998)            2"
      ]
     },
     "execution_count": 26,
     "metadata": {},
     "output_type": "execute_result"
    }
   ],
   "source": [
    "num_ratings = users_df.groupby(\"movie_id_x\").count()[\"rating_dev\"].rename(\"num_ratings\")\n",
    "names.join(num_ratings, how=\"inner\")"
   ]
  },
  {
   "cell_type": "markdown",
   "metadata": {},
   "source": [
    "We produced an overall average prediction by averaging together\n",
    "all of the average deviations produced from the above ratings.\n",
    "The problem with this is that very different numbers of ratings\n",
    "went into those deviations.  Note that for *U.S. Marshalls*, this\n",
    "deviation come from just 2 rating - yet, in producing that\n",
    "overall prediction above (the ~4.22 above), *U.S. Marshalls*'s average\n",
    "deviation had just as much say in this prediction\n",
    "as *L.A. Confidential*'s average deviation, which came from 31 ratings.\n",
    "\n",
    "That is, the 2 users who rated both *U.S. Marshalls* and\n",
    "*As Good As It Gets* received the same total number of votes\n",
    "(so to speak) as did all 31 users who rated both *Contact*\n",
    "and *As Good As It Gets*, which seems a little silly.\n",
    "\n",
    "We might like to adjust things so that the amount of weight that's\n",
    "given to each average deviation depends on how many ratings are in\n",
    "it; presumably, the more ratings that go into that average deviation,\n",
    "the better of an estimate it is.\n",
    "\n",
    "This is easy to do, luckily:"
   ]
  },
  {
   "cell_type": "code",
   "execution_count": 27,
   "metadata": {},
   "outputs": [
    {
     "data": {
      "text/html": [
       "<div>\n",
       "<style>\n",
       "    .dataframe thead tr:only-child th {\n",
       "        text-align: right;\n",
       "    }\n",
       "\n",
       "    .dataframe thead th {\n",
       "        text-align: left;\n",
       "    }\n",
       "\n",
       "    .dataframe tbody tr th {\n",
       "        vertical-align: top;\n",
       "    }\n",
       "</style>\n",
       "<table border=\"1\" class=\"dataframe\">\n",
       "  <thead>\n",
       "    <tr style=\"text-align: right;\">\n",
       "      <th></th>\n",
       "      <th>user_id</th>\n",
       "      <th>movie_id</th>\n",
       "      <th>rating</th>\n",
       "      <th>rating_adj</th>\n",
       "      <th>num_ratings</th>\n",
       "      <th>rating_weighted</th>\n",
       "    </tr>\n",
       "  </thead>\n",
       "  <tbody>\n",
       "    <tr>\n",
       "      <th>77096</th>\n",
       "      <td>818</td>\n",
       "      <td>875</td>\n",
       "      <td>1</td>\n",
       "      <td>2.333333</td>\n",
       "      <td>6</td>\n",
       "      <td>14.0</td>\n",
       "    </tr>\n",
       "    <tr>\n",
       "      <th>59940</th>\n",
       "      <td>818</td>\n",
       "      <td>328</td>\n",
       "      <td>4</td>\n",
       "      <td>4.583333</td>\n",
       "      <td>24</td>\n",
       "      <td>110.0</td>\n",
       "    </tr>\n",
       "    <tr>\n",
       "      <th>54448</th>\n",
       "      <td>818</td>\n",
       "      <td>302</td>\n",
       "      <td>5</td>\n",
       "      <td>4.774194</td>\n",
       "      <td>31</td>\n",
       "      <td>148.0</td>\n",
       "    </tr>\n",
       "    <tr>\n",
       "      <th>59919</th>\n",
       "      <td>818</td>\n",
       "      <td>286</td>\n",
       "      <td>4</td>\n",
       "      <td>4.785714</td>\n",
       "      <td>28</td>\n",
       "      <td>134.0</td>\n",
       "    </tr>\n",
       "    <tr>\n",
       "      <th>67334</th>\n",
       "      <td>818</td>\n",
       "      <td>751</td>\n",
       "      <td>5</td>\n",
       "      <td>5.772727</td>\n",
       "      <td>22</td>\n",
       "      <td>127.0</td>\n",
       "    </tr>\n",
       "    <tr>\n",
       "      <th>78583</th>\n",
       "      <td>818</td>\n",
       "      <td>346</td>\n",
       "      <td>4</td>\n",
       "      <td>4.400000</td>\n",
       "      <td>20</td>\n",
       "      <td>88.0</td>\n",
       "    </tr>\n",
       "    <tr>\n",
       "      <th>66252</th>\n",
       "      <td>818</td>\n",
       "      <td>887</td>\n",
       "      <td>4</td>\n",
       "      <td>4.142857</td>\n",
       "      <td>7</td>\n",
       "      <td>29.0</td>\n",
       "    </tr>\n",
       "    <tr>\n",
       "      <th>75738</th>\n",
       "      <td>818</td>\n",
       "      <td>300</td>\n",
       "      <td>2</td>\n",
       "      <td>2.571429</td>\n",
       "      <td>28</td>\n",
       "      <td>72.0</td>\n",
       "    </tr>\n",
       "    <tr>\n",
       "      <th>57989</th>\n",
       "      <td>818</td>\n",
       "      <td>912</td>\n",
       "      <td>3</td>\n",
       "      <td>5.500000</td>\n",
       "      <td>2</td>\n",
       "      <td>11.0</td>\n",
       "    </tr>\n",
       "    <tr>\n",
       "      <th>71457</th>\n",
       "      <td>818</td>\n",
       "      <td>690</td>\n",
       "      <td>3</td>\n",
       "      <td>3.933333</td>\n",
       "      <td>15</td>\n",
       "      <td>59.0</td>\n",
       "    </tr>\n",
       "    <tr>\n",
       "      <th>63267</th>\n",
       "      <td>818</td>\n",
       "      <td>322</td>\n",
       "      <td>2</td>\n",
       "      <td>3.095238</td>\n",
       "      <td>21</td>\n",
       "      <td>65.0</td>\n",
       "    </tr>\n",
       "    <tr>\n",
       "      <th>76614</th>\n",
       "      <td>818</td>\n",
       "      <td>271</td>\n",
       "      <td>4</td>\n",
       "      <td>4.727273</td>\n",
       "      <td>22</td>\n",
       "      <td>104.0</td>\n",
       "    </tr>\n",
       "  </tbody>\n",
       "</table>\n",
       "</div>"
      ],
      "text/plain": [
       "       user_id  movie_id  rating  rating_adj  num_ratings  rating_weighted\n",
       "77096      818       875       1    2.333333            6             14.0\n",
       "59940      818       328       4    4.583333           24            110.0\n",
       "54448      818       302       5    4.774194           31            148.0\n",
       "59919      818       286       4    4.785714           28            134.0\n",
       "67334      818       751       5    5.772727           22            127.0\n",
       "78583      818       346       4    4.400000           20             88.0\n",
       "66252      818       887       4    4.142857            7             29.0\n",
       "75738      818       300       2    2.571429           28             72.0\n",
       "57989      818       912       3    5.500000            2             11.0\n",
       "71457      818       690       3    3.933333           15             59.0\n",
       "63267      818       322       2    3.095238           21             65.0\n",
       "76614      818       271       4    4.727273           22            104.0"
      ]
     },
     "execution_count": 27,
     "metadata": {},
     "output_type": "execute_result"
    }
   ],
   "source": [
    "df = df.join(num_ratings, on=\"movie_id\")\n",
    "df = df.assign(rating_weighted = df[\"rating_adj\"] * df[\"num_ratings\"])\n",
    "df"
   ]
  },
  {
   "cell_type": "code",
   "execution_count": 28,
   "metadata": {},
   "outputs": [
    {
     "data": {
      "text/plain": [
       "4.252212389380531"
      ]
     },
     "execution_count": 28,
     "metadata": {},
     "output_type": "execute_result"
    }
   ],
   "source": [
    "df[\"rating_weighted\"].sum() / df[\"num_ratings\"].sum()"
   ]
  },
  {
   "cell_type": "markdown",
   "metadata": {},
   "source": [
    "This makes only a small difference here."
   ]
  },
  {
   "cell_type": "markdown",
   "metadata": {},
   "source": [
    "## Linear Algebra Tricks"
   ]
  },
  {
   "cell_type": "markdown",
   "metadata": {},
   "source": [
    "I said linear algebra isn't needed, which is true.  Everything above\n",
    "was implemented just in operations over Pandas dataframes, albeit\n",
    "with a lot of merges and joins, and it's probably not very efficient\n",
    "(though, Pandas probably offers a lot of room to optimize, and because\n",
    "of how it's meant to be familiar to users of relation databases, you\n",
    "could probably implement this fairly efficiently in SQL). If matrices\n",
    "make your eyes glaze over, you can probably just skip this section.\n",
    "\n",
    "However, the entire Slope One method can be implemented in a very fast\n",
    "and concise way with a couple matrix operations.\n",
    "\n",
    "### Short Answer\n",
    "\n",
    "Let $U$ be the utility matrix. Let $M$ be a binary matrix for which $M_{i,j}=1$ if user $i$ rated movie $j$, otherwise 0.\n",
    "\n",
    "Compute deviation matrix $D$ thus:\n",
    "\n",
    "$$D = \\left(M^\\top U - (M^\\top U)^\\top\\right) /\\ M^\\top M$$\n",
    "\n",
    "where $/$ is Hadamard (i.e. elementwise) division.\n",
    "\n",
    "Then $D_{j,i}=\\textrm{dev}_{j,i}$ - that is, the average deviation of\n",
    "movie $i$ with respect to movie $j$.\n",
    "\n",
    "### Long Answer\n",
    "\n",
    "First, we need to have our data encoded as an $n \\times m$ utility\n",
    "matrix (see a [few sections above](#Utility-Matrix) for the definition\n",
    "of *utility matrix*).\n",
    "As noted, most elements of this matrix are unknown as users have rated\n",
    "only a fraction of movies. We can represent this with another\n",
    "$n \\times m$ matrix (specifically a binary matrix), a 'mask' $M$ in\n",
    "which $M_{k,i}$ is 1 if user $k$ supplied a rating for movie $i$, and\n",
    "otherwise 0.\n",
    "\n",
    "I mentioned *deviation* above and gave an informal definition of it.\n",
    "The paper gaves a formal but rather terse definition below of the\n",
    "average deviation of item $i$ with respect to item $j$, and I\n",
    "then separate out the summation a little:\n",
    "\n",
    "$$\n",
    "\\begin{split}\n",
    "\\textrm{dev}_{j,i} &= \\sum_{u \\in S_{j,i}(\\chi)} \\frac{u_j - u_i}{card(S_{j,i}(\\chi))} \\\\\n",
    " &= \\frac{1}{card(S_{j,i}(\\chi))} \\sum_{u \\in\n",
    "S_{j,i}(\\chi)} u_j - u_i = \\frac{1}{card(S_{j,i}(\\chi))}\\left(\\sum_{u\n",
    "\\in S_{j,i}(\\chi)} u_j - \\sum_{u \\in S_{j,i}(\\chi)} u_i\\right)\n",
    "\\end{split}\n",
    "$$\n",
    "\n",
    "where:\n",
    "\n",
    "- $u_j$ and $u_i$ mean: user $u$'s ratings for movies $i$ and $j$, respectively\n",
    "- $u \\in S_{j,i}(\\chi)$ means: all users $u$ who, in the dataset we're\n",
    "  training on, provided a rating for both movie $i$ and movie $j$\n",
    "- $card$ is the cardinality of that set, i.e.\n",
    "  ${card(S_{j,i}(\\chi))}$ is how many users rated both $i$ and\n",
    "  $j$."
   ]
  },
  {
   "cell_type": "markdown",
   "metadata": {},
   "source": [
    "Let's start with computing ${card(S_{j,i}(\\chi))}$, the number of\n",
    "users who rated both movie $i$ and movie $j$.  Consider column $i$ of\n",
    "the mask $M$.  For each value in this column, it equals 1 if the\n",
    "respective user rated movie $i$, or 0 if they did not.  Clearly,\n",
    "simply summing up column $i$ would tell us how many users rated movie\n",
    "$i$, and the same applies to column $j$ for movie $j$.\n",
    "\n",
    "Now, suppose we take element-wise logical AND of columns $i$ and $j$.\n",
    "The resultant column has a 1 only where both corresponding elements\n",
    "were 1 - where a user rated both $i$ and $j$.  If we sum up this\n",
    "column, we have exactly the number we need: the number of users who\n",
    "rated both $i$ and $j$. Some might notice that \"elementwise logical\n",
    "AND\" is just \"elementwise\n",
    "multiplication\", thus \"sum of elementwise logical AND\" is just \"sum of\n",
    "elementwise multiplication\", which is: dot product.  That is,\n",
    "${card(S_{j,i}(\\chi))}=M_j \\cdot M_i$ if we use $M_i$ and $M_j$ for\n",
    "columns $i$ and $j$ of $M$.\n",
    "\n",
    "However, we'd like to compute deviation as a matrix for all $i$ and\n",
    "$j$, so we'll likewise need ${card(S_{j,i}(\\chi))}$ for every single\n",
    "combination of $i$ and $j$ - that is, we need a dot product between\n",
    "every single pair of columns from $M$.  This is incidentally just\n",
    "matrix multiplication:\n",
    "\n",
    "$$C=M^\\top M$$\n",
    "\n",
    "since $C_{i,j}$ is the dot product of row $i$ of $M^T$ - which is column\n",
    "$i$ of $M$ - and column $j$ of $M$."
   ]
  },
  {
   "cell_type": "markdown",
   "metadata": {},
   "source": [
    "That was the first half of what we needed for $\\textrm{dev}_{j,i}$.\n",
    "We still need the other half:\n",
    "\n",
    "$$\\sum_{u \\in S_{j,i}(\\chi)} u_j - \\sum_{u \\in S_{j,i}(\\chi)} u_i$$\n",
    "\n",
    "We can apply a similar trick here.  Consider first what $\\sum_{u \\in\n",
    "S_{j,i}(\\chi)} u_j$ means: It is the sum of only those ratings of\n",
    "movie $j$ that were done by a user who also rated movie $i$.\n",
    "Likewise, $\\sum_{u \\in S_{j,i}(\\chi)} u_i$ is the sum of only those\n",
    "ratings of movie $i$ that were done by a user who also rated movie\n",
    "$j$.  (Note the symmetry: it's over the same set of users, because\n",
    "it's always the users who rated both $i$ and $j$.)\n",
    "\n",
    "Let's call the utility matrix $U$, and use $U_i$ and $U_j$ to refer\n",
    "to columns $i$ and $j$ of it (just as in $M$).  $U_i$ has each rating\n",
    "of movie $i$, but we want only the sum of the ratings done by a user\n",
    "who also rated movie $j$. Like before, the dot product of $U_i$ and\n",
    "$M_j$ (consider the definition of $M_j$) computes this, and so:\n",
    "\n",
    "$$\\sum_{u \\in S_{j,i}(\\chi)} u_j = M_i \\cdot U_j$$\n",
    "\n",
    "and as with $C$, since we want every pairwise dot product, this summation just\n",
    "equals element $(i,j)$ of $M^\\top U$. The other half of the summation,\n",
    "$\\sum_{u \\in S_{j,i}(\\chi)} u_i$, equals $M_j \\cdot U_i$, which is just\n",
    "the transpose of this matrix:\n",
    "\n",
    "$$\\sum_{u \\in S_{j,i}(\\chi)} u_j - \\sum_{u \\in S_{j,i}(\\chi)} u_i = M^\\top U - (M^\\top U)^\\top = M^\\top U - U^\\top M$$\n",
    "\n",
    "So, finally, we can compute an entire deviation matrix at once like:\n",
    "\n",
    "$$D = \\left(M^\\top U - (M^\\top U)^\\top\\right) /\\ M^\\top M$$\n",
    "\n",
    "where $/$ is Hadamard (i.e. elementwise) division, and $D_{j,i} = \\textrm{dev}_{j,i}$.\n",
    "\n",
    "By convention and to avoid division by zero, we treat the case where the denominator and numerator are both 0 as just equaling 0. This comes up only where no ratings exist for there to be a deviation - hence the `np.maximum(1, counts)` below."
   ]
  },
  {
   "cell_type": "markdown",
   "metadata": {},
   "source": [
    "## Faster Slope One with linear algebra"
   ]
  },
  {
   "cell_type": "code",
   "execution_count": 29,
   "metadata": {
    "collapsed": true
   },
   "outputs": [],
   "source": [
    "def deviation(M, mask):\n",
    "    m,n = M.shape\n",
    "    m2 = mask.astype(np.int)\n",
    "    counts = m2.T @ m2\n",
    "    S = M.T @ m2\n",
    "    diffs = S - S.T\n",
    "    dev = diffs / np.maximum(1, counts)\n",
    "    return dev, counts"
   ]
  },
  {
   "cell_type": "markdown",
   "metadata": {},
   "source": [
    "The implementation above might be less-optimal on much larger matrices, though."
   ]
  },
  {
   "cell_type": "code",
   "execution_count": 30,
   "metadata": {
    "collapsed": true
   },
   "outputs": [],
   "source": [
    "def predict_one(M, mask, dev, counts, u, j, weighted = False):\n",
    "    m,n = M.shape\n",
    "    # S_u is a mask over M's columns for items user 'u' rated:\n",
    "    S_u = mask[u, :]\n",
    "    if weighted:\n",
    "        # In 'Weighted Slope One', we sum over everything user 'u' rated,\n",
    "        # regardless of whether other users rated both this and item j:\n",
    "        S_u[j] = False\n",
    "        c_j = counts[j, S_u]\n",
    "        devs = dev[j, S_u]\n",
    "        u = M[u, S_u]\n",
    "        return ((devs + u) * c_j).sum() / max(1.0, c_j.sum())\n",
    "    else:\n",
    "        # In the 'Slope One' formula we are summing over R_j, which is:\n",
    "        # Every item 'i' (i != j), such that: user 'u' rated item 'i', and\n",
    "        # at least one other user rated both item 'i' and item 'j'.\n",
    "        # Below we compute this likewise as a mask over M's columns:\n",
    "        R_j = S_u * (counts[u, :] > 0)\n",
    "        R_j[j] = False\n",
    "        u = M[u, R_j].sum()\n",
    "        devs = dev[j, R_j].sum()\n",
    "        card = max(1.0, R_j.sum())\n",
    "        return (u + devs) / card"
   ]
  },
  {
   "cell_type": "code",
   "execution_count": 31,
   "metadata": {
    "collapsed": true
   },
   "outputs": [],
   "source": [
    "def predict(M, mask, dev, counts, dataframe, weighted=False):\n",
    "    err_mae = 0\n",
    "    err_rms = 0\n",
    "    idxs = np.transpose(np.where(M))\n",
    "    for i,j in idxs:\n",
    "        p = predict_one(M, mask, dev, counts,\n",
    "                        i, j, weighted=weighted)\n",
    "        d = p - M[i,j]\n",
    "        err_mae += np.abs(d)\n",
    "        err_rms += np.square(d)\n",
    "    err_mae = err_mae / idxs.shape[0]\n",
    "    err_rms = np.sqrt(err_rms / idxs.shape[0])\n",
    "    return err_mae, err_rms"
   ]
  },
  {
   "cell_type": "markdown",
   "metadata": {},
   "source": [
    "Finally, we can train the model on the training set, and then run it on both training & testing:"
   ]
  },
  {
   "cell_type": "code",
   "execution_count": 32,
   "metadata": {
    "collapsed": true
   },
   "outputs": [],
   "source": [
    "# Compute deviation (which is basically our model) from training:\n",
    "dev, counts = deviation(ml_mat_train, ml_mask_train)"
   ]
  },
  {
   "cell_type": "code",
   "execution_count": 33,
   "metadata": {
    "collapsed": true
   },
   "outputs": [],
   "source": [
    "err_mae_train, err_rms_train = predict(ml_mat_train, ml_mask_train, dev, counts, ml_train)\n",
    "err_mae_test,  err_rms_test  = predict(ml_mat_test,  ml_mask_test,  dev, counts, ml_test)\n",
    "\n",
    "# These are used later for comparison:\n",
    "test_results = [(\"\", \"Slope One\", err_mae_test, err_rms_test)]"
   ]
  },
  {
   "cell_type": "markdown",
   "metadata": {},
   "source": [
    "and show their error in both MAE and RMSE:"
   ]
  },
  {
   "cell_type": "code",
   "execution_count": 34,
   "metadata": {},
   "outputs": [
    {
     "name": "stdout",
     "output_type": "stream",
     "text": [
      "Training error: MAE=0.652,  RMSE=0.853\n",
      "Testing error:  MAE=0.782,  RMSE=1.015\n"
     ]
    }
   ],
   "source": [
    "print(\"Training error: MAE={:.3f},  RMSE={:.3f}\".format(err_mae_train, err_rms_train))\n",
    "print(\"Testing error:  MAE={:.3f},  RMSE={:.3f}\".format(err_mae_test, err_rms_test))"
   ]
  },
  {
   "cell_type": "markdown",
   "metadata": {},
   "source": [
    "We can do likewise for Weighted Slope One (note that we don't even have to re-train):"
   ]
  },
  {
   "cell_type": "code",
   "execution_count": 35,
   "metadata": {
    "collapsed": true
   },
   "outputs": [],
   "source": [
    "err_mae_train, err_rms_train = predict(ml_mat_train, ml_mask_train, dev, counts, ml_train, True)\n",
    "err_mae_test,  err_rms_test  = predict(ml_mat_test,  ml_mask_test,  dev, counts, ml_test,  True)\n",
    "# why must I pass both dataframe and matrix?"
   ]
  },
  {
   "cell_type": "code",
   "execution_count": 36,
   "metadata": {},
   "outputs": [
    {
     "name": "stdout",
     "output_type": "stream",
     "text": [
      "Training error: MAE=0.684,  RMSE=0.935\n",
      "Testing error:  MAE=0.955,  RMSE=1.324\n"
     ]
    }
   ],
   "source": [
    "print(\"Training error: MAE={:.3f},  RMSE={:.3f}\".format(err_mae_train, err_rms_train))\n",
    "print(\"Testing error:  MAE={:.3f},  RMSE={:.3f}\".format(err_mae_test, err_rms_test))"
   ]
  },
  {
   "cell_type": "markdown",
   "metadata": {},
   "source": [
    "## \"SVD\" algorithm"
   ]
  },
  {
   "cell_type": "markdown",
   "metadata": {},
   "source": [
    "### Model & Background\n",
    "\n",
    "This basic model is very easy to implement, but the implementation won't make sense without some more involved derivation.\n",
    "\n",
    "I'm not sure this method has a clear name. Surprise calls it an SVD algorithm, but it neither uses SVD nor really computes it; it's just vaguely SVD-like. To confuse matters further, several other algorithms compute similar things and do use SVD, but are completely unrelated.\n",
    "\n",
    "References on this model are in a few different places:\n",
    "\n",
    "- [SVD](https://surprise.readthedocs.io/en/stable/matrix_factorization.html#surprise.prediction_algorithms.matrix_factorization.SVD) in Surprise gives enough formulas to implement from.\n",
    "- Simon Funk's post [Netflix Update: Try This at Home](http://sifter.org/~simon/journal/20061211.html) is an excellent overview of the rationale and of some practical concerns on how to run this on the much larger Netflix dataset (100,000,000 ratings, instead of 100,000).\n",
    "- The paywalled article [Matrix Factorization Techniques for Recommender Systems](http://ieeexplore.ieee.org/abstract/document/5197422/) gives a little background from a higher level.\n",
    "\n",
    "### Motivation\n",
    "\n",
    "We again start from the $n \\times m$ utility matrix $U$.  As $m$ and $n$ tend to be quite large, $U$ has a lot of degrees of freedom.  If we want to be able to predict anything at all, we must assume some fairly strict constraints - and one form of this is assuming that we don't *really* have that many degrees of freedom, and that there are actually some much smaller latent factors controlling everything.\n",
    "\n",
    "One common form of this is assuming that the rank of matrix $U$ - its *actual* dimensionality - is much lower. Let's say its rank is $r$.  We could then represent $U$ as the matrix product of smaller matrices, i.e. $U=P^\\top Q$ where $P$ is a $r \\times n$ matrix and $Q$ is $r \\times m$.\n",
    "\n",
    "If we can find dense matrices $P$ and $Q$ such that $P^\\top Q$ equals, or approximately equals, $U$ for the corresponding elements of $U$ that are known, then $P^\\top Q$ also gives us predictions for the unknown elements of $U$ - the ratings we don't know, but want to predict.  Of course, $r$ must be small enough here to prevent overfitting.\n",
    "\n",
    "(What we're talking about above is [matrix completion](https://en.wikipedia.org/wiki/Matrix_completion) using low-rank [matrix decomposition/factorization](https://en.wikipedia.org/wiki/Matrix_decomposition). These are both subjects unto themselves. See the [matrix-completion-whirlwind](https://github.com/asberk/matrix-completion-whirlwind/blob/master/matrix_completion_master.ipynb) notebook for a much better explanation on that subject, and an implementation of [altMinSense/altMinComplete](https://arxiv.org/pdf/1212.0467).)\n",
    "\n",
    "Ordinarily, we'd use something like SVD directly if we wanted to find matrices $P$ and $Q$ (or if we wanted to do any of about 15,000 other things, since SVD is basically magical matrix fairy dust). We can't really do that here due to the fact that large parts of $U$ are unknown, and in some cases because $U$ is just too large.  One approach for working around this is the UV-decomposition algorithm that section 9.4 of [MMDS](http://www.mmds.org/) describes.\n",
    "\n",
    "What we'll do below is a similar approach to UV decomposition that follows a common method: define a model, define an error function we want to minimize, find that error function's gradient with respect to the model's parameters, and then use gradient-descent to minimize that error function by nudging the parameters in the direction that decreases the error, i.e. the negative of their gradient.  (More on this later.)\n",
    "\n",
    "Matrices $Q$ and $P$ have some other neat properties too. Note that $Q$ has $m$ columns, each one $r$-dimensional - one column per movie.  $P$ has $n$ columns, each one $r$-dimensional - one column per user. In effect, we can look at each column $i$ of $Q$ as the coordinates of movie $i$ in \"concept space\" or \"feature space\" - a new $r$-dimensional space where each axis corresponds to something that seems to explain ratings. Likewise, we can look at each column $u$ of $P$ as how much user $u$ \"belongs\" to each axis in concept space.  \"Feature vectors\" is a common term to see.\n",
    "\n",
    "In that sense, $P$ and $Q$ give us a model in which ratings are an interaction between properties of a movie, and a user's preferences.  If we're using $U=P^\\top Q$ as our model, then every element of $U$ is just the dot product of the feature vectors of the respective movie and user.  That is, if $p_u$ is column $u$ of $P$ and $q_i$ is column $i$ of $Q$:\n",
    "\n",
    "$$\\hat{r}_{ui}=q_i^\\top p_u$$\n",
    "\n",
    "However, some things aren't really interactions. Some movies are just (per the ratings) overall better or worse. Some users just tend to rate everything higher or lower. We need some sort of bias built into the model to comprehend this.\n",
    "\n",
    "Let's call $b_i$ the bias for movie $i$, $b_u$ the bias for user $u$, and $\\mu$ the overall average rating. We can just add these into the model:\n",
    "\n",
    "$$\\hat{r}_{ui}=\\mu + b_i + b_u + q_i^\\top p_u$$\n",
    "\n",
    "This is the basic model we'll implement, and the same one described in the references at the top."
   ]
  },
  {
   "cell_type": "markdown",
   "metadata": {},
   "source": [
    "### Prediction & Error Function\n",
    "\n",
    "More formally, the prediction model is:\n",
    "\n",
    "$$\\hat{r}_{ui}=\\mu + b_i + b_u + q_i^\\top p_u$$\n",
    "\n",
    "where:\n",
    "\n",
    "- $u$ is a user\n",
    "- $i$ is an item\n",
    "- $\\hat{r}_{ui}$ is user $u$'s predicted rating for item $i$\n",
    "- $\\mu$ is the overall average rating\n",
    "- our model parameters are:\n",
    "  - $b_i$, a per-item deviation for item $i$; \n",
    "  - $b_u$, per-user deviation for user $u$\n",
    "  - $q_i$ and $p_u$, feature vectors for item $i$ and user $u$, respectively\n",
    "\n",
    "The error function that we need to minimize is just sum-of-squared error between predicted and actual rating, plus $L_2$ regularization to prevent the biases and coordinates in \"concept space\" from becoming too huge:\n",
    "$$E=\\sum_{r_{ui} \\in R_{\\textrm{train}}} \\left(r_{ui} - \\hat{r}_{ui}\\right)^2 + \\lambda\\left(b_i^2+b_u^2 + \\lvert\\lvert q_i\\rvert\\rvert^2 + \\lvert\\lvert p_u\\rvert\\rvert^2\\right)$$"
   ]
  },
  {
   "cell_type": "markdown",
   "metadata": {},
   "source": [
    "### Gradients & Gradient-Descent Updates\n",
    "\n",
    "This error function is easily differentiable with respect to model parameters $b_i$, $b_u$, $q_i$, and $p_u$, so a normal approach for minimizing it is gradient-descent.  Finding gradient with respect to $b_i$ is straightforward:\n",
    "\n",
    "$$\n",
    "\\begin{split}\n",
    "\\frac{\\partial E}{\\partial b_i} &= \\sum_{r_{ui}} \\frac{\\partial}{\\partial b_i} \\left(r_{ui} - (\\mu + b_i + b_u + q_i^\\top p_u)\\right)^2 + \\frac{\\partial}{\\partial b_i}\\lambda\\left(b_i^2+b_u^2 + \\lvert\\lvert q_i\\rvert\\rvert^2 + \\lvert\\lvert p_u\\rvert\\rvert^2\\right) \\\\\n",
    "\\frac{\\partial E}{\\partial b_i} &= \\sum_{r_{ui}} 2\\left(r_{ui} - (\\mu + b_i + b_u + q_i^\\top p_u)\\right)(-1) + 2 \\lambda b_i \\\\\n",
    "\\frac{\\partial E}{\\partial b_i} &= 2 \\sum_{r_{ui}} \\left(\\lambda b_i + r_{ui} - \\hat{r}_{ui}\\right)\n",
    "\\end{split}\n",
    "$$\n",
    "\n",
    "Gradient with respect to $p_u$ proceeds similarly:\n",
    "\n",
    "$$\n",
    "\\begin{split}\n",
    "\\frac{\\partial E}{\\partial p_u} &= \\sum_{r_{ui}} \\frac{\\partial}{\\partial p_u} \\left(r_{ui} - (\\mu + b_i + b_u + q_i^\\top p_u)\\right)^2 + \\frac{\\partial}{\\partial p_u}\\lambda\\left(b_i^2+b_u^2 + \\lvert\\lvert q_i\\rvert\\rvert^2 + \\lvert\\lvert p_u\\rvert\\rvert^2\\right) \\\\\n",
    "\\frac{\\partial E}{\\partial p_u} &= \\sum_{r_{ui}} 2\\left(r_{ui} - \\hat{r}_{ui}\\right)\\left(-\\frac{\\partial}{\\partial\n",
    "p_u}q_i^\\top p_u \\right) + 2 \\lambda p_u \\\\\n",
    "\\frac{\\partial E}{\\partial p_u} &= \\sum_{r_{ui}} 2\\left(r_{ui} - \\hat{r}_{ui}\\right)(-q_i^\\top) + 2 \\lambda p_u \\\\\n",
    "\\frac{\\partial E}{\\partial p_u} &= 2 \\sum_{r_{ui}} \\lambda p_u - \\left(r_{ui} - \\hat{r}_{ui}\\right)q_i^\\top\n",
    "\\end{split}\n",
    "$$\n",
    "\n",
    "Gradient with respect to $b_u$ is identical form to $b_i$, and gradient with respect to $q_i$ is identical form to $p_u$, except that the variables switch places.  The full gradients then have the standard form for gradient descent, i.e. a summation of a gradient term for each individual data point, so they turn easily into update rules for each parameter (which match the ones in the Surprise link) after absorbing the leading 2 into learning rate $\\gamma$ and separating out the summation over each data point. That's given below, with $e_{ui}=r_{ui} - \\hat{r}_{ui}$:\n",
    "\n",
    "$$\n",
    "\\begin{split}\n",
    "\\frac{\\partial E}{\\partial b_i} &= 2 \\sum_{r_{ui}} \\left(\\lambda b_i + e_{ui}\\right)\\ \\ \\ &\\longrightarrow b_i' &= b_i - \\gamma\\frac{\\partial E}{\\partial b_i} &= b_i + \\gamma\\left(e_{ui} - \\lambda b_u \\right) \\\\\n",
    "\\frac{\\partial E}{\\partial b_u} &= 2 \\sum_{r_{ui}} \\left(\\lambda b_u + e_{ui}\\right)\\ \\ \\ &\\longrightarrow b_u' &= b_u - \\gamma\\frac{\\partial E}{\\partial b_u} &= b_u + \\gamma\\left(e_{ui} - \\lambda b_i \\right)\\\\\n",
    "\\frac{\\partial E}{\\partial p_u} &= 2 \\sum_{r_{ui}} \\lambda p_u - e_{ui}q_i^\\top\\ \\ \\ &\\longrightarrow p_u' &= p_u - \\gamma\\frac{\\partial E}{\\partial p_u} &= p_u + \\gamma\\left(e_{ui}q_i - \\lambda p_u \\right) \\\\\n",
    "\\frac{\\partial E}{\\partial q_i} &= 2 \\sum_{r_{ui}} \\lambda q_i - e_{ui}p_u^\\top\\ \\ \\ &\\longrightarrow q_i' &= q_i - \\gamma\\frac{\\partial E}{\\partial q_i} &= q_i + \\gamma\\left(e_{ui}p_u - \\lambda q_i \\right) \\\\\n",
    "\\end{split}\n",
    "$$\n",
    "\n",
    "The code below is a direct implementation of this by simply iteratively applying the above equations for each data point via SGD."
   ]
  },
  {
   "cell_type": "markdown",
   "metadata": {},
   "source": [
    "## Implementation"
   ]
  },
  {
   "cell_type": "code",
   "execution_count": 37,
   "metadata": {
    "collapsed": true
   },
   "outputs": [],
   "source": [
    "# Hyperparameters (using Surprise defaults):\n",
    "gamma = 0.005\n",
    "lambda_ = 0.02\n",
    "factors = 100\n",
    "num_epochs = 20"
   ]
  },
  {
   "cell_type": "code",
   "execution_count": 38,
   "metadata": {
    "collapsed": true
   },
   "outputs": [],
   "source": [
    "class SVDModel(object):\n",
    "    def __init__(self, num_items, num_users, mean,\n",
    "                 num_factors = 100, init_variance = 0.1):\n",
    "        self.mu = mean\n",
    "        self.num_items = num_items\n",
    "        self.num_users = num_users\n",
    "        self.num_factors = num_factors\n",
    "        # Deviations, per-item:\n",
    "        self.b_i = np.zeros((num_items,))\n",
    "        # Deviations; per-user:\n",
    "        self.b_u = np.zeros((num_users,))\n",
    "        # Factor matrices:\n",
    "        self.q = np.random.randn(num_factors, num_items) * init_variance\n",
    "        self.p = np.random.randn(num_factors, num_users) * init_variance\n",
    "        # N.B. row I of q is item I's \"concepts\", so to speak;\n",
    "        # column U of p is how much user U belongs to each \"concept\"\n",
    "    \n",
    "    def predict(self, items, users):\n",
    "        \"\"\"Returns rating prediction for specific items and users.\n",
    "\n",
    "        Parameters:\n",
    "        items -- 1D array of item IDs\n",
    "        users -- 1D array of user IDs (same length as :items:)\n",
    "        \n",
    "        Returns:\n",
    "        ratings -- 1D array of predicted ratings (same length as :items:)\n",
    "        \"\"\"\n",
    "        # Note that we don't multiply p & q like matrices here,\n",
    "        # but rather, we just do row-by-row dot products.\n",
    "        # Matrix multiply would give us every combination of item and user,\n",
    "        # which isn't what we want.\n",
    "        return self.mu + \\\n",
    "               self.b_i[items] + \\\n",
    "               self.b_u[users] + \\\n",
    "               (self.q[:, items] * self.p[:, users]).sum(axis=0)\n",
    "    \n",
    "    def error(self, items, users, ratings):\n",
    "        \"\"\"Predicts over the given items and users, compares with the correct\n",
    "        ratings, and returns RMSE and MAE.\n",
    "        \n",
    "        Parameters:\n",
    "        items -- 1D array of item IDs\n",
    "        users -- 1D array of user IDs (same length as :items:)\n",
    "        ratings -- 1D array of 'correct' item ratings (same length as :items:)\n",
    "        \n",
    "        Returns:\n",
    "        rmse, mae -- Scalars for RMS error and mean absolute error\n",
    "        \"\"\"\n",
    "        p = self.predict(items, users)\n",
    "        d = p - ratings\n",
    "        rmse = np.sqrt(np.square(d).sum() / items.size)\n",
    "        mae = np.abs(d).sum() / items.size\n",
    "        return rmse, mae\n",
    "    \n",
    "    def update_by_gradient(self, i, u, r_ui, lambda_, gamma):\n",
    "        \"\"\"Perform a single gradient-descent update.\"\"\"\n",
    "        e_ui = r_ui - self.predict(i, u)\n",
    "        dbi = gamma * (e_ui - lambda_ * self.b_u[u])\n",
    "        dbu = gamma * (e_ui - lambda_ * self.b_i[i])\n",
    "        dpu = gamma * (e_ui * self.q[:,i] - lambda_ * self.p[:, u])\n",
    "        dqi = gamma * (e_ui * self.p[:,u] - lambda_ * self.q[:, i])\n",
    "        self.b_i[i] += dbi\n",
    "        self.b_u[u] += dbu\n",
    "        self.p[:,u] += dpu\n",
    "        self.q[:,i] += dqi\n",
    "    \n",
    "    def train(self, items, users, ratings, gamma = 0.005, lambda_ = 0.02,\n",
    "              num_epochs=20, epoch_callback=None):\n",
    "        \"\"\"Train with stochastic gradient-descent\"\"\"\n",
    "        for epoch in range(num_epochs):\n",
    "            for idx in np.random.permutation(len(items)):\n",
    "                i, u, r_ui = items[idx], users[idx], ratings[idx]\n",
    "                self.update_by_gradient(i, u, r_ui, lambda_, gamma)\n",
    "            if epoch_callback: epoch_callback(self, epoch, num_epochs)"
   ]
  },
  {
   "cell_type": "markdown",
   "metadata": {},
   "source": [
    "## Running & Testing"
   ]
  },
  {
   "cell_type": "code",
   "execution_count": 39,
   "metadata": {
    "collapsed": true
   },
   "outputs": [],
   "source": [
    "movies_train = ml_train[\"movie_id\"].values\n",
    "users_train = ml_train[\"user_id\"].values\n",
    "ratings_train = ml_train[\"rating\"].values\n",
    "movies_test = ml_test[\"movie_id\"].values\n",
    "users_test = ml_test[\"user_id\"].values\n",
    "ratings_test = ml_test[\"rating\"].values\n",
    "def at_epoch(self, epoch, num_epochs):\n",
    "    train_rmse, train_mae = self.error(movies_train, users_train, ratings_train)\n",
    "    test_rmse, test_mae = self.error(movies_test, users_test, ratings_test)\n",
    "    print(\"Epoch {:02d}/{}; Training: MAE={:.3f} RMSE={:.3f}, Testing: MAE={:.3f} RMSE={:.3f}\".format(epoch + 1, num_epochs, train_mae, train_rmse, test_mae, test_rmse))"
   ]
  },
  {
   "cell_type": "code",
   "execution_count": 40,
   "metadata": {},
   "outputs": [
    {
     "name": "stdout",
     "output_type": "stream",
     "text": [
      "Epoch 01/20; Training: MAE=0.815 RMSE=1.004, Testing: MAE=0.830 RMSE=1.022\n",
      "Epoch 02/20; Training: MAE=0.770 RMSE=0.962, Testing: MAE=0.794 RMSE=0.992\n",
      "Epoch 03/20; Training: MAE=0.746 RMSE=0.936, Testing: MAE=0.779 RMSE=0.978\n",
      "Epoch 04/20; Training: MAE=0.729 RMSE=0.918, Testing: MAE=0.771 RMSE=0.970\n",
      "Epoch 05/20; Training: MAE=0.716 RMSE=0.902, Testing: MAE=0.766 RMSE=0.965\n",
      "Epoch 06/20; Training: MAE=0.705 RMSE=0.889, Testing: MAE=0.762 RMSE=0.961\n",
      "Epoch 07/20; Training: MAE=0.695 RMSE=0.876, Testing: MAE=0.760 RMSE=0.959\n",
      "Epoch 08/20; Training: MAE=0.685 RMSE=0.864, Testing: MAE=0.758 RMSE=0.957\n",
      "Epoch 09/20; Training: MAE=0.675 RMSE=0.852, Testing: MAE=0.756 RMSE=0.955\n",
      "Epoch 10/20; Training: MAE=0.665 RMSE=0.840, Testing: MAE=0.755 RMSE=0.954\n",
      "Epoch 11/20; Training: MAE=0.655 RMSE=0.827, Testing: MAE=0.754 RMSE=0.953\n",
      "Epoch 12/20; Training: MAE=0.645 RMSE=0.814, Testing: MAE=0.753 RMSE=0.952\n",
      "Epoch 13/20; Training: MAE=0.634 RMSE=0.800, Testing: MAE=0.752 RMSE=0.951\n",
      "Epoch 14/20; Training: MAE=0.623 RMSE=0.786, Testing: MAE=0.751 RMSE=0.950\n",
      "Epoch 15/20; Training: MAE=0.611 RMSE=0.772, Testing: MAE=0.750 RMSE=0.949\n",
      "Epoch 16/20; Training: MAE=0.600 RMSE=0.757, Testing: MAE=0.750 RMSE=0.949\n",
      "Epoch 17/20; Training: MAE=0.587 RMSE=0.741, Testing: MAE=0.749 RMSE=0.948\n",
      "Epoch 18/20; Training: MAE=0.575 RMSE=0.725, Testing: MAE=0.749 RMSE=0.948\n",
      "Epoch 19/20; Training: MAE=0.562 RMSE=0.709, Testing: MAE=0.749 RMSE=0.947\n",
      "Epoch 20/20; Training: MAE=0.549 RMSE=0.692, Testing: MAE=0.749 RMSE=0.947\n"
     ]
    }
   ],
   "source": [
    "svd100 = SVDModel(max_movie, max_user, ml[\"rating\"].mean(), num_factors=100)\n",
    "svd100.train(movies_train, users_train, ratings_train, epoch_callback=at_epoch)"
   ]
  },
  {
   "cell_type": "code",
   "execution_count": 41,
   "metadata": {
    "collapsed": true
   },
   "outputs": [],
   "source": [
    "test_rmse, test_mae = svd100.error(movies_test, users_test, ratings_test)\n",
    "test_results.append((\"\", \"SVD\", test_mae, test_rmse))"
   ]
  },
  {
   "cell_type": "markdown",
   "metadata": {},
   "source": [
    "## Visualization\n",
    "\n",
    "As this is a latent-factor model, it might have some other things to tell us than predictions.  We can easily train on a much lower-dimensional concept space, and visualize directly how it is mapping movies.  Below we use just 4 dimensions/factors, and pick pairs of 2 dimensions to plot."
   ]
  },
  {
   "cell_type": "code",
   "execution_count": 42,
   "metadata": {},
   "outputs": [
    {
     "name": "stdout",
     "output_type": "stream",
     "text": [
      "Epoch 01/20; Training: MAE=0.821 RMSE=1.010, Testing: MAE=0.827 RMSE=1.018\n",
      "Epoch 02/20; Training: MAE=0.781 RMSE=0.976, Testing: MAE=0.790 RMSE=0.988\n",
      "Epoch 03/20; Training: MAE=0.763 RMSE=0.958, Testing: MAE=0.775 RMSE=0.974\n",
      "Epoch 04/20; Training: MAE=0.753 RMSE=0.948, Testing: MAE=0.767 RMSE=0.966\n",
      "Epoch 05/20; Training: MAE=0.746 RMSE=0.940, Testing: MAE=0.762 RMSE=0.961\n",
      "Epoch 06/20; Training: MAE=0.742 RMSE=0.935, Testing: MAE=0.758 RMSE=0.957\n",
      "Epoch 07/20; Training: MAE=0.737 RMSE=0.931, Testing: MAE=0.755 RMSE=0.955\n",
      "Epoch 08/20; Training: MAE=0.735 RMSE=0.927, Testing: MAE=0.754 RMSE=0.953\n",
      "Epoch 09/20; Training: MAE=0.732 RMSE=0.924, Testing: MAE=0.752 RMSE=0.951\n",
      "Epoch 10/20; Training: MAE=0.729 RMSE=0.922, Testing: MAE=0.751 RMSE=0.950\n",
      "Epoch 11/20; Training: MAE=0.727 RMSE=0.919, Testing: MAE=0.750 RMSE=0.949\n",
      "Epoch 12/20; Training: MAE=0.725 RMSE=0.917, Testing: MAE=0.749 RMSE=0.948\n",
      "Epoch 13/20; Training: MAE=0.724 RMSE=0.915, Testing: MAE=0.749 RMSE=0.948\n",
      "Epoch 14/20; Training: MAE=0.723 RMSE=0.914, Testing: MAE=0.748 RMSE=0.947\n",
      "Epoch 15/20; Training: MAE=0.721 RMSE=0.912, Testing: MAE=0.748 RMSE=0.947\n",
      "Epoch 16/20; Training: MAE=0.720 RMSE=0.910, Testing: MAE=0.747 RMSE=0.946\n",
      "Epoch 17/20; Training: MAE=0.718 RMSE=0.909, Testing: MAE=0.747 RMSE=0.946\n",
      "Epoch 18/20; Training: MAE=0.717 RMSE=0.907, Testing: MAE=0.747 RMSE=0.946\n",
      "Epoch 19/20; Training: MAE=0.715 RMSE=0.905, Testing: MAE=0.746 RMSE=0.945\n",
      "Epoch 20/20; Training: MAE=0.714 RMSE=0.903, Testing: MAE=0.746 RMSE=0.945\n"
     ]
    }
   ],
   "source": [
    "svd4 = SVDModel(max_movie, max_user, ml[\"rating\"].mean(), 4)\n",
    "svd4.train(ml_train[\"movie_id\"].values, ml_train[\"user_id\"].values, ml_train[\"rating\"].values, epoch_callback=at_epoch)"
   ]
  },
  {
   "cell_type": "markdown",
   "metadata": {},
   "source": [
    "To limit the data, we can use just the top 50 movies (by number of ratings):"
   ]
  },
  {
   "cell_type": "code",
   "execution_count": 43,
   "metadata": {
    "collapsed": true
   },
   "outputs": [],
   "source": [
    "top50 = movie_stats.sort_values(\"num_ratings\", ascending=False)[:50]\n",
    "ids_top50 = top50.index.values"
   ]
  },
  {
   "cell_type": "code",
   "execution_count": 44,
   "metadata": {
    "collapsed": true
   },
   "outputs": [],
   "source": [
    "factors = svd4.q[:,ids_top50].T\n",
    "means, stds = factors.mean(axis=0), factors.std(axis=0)\n",
    "factors[:] = (factors - means) / stds"
   ]
  },
  {
   "cell_type": "markdown",
   "metadata": {},
   "source": [
    "First two dimensions:"
   ]
  },
  {
   "cell_type": "code",
   "execution_count": 45,
   "metadata": {},
   "outputs": [
    {
     "data": {
      "image/png": "[encoded data removed]",
      "text/plain": [
       "<matplotlib.figure.Figure at 0x7faaf5010cc0>"
      ]
     },
     "metadata": {},
     "output_type": "display_data"
    }
   ],
   "source": [
    "plt.figure(figsize=(15,15))\n",
    "markers = [\"$ {} $\".format(\"\\ \".join(m.split(\" \")[:-1])) for m in top50[\"movie_title\"]]\n",
    "for i,item in enumerate(factors):\n",
    "    l = len(markers[i])\n",
    "    plt.scatter(item[0], item[1], marker = markers[i], alpha=0.75, s = 50 * (l**2))\n",
    "plt.show()"
   ]
  },
  {
   "cell_type": "markdown",
   "metadata": {},
   "source": [
    "Last two:"
   ]
  },
  {
   "cell_type": "code",
   "execution_count": 46,
   "metadata": {},
   "outputs": [
    {
     "data": {
      "image/png": "[encoded data removed]",
      "text/plain": [
       "<matplotlib.figure.Figure at 0x7faaf1fe87b8>"
      ]
     },
     "metadata": {},
     "output_type": "display_data"
    }
   ],
   "source": [
    "plt.figure(figsize=(15,15))\n",
    "markers = [\"$ {} $\".format(\"\\ \".join(m.split(\" \")[:-1])) for m in top50[\"movie_title\"]]\n",
    "for i,item in enumerate(factors):\n",
    "    l = len(markers[i])\n",
    "    plt.scatter(item[2], item[3], marker = markers[i], alpha=0.75, s = 50 * (l**2))\n",
    "plt.show()"
   ]
  },
  {
   "cell_type": "markdown",
   "metadata": {},
   "source": [
    "## Bias\n",
    "\n",
    "We can also look at the per-movie bias parameters in the model - loosely, how much higher or lower a movie's rating is, beyond what interactions with user preferences seem to explain. Here are the top 10 and bottom 10; interestingly, while to seems to correlate with the average rating, it doesn't seem to do so especially strongly."
   ]
  },
  {
   "cell_type": "code",
   "execution_count": 47,
   "metadata": {},
   "outputs": [
    {
     "data": {
      "text/plain": [
       "1682"
      ]
     },
     "execution_count": 47,
     "metadata": {},
     "output_type": "execute_result"
    }
   ],
   "source": [
    "len(movie_stats)"
   ]
  },
  {
   "cell_type": "code",
   "execution_count": 48,
   "metadata": {},
   "outputs": [
    {
     "data": {
      "text/html": [
       "<div>\n",
       "<style>\n",
       "    .dataframe thead tr:only-child th {\n",
       "        text-align: right;\n",
       "    }\n",
       "\n",
       "    .dataframe thead th {\n",
       "        text-align: left;\n",
       "    }\n",
       "\n",
       "    .dataframe tbody tr th {\n",
       "        vertical-align: top;\n",
       "    }\n",
       "</style>\n",
       "<table border=\"1\" class=\"dataframe\">\n",
       "  <thead>\n",
       "    <tr style=\"text-align: right;\">\n",
       "      <th></th>\n",
       "      <th>movie_title</th>\n",
       "      <th>num_ratings</th>\n",
       "      <th>avg_rating</th>\n",
       "      <th>bias</th>\n",
       "    </tr>\n",
       "    <tr>\n",
       "      <th>movie_id</th>\n",
       "      <th></th>\n",
       "      <th></th>\n",
       "      <th></th>\n",
       "      <th></th>\n",
       "    </tr>\n",
       "  </thead>\n",
       "  <tbody>\n",
       "    <tr>\n",
       "      <th>409</th>\n",
       "      <td>Jack (1996)</td>\n",
       "      <td>57.0</td>\n",
       "      <td>3.175439</td>\n",
       "      <td>1.104755</td>\n",
       "    </tr>\n",
       "    <tr>\n",
       "      <th>319</th>\n",
       "      <td>Everyone Says I Love You (1996)</td>\n",
       "      <td>144.0</td>\n",
       "      <td>3.284722</td>\n",
       "      <td>1.064964</td>\n",
       "    </tr>\n",
       "    <tr>\n",
       "      <th>484</th>\n",
       "      <td>Maltese Falcon, The (1941)</td>\n",
       "      <td>108.0</td>\n",
       "      <td>4.222222</td>\n",
       "      <td>1.044766</td>\n",
       "    </tr>\n",
       "    <tr>\n",
       "      <th>65</th>\n",
       "      <td>What's Eating Gilbert Grape (1993)</td>\n",
       "      <td>97.0</td>\n",
       "      <td>3.556701</td>\n",
       "      <td>1.014534</td>\n",
       "    </tr>\n",
       "    <tr>\n",
       "      <th>170</th>\n",
       "      <td>Cinema Paradiso (1988)</td>\n",
       "      <td>95.0</td>\n",
       "      <td>4.231579</td>\n",
       "      <td>1.008043</td>\n",
       "    </tr>\n",
       "    <tr>\n",
       "      <th>115</th>\n",
       "      <td>Haunted World of Edward D. Wood Jr., The (1995)</td>\n",
       "      <td>14.0</td>\n",
       "      <td>3.642857</td>\n",
       "      <td>0.977421</td>\n",
       "    </tr>\n",
       "    <tr>\n",
       "      <th>13</th>\n",
       "      <td>Mighty Aphrodite (1995)</td>\n",
       "      <td>153.0</td>\n",
       "      <td>3.372549</td>\n",
       "      <td>0.971829</td>\n",
       "    </tr>\n",
       "    <tr>\n",
       "      <th>179</th>\n",
       "      <td>Clockwork Orange, A (1971)</td>\n",
       "      <td>184.0</td>\n",
       "      <td>3.907609</td>\n",
       "      <td>0.954811</td>\n",
       "    </tr>\n",
       "    <tr>\n",
       "      <th>604</th>\n",
       "      <td>It Happened One Night (1934)</td>\n",
       "      <td>63.0</td>\n",
       "      <td>4.079365</td>\n",
       "      <td>0.947096</td>\n",
       "    </tr>\n",
       "    <tr>\n",
       "      <th>358</th>\n",
       "      <td>Spawn (1997)</td>\n",
       "      <td>111.0</td>\n",
       "      <td>2.603604</td>\n",
       "      <td>0.940707</td>\n",
       "    </tr>\n",
       "  </tbody>\n",
       "</table>\n",
       "</div>"
      ],
      "text/plain": [
       "                                              movie_title  num_ratings  \\\n",
       "movie_id                                                                 \n",
       "409                                           Jack (1996)         57.0   \n",
       "319                       Everyone Says I Love You (1996)        144.0   \n",
       "484                            Maltese Falcon, The (1941)        108.0   \n",
       "65                     What's Eating Gilbert Grape (1993)         97.0   \n",
       "170                                Cinema Paradiso (1988)         95.0   \n",
       "115       Haunted World of Edward D. Wood Jr., The (1995)         14.0   \n",
       "13                                Mighty Aphrodite (1995)        153.0   \n",
       "179                            Clockwork Orange, A (1971)        184.0   \n",
       "604                          It Happened One Night (1934)         63.0   \n",
       "358                                          Spawn (1997)        111.0   \n",
       "\n",
       "          avg_rating      bias  \n",
       "movie_id                        \n",
       "409         3.175439  1.104755  \n",
       "319         3.284722  1.064964  \n",
       "484         4.222222  1.044766  \n",
       "65          3.556701  1.014534  \n",
       "170         4.231579  1.008043  \n",
       "115         3.642857  0.977421  \n",
       "13          3.372549  0.971829  \n",
       "179         3.907609  0.954811  \n",
       "604         4.079365  0.947096  \n",
       "358         2.603604  0.940707  "
      ]
     },
     "execution_count": 48,
     "metadata": {},
     "output_type": "execute_result"
    }
   ],
   "source": [
    "bias = movie_stats.assign(bias = np.pad(svd100.b_i, (0,2), 'constant')).sort_values(\"bias\", ascending=False)\n",
    "bias.iloc[:10]"
   ]
  },
  {
   "cell_type": "code",
   "execution_count": 49,
   "metadata": {},
   "outputs": [
    {
     "data": {
      "text/html": [
       "<div>\n",
       "<style>\n",
       "    .dataframe thead tr:only-child th {\n",
       "        text-align: right;\n",
       "    }\n",
       "\n",
       "    .dataframe thead th {\n",
       "        text-align: left;\n",
       "    }\n",
       "\n",
       "    .dataframe tbody tr th {\n",
       "        vertical-align: top;\n",
       "    }\n",
       "</style>\n",
       "<table border=\"1\" class=\"dataframe\">\n",
       "  <thead>\n",
       "    <tr style=\"text-align: right;\">\n",
       "      <th></th>\n",
       "      <th>movie_title</th>\n",
       "      <th>num_ratings</th>\n",
       "      <th>avg_rating</th>\n",
       "      <th>bias</th>\n",
       "    </tr>\n",
       "    <tr>\n",
       "      <th>movie_id</th>\n",
       "      <th></th>\n",
       "      <th></th>\n",
       "      <th></th>\n",
       "      <th></th>\n",
       "    </tr>\n",
       "  </thead>\n",
       "  <tbody>\n",
       "    <tr>\n",
       "      <th>689</th>\n",
       "      <td>Jackal, The (1997)</td>\n",
       "      <td>72.0</td>\n",
       "      <td>3.194444</td>\n",
       "      <td>-1.325294</td>\n",
       "    </tr>\n",
       "    <tr>\n",
       "      <th>891</th>\n",
       "      <td>Bent (1997)</td>\n",
       "      <td>6.0</td>\n",
       "      <td>2.666667</td>\n",
       "      <td>-1.311079</td>\n",
       "    </tr>\n",
       "    <tr>\n",
       "      <th>744</th>\n",
       "      <td>Michael Collins (1996)</td>\n",
       "      <td>73.0</td>\n",
       "      <td>3.438356</td>\n",
       "      <td>-1.277088</td>\n",
       "    </tr>\n",
       "    <tr>\n",
       "      <th>369</th>\n",
       "      <td>Black Sheep (1996)</td>\n",
       "      <td>44.0</td>\n",
       "      <td>2.590909</td>\n",
       "      <td>-1.262363</td>\n",
       "    </tr>\n",
       "    <tr>\n",
       "      <th>123</th>\n",
       "      <td>Frighteners, The (1996)</td>\n",
       "      <td>99.0</td>\n",
       "      <td>3.262626</td>\n",
       "      <td>-1.213877</td>\n",
       "    </tr>\n",
       "    <tr>\n",
       "      <th>759</th>\n",
       "      <td>Fair Game (1995)</td>\n",
       "      <td>7.0</td>\n",
       "      <td>2.000000</td>\n",
       "      <td>-1.207318</td>\n",
       "    </tr>\n",
       "    <tr>\n",
       "      <th>384</th>\n",
       "      <td>Naked Gun 33 1/3: The Final Insult (1994)</td>\n",
       "      <td>57.0</td>\n",
       "      <td>2.789474</td>\n",
       "      <td>-1.189662</td>\n",
       "    </tr>\n",
       "    <tr>\n",
       "      <th>688</th>\n",
       "      <td>Leave It to Beaver (1997)</td>\n",
       "      <td>37.0</td>\n",
       "      <td>1.837838</td>\n",
       "      <td>-1.160458</td>\n",
       "    </tr>\n",
       "    <tr>\n",
       "      <th>989</th>\n",
       "      <td>Cats Don't Dance (1997)</td>\n",
       "      <td>26.0</td>\n",
       "      <td>2.730769</td>\n",
       "      <td>-1.122948</td>\n",
       "    </tr>\n",
       "  </tbody>\n",
       "</table>\n",
       "</div>"
      ],
      "text/plain": [
       "                                        movie_title  num_ratings  avg_rating  \\\n",
       "movie_id                                                                       \n",
       "689                              Jackal, The (1997)         72.0    3.194444   \n",
       "891                                     Bent (1997)          6.0    2.666667   \n",
       "744                          Michael Collins (1996)         73.0    3.438356   \n",
       "369                              Black Sheep (1996)         44.0    2.590909   \n",
       "123                         Frighteners, The (1996)         99.0    3.262626   \n",
       "759                                Fair Game (1995)          7.0    2.000000   \n",
       "384       Naked Gun 33 1/3: The Final Insult (1994)         57.0    2.789474   \n",
       "688                       Leave It to Beaver (1997)         37.0    1.837838   \n",
       "989                         Cats Don't Dance (1997)         26.0    2.730769   \n",
       "\n",
       "              bias  \n",
       "movie_id            \n",
       "689      -1.325294  \n",
       "891      -1.311079  \n",
       "744      -1.277088  \n",
       "369      -1.262363  \n",
       "123      -1.213877  \n",
       "759      -1.207318  \n",
       "384      -1.189662  \n",
       "688      -1.160458  \n",
       "989      -1.122948  "
      ]
     },
     "execution_count": 49,
     "metadata": {},
     "output_type": "execute_result"
    }
   ],
   "source": [
    "bias.iloc[:-10:-1]"
   ]
  },
  {
   "cell_type": "markdown",
   "metadata": {},
   "source": [
    "# Implementations in `scikit-surprise`\n",
    "\n",
    "[Surprise](http://surpriselib.com/) contains implementations of many of the same things, so these are tested below. This same dataset is included as a built-in, but for consistency, we may as well load it from our dataframe.\n",
    "\n",
    "Results below are cross-validated, while our results above aren't, so comparison may have some noise to it (i.e. if you change the random seed you may see our results perform much better or worse while the Surprise results should be more consistent)."
   ]
  },
  {
   "cell_type": "code",
   "execution_count": 50,
   "metadata": {
    "collapsed": true
   },
   "outputs": [],
   "source": [
    "import surprise\n",
    "from surprise.dataset import Dataset"
   ]
  },
  {
   "cell_type": "code",
   "execution_count": 51,
   "metadata": {
    "collapsed": true
   },
   "outputs": [],
   "source": [
    "reader = surprise.Reader(rating_scale=(1, 5))\n",
    "data = Dataset.load_from_df(ml[[\"user_id\", \"movie_id\", \"rating\"]], reader)"
   ]
  },
  {
   "cell_type": "code",
   "execution_count": 52,
   "metadata": {
    "collapsed": true
   },
   "outputs": [],
   "source": [
    "cv=5\n",
    "cv_random = surprise.model_selection.cross_validate(surprise.NormalPredictor(), data, cv=cv)"
   ]
  },
  {
   "cell_type": "code",
   "execution_count": 53,
   "metadata": {
    "collapsed": true
   },
   "outputs": [],
   "source": [
    "cv_sl1 = surprise.model_selection.cross_validate(surprise.SlopeOne(), data, cv=cv)"
   ]
  },
  {
   "cell_type": "code",
   "execution_count": 54,
   "metadata": {
    "collapsed": true
   },
   "outputs": [],
   "source": [
    "cv_svd = surprise.model_selection.cross_validate(surprise.SVD(), data, cv=cv)"
   ]
  },
  {
   "cell_type": "markdown",
   "metadata": {},
   "source": [
    "# Overall results"
   ]
  },
  {
   "cell_type": "code",
   "execution_count": 55,
   "metadata": {},
   "outputs": [
    {
     "data": {
      "text/html": [
       "<div>\n",
       "<style>\n",
       "    .dataframe thead tr:only-child th {\n",
       "        text-align: right;\n",
       "    }\n",
       "\n",
       "    .dataframe thead th {\n",
       "        text-align: left;\n",
       "    }\n",
       "\n",
       "    .dataframe tbody tr th {\n",
       "        vertical-align: top;\n",
       "    }\n",
       "</style>\n",
       "<table border=\"1\" class=\"dataframe\">\n",
       "  <thead>\n",
       "    <tr style=\"text-align: right;\">\n",
       "      <th></th>\n",
       "      <th>Library</th>\n",
       "      <th>Algorithm</th>\n",
       "      <th>MAE (test)</th>\n",
       "      <th>RMSE (test)</th>\n",
       "    </tr>\n",
       "  </thead>\n",
       "  <tbody>\n",
       "    <tr>\n",
       "      <th>0</th>\n",
       "      <td></td>\n",
       "      <td>Slope One</td>\n",
       "      <td>0.781966</td>\n",
       "      <td>1.015133</td>\n",
       "    </tr>\n",
       "    <tr>\n",
       "      <th>1</th>\n",
       "      <td></td>\n",
       "      <td>SVD</td>\n",
       "      <td>0.748692</td>\n",
       "      <td>0.947451</td>\n",
       "    </tr>\n",
       "    <tr>\n",
       "      <th>2</th>\n",
       "      <td>Surprise</td>\n",
       "      <td>Random</td>\n",
       "      <td>1.223467</td>\n",
       "      <td>1.522178</td>\n",
       "    </tr>\n",
       "    <tr>\n",
       "      <th>3</th>\n",
       "      <td>Surprise</td>\n",
       "      <td>Slope One</td>\n",
       "      <td>0.747814</td>\n",
       "      <td>0.953643</td>\n",
       "    </tr>\n",
       "    <tr>\n",
       "      <th>4</th>\n",
       "      <td>Surprise</td>\n",
       "      <td>SVD</td>\n",
       "      <td>0.745857</td>\n",
       "      <td>0.946181</td>\n",
       "    </tr>\n",
       "  </tbody>\n",
       "</table>\n",
       "</div>"
      ],
      "text/plain": [
       "    Library  Algorithm  MAE (test)  RMSE (test)\n",
       "0            Slope One    0.781966     1.015133\n",
       "1                  SVD    0.748692     0.947451\n",
       "2  Surprise     Random    1.223467     1.522178\n",
       "3  Surprise  Slope One    0.747814     0.953643\n",
       "4  Surprise        SVD    0.745857     0.946181"
      ]
     },
     "execution_count": 55,
     "metadata": {},
     "output_type": "execute_result"
    }
   ],
   "source": [
    "get_record = lambda name, df: \\\n",
    "    (\"Surprise\", name, df[\"test_mae\"].sum() / cv, df[\"test_rmse\"].sum() / cv)\n",
    "cv_data_surprise = [\n",
    "    get_record(name,d) for name,d in [(\"Random\", cv_random), (\"Slope One\", cv_sl1), (\"SVD\", cv_svd)]\n",
    "]\n",
    "pd.DataFrame.from_records(\n",
    "    data=test_results + cv_data_surprise,\n",
    "    columns=(\"Library\", \"Algorithm\", \"MAE (test)\", \"RMSE (test)\"),\n",
    ")"
   ]
  },
  {
   "cell_type": "markdown",
   "metadata": {},
   "source": [
    "# Example Submission"
   ]
  },
  {
   "cell_type": "code",
   "execution_count": 56,
   "metadata": {
    "collapsed": true
   },
   "outputs": [],
   "source": [
    "test_X = pd.read_csv(\"ml-100k/u_test.data\", sep=\"\\t\", header=None,\n",
    "                     names=(\"index\",\"user_id\", \"movie_id\"))"
   ]
  },
  {
   "cell_type": "code",
   "execution_count": 57,
   "metadata": {
    "collapsed": true
   },
   "outputs": [],
   "source": [
    "algo = surprise.NormalPredictor()\n",
    "trainset = data.build_full_trainset()\n",
    "algo.fit(trainset)\n",
    "\n",
    "test_y = [algo.predict(str(r.user_id), str(r.movie_id)).est\n",
    "          for r in test_X.itertuples()]"
   ]
  },
  {
   "cell_type": "code",
   "execution_count": 58,
   "metadata": {
    "collapsed": true
   },
   "outputs": [],
   "source": [
    "submission = pd.DataFrame.from_items([(\"rating\", test_y)])\n",
    "submission.to_csv(\"submission.csv\", index=True, index_label=\"index\")"
   ]
  }
 ],
 "metadata": {
  "kernelspec": {
   "display_name": "Python 3",
   "language": "python",
   "name": "python3"
  },
  "language_info": {
   "codemirror_mode": {
    "name": "ipython",
    "version": 3
   },
   "file_extension": ".py",
   "mimetype": "text/x-python",
   "name": "python",
   "nbconvert_exporter": "python",
   "pygments_lexer": "ipython3",
   "version": "3.6.4"
  }
 },
 "nbformat": 4,
 "nbformat_minor": 2
}
